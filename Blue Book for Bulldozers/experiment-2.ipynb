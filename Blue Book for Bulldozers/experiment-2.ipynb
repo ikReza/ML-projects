{
 "cells": [
  {
   "cell_type": "markdown",
   "metadata": {},
   "source": [
    "### steps\n",
    "\n",
    "1. load `TrainAndValid.csv` file with `low_memory=False, parse_dates=[\"saledate\"]`\n",
    "2. sort the dataset with saledate in ascending order\n",
    "3. drop the features that have more than 350000 missing values\n",
    "4. fill the missing values of numerical features with the median value\n",
    "5. turn the string/object datatype features to category\n",
    "6. add binary columns to strore the information whether it has missing values\n",
    "7. Turn the categories into number and add 1, because if there is missing values, it's value will be $-1$. So, to make the numbers non-negative, 1 is added.\n",
    "8. split our dataset into train and valid\n",
    "9. using RandomizedSearchCV to search the best parameters for an algorithm"
   ]
  },
  {
   "cell_type": "code",
   "execution_count": 1,
   "metadata": {},
   "outputs": [],
   "source": [
    "import pandas as pd\n",
    "import numpy as np\n",
    "import matplotlib.pyplot as plt\n",
    "import seaborn as sns\n",
    "plt.style.use(\"default\")"
   ]
  },
  {
   "cell_type": "code",
   "execution_count": 2,
   "metadata": {},
   "outputs": [
    {
     "data": {
      "text/html": [
       "<div>\n",
       "<style scoped>\n",
       "    .dataframe tbody tr th:only-of-type {\n",
       "        vertical-align: middle;\n",
       "    }\n",
       "\n",
       "    .dataframe tbody tr th {\n",
       "        vertical-align: top;\n",
       "    }\n",
       "\n",
       "    .dataframe thead th {\n",
       "        text-align: right;\n",
       "    }\n",
       "</style>\n",
       "<table border=\"1\" class=\"dataframe\">\n",
       "  <thead>\n",
       "    <tr style=\"text-align: right;\">\n",
       "      <th></th>\n",
       "      <th>SalesID</th>\n",
       "      <th>SalePrice</th>\n",
       "      <th>MachineID</th>\n",
       "      <th>ModelID</th>\n",
       "      <th>datasource</th>\n",
       "      <th>auctioneerID</th>\n",
       "      <th>YearMade</th>\n",
       "      <th>MachineHoursCurrentMeter</th>\n",
       "      <th>UsageBand</th>\n",
       "      <th>saledate</th>\n",
       "      <th>...</th>\n",
       "      <th>Undercarriage_Pad_Width</th>\n",
       "      <th>Stick_Length</th>\n",
       "      <th>Thumb</th>\n",
       "      <th>Pattern_Changer</th>\n",
       "      <th>Grouser_Type</th>\n",
       "      <th>Backhoe_Mounting</th>\n",
       "      <th>Blade_Type</th>\n",
       "      <th>Travel_Controls</th>\n",
       "      <th>Differential_Type</th>\n",
       "      <th>Steering_Controls</th>\n",
       "    </tr>\n",
       "  </thead>\n",
       "  <tbody>\n",
       "    <tr>\n",
       "      <td>0</td>\n",
       "      <td>1139246</td>\n",
       "      <td>66000.0</td>\n",
       "      <td>999089</td>\n",
       "      <td>3157</td>\n",
       "      <td>121</td>\n",
       "      <td>3.0</td>\n",
       "      <td>2004</td>\n",
       "      <td>68.0</td>\n",
       "      <td>Low</td>\n",
       "      <td>2006-11-16</td>\n",
       "      <td>...</td>\n",
       "      <td>NaN</td>\n",
       "      <td>NaN</td>\n",
       "      <td>NaN</td>\n",
       "      <td>NaN</td>\n",
       "      <td>NaN</td>\n",
       "      <td>NaN</td>\n",
       "      <td>NaN</td>\n",
       "      <td>NaN</td>\n",
       "      <td>Standard</td>\n",
       "      <td>Conventional</td>\n",
       "    </tr>\n",
       "    <tr>\n",
       "      <td>1</td>\n",
       "      <td>1139248</td>\n",
       "      <td>57000.0</td>\n",
       "      <td>117657</td>\n",
       "      <td>77</td>\n",
       "      <td>121</td>\n",
       "      <td>3.0</td>\n",
       "      <td>1996</td>\n",
       "      <td>4640.0</td>\n",
       "      <td>Low</td>\n",
       "      <td>2004-03-26</td>\n",
       "      <td>...</td>\n",
       "      <td>NaN</td>\n",
       "      <td>NaN</td>\n",
       "      <td>NaN</td>\n",
       "      <td>NaN</td>\n",
       "      <td>NaN</td>\n",
       "      <td>NaN</td>\n",
       "      <td>NaN</td>\n",
       "      <td>NaN</td>\n",
       "      <td>Standard</td>\n",
       "      <td>Conventional</td>\n",
       "    </tr>\n",
       "    <tr>\n",
       "      <td>2</td>\n",
       "      <td>1139249</td>\n",
       "      <td>10000.0</td>\n",
       "      <td>434808</td>\n",
       "      <td>7009</td>\n",
       "      <td>121</td>\n",
       "      <td>3.0</td>\n",
       "      <td>2001</td>\n",
       "      <td>2838.0</td>\n",
       "      <td>High</td>\n",
       "      <td>2004-02-26</td>\n",
       "      <td>...</td>\n",
       "      <td>NaN</td>\n",
       "      <td>NaN</td>\n",
       "      <td>NaN</td>\n",
       "      <td>NaN</td>\n",
       "      <td>NaN</td>\n",
       "      <td>NaN</td>\n",
       "      <td>NaN</td>\n",
       "      <td>NaN</td>\n",
       "      <td>NaN</td>\n",
       "      <td>NaN</td>\n",
       "    </tr>\n",
       "  </tbody>\n",
       "</table>\n",
       "<p>3 rows × 53 columns</p>\n",
       "</div>"
      ],
      "text/plain": [
       "   SalesID  SalePrice  MachineID  ModelID  datasource  auctioneerID  YearMade  \\\n",
       "0  1139246    66000.0     999089     3157         121           3.0      2004   \n",
       "1  1139248    57000.0     117657       77         121           3.0      1996   \n",
       "2  1139249    10000.0     434808     7009         121           3.0      2001   \n",
       "\n",
       "   MachineHoursCurrentMeter UsageBand   saledate  ... Undercarriage_Pad_Width  \\\n",
       "0                      68.0       Low 2006-11-16  ...                     NaN   \n",
       "1                    4640.0       Low 2004-03-26  ...                     NaN   \n",
       "2                    2838.0      High 2004-02-26  ...                     NaN   \n",
       "\n",
       "  Stick_Length Thumb Pattern_Changer Grouser_Type Backhoe_Mounting Blade_Type  \\\n",
       "0          NaN   NaN             NaN          NaN              NaN        NaN   \n",
       "1          NaN   NaN             NaN          NaN              NaN        NaN   \n",
       "2          NaN   NaN             NaN          NaN              NaN        NaN   \n",
       "\n",
       "  Travel_Controls Differential_Type Steering_Controls  \n",
       "0             NaN          Standard      Conventional  \n",
       "1             NaN          Standard      Conventional  \n",
       "2             NaN               NaN               NaN  \n",
       "\n",
       "[3 rows x 53 columns]"
      ]
     },
     "execution_count": 2,
     "metadata": {},
     "output_type": "execute_result"
    }
   ],
   "source": [
    "df = pd.read_csv(\"data/TrainAndValid.csv\",\n",
    "                 low_memory=False,\n",
    "                 parse_dates=[\"saledate\"])\n",
    "df.head(3)"
   ]
  },
  {
   "cell_type": "code",
   "execution_count": 8,
   "metadata": {},
   "outputs": [
    {
     "data": {
      "text/plain": [
       "SalesID                          0\n",
       "SalePrice                        0\n",
       "MachineID                        0\n",
       "ModelID                          0\n",
       "datasource                       0\n",
       "auctioneerID                 20136\n",
       "YearMade                         0\n",
       "MachineHoursCurrentMeter    265194\n",
       "UsageBand                   339028\n",
       "saledate                         0\n",
       "fiModelDesc                      0\n",
       "fiBaseModel                      0\n",
       "fiSecondaryDesc             140727\n",
       "fiModelSeries               354031\n",
       "fiModelDescriptor           337882\n",
       "ProductSize                 216605\n",
       "fiProductClassDesc               0\n",
       "state                            0\n",
       "ProductGroup                     0\n",
       "ProductGroupDesc                 0\n",
       "Drive_System                305611\n",
       "Enclosure                      334\n",
       "Forks                       214983\n",
       "Pad_Type                    331602\n",
       "Ride_Control                259970\n",
       "Stick                       331602\n",
       "Transmission                224691\n",
       "Turbocharged                331602\n",
       "Blade_Extension             386715\n",
       "Blade_Width                 386715\n",
       "Enclosure_Type              386715\n",
       "Engine_Horsepower           386715\n",
       "Hydraulics                   82565\n",
       "Pushblock                   386715\n",
       "Ripper                      305753\n",
       "Scarifier                   386704\n",
       "Tip_Control                 386715\n",
       "Tire_Size                   315060\n",
       "Coupler                     192019\n",
       "Coupler_System              367724\n",
       "Grouser_Tracks              367823\n",
       "Hydraulics_Flow             367823\n",
       "Track_Type                  310505\n",
       "Undercarriage_Pad_Width     309782\n",
       "Stick_Length                310437\n",
       "Thumb                       310366\n",
       "Pattern_Changer             310437\n",
       "Grouser_Type                310505\n",
       "Backhoe_Mounting            331986\n",
       "Blade_Type                  330823\n",
       "Travel_Controls             330821\n",
       "Differential_Type           341134\n",
       "Steering_Controls           341176\n",
       "dtype: int64"
      ]
     },
     "execution_count": 8,
     "metadata": {},
     "output_type": "execute_result"
    }
   ],
   "source": [
    "df.isna().sum()"
   ]
  },
  {
   "cell_type": "code",
   "execution_count": 4,
   "metadata": {},
   "outputs": [
    {
     "data": {
      "text/plain": [
       "(412698, 53)"
      ]
     },
     "execution_count": 4,
     "metadata": {},
     "output_type": "execute_result"
    }
   ],
   "source": [
    "df.shape"
   ]
  },
  {
   "cell_type": "code",
   "execution_count": 9,
   "metadata": {},
   "outputs": [
    {
     "data": {
      "text/html": [
       "<div>\n",
       "<style scoped>\n",
       "    .dataframe tbody tr th:only-of-type {\n",
       "        vertical-align: middle;\n",
       "    }\n",
       "\n",
       "    .dataframe tbody tr th {\n",
       "        vertical-align: top;\n",
       "    }\n",
       "\n",
       "    .dataframe thead th {\n",
       "        text-align: right;\n",
       "    }\n",
       "</style>\n",
       "<table border=\"1\" class=\"dataframe\">\n",
       "  <thead>\n",
       "    <tr style=\"text-align: right;\">\n",
       "      <th></th>\n",
       "      <th>SalesID</th>\n",
       "      <th>SalePrice</th>\n",
       "      <th>MachineID</th>\n",
       "      <th>ModelID</th>\n",
       "      <th>datasource</th>\n",
       "      <th>auctioneerID</th>\n",
       "      <th>YearMade</th>\n",
       "      <th>MachineHoursCurrentMeter</th>\n",
       "    </tr>\n",
       "  </thead>\n",
       "  <tbody>\n",
       "    <tr>\n",
       "      <td>count</td>\n",
       "      <td>4.126980e+05</td>\n",
       "      <td>412698.000000</td>\n",
       "      <td>4.126980e+05</td>\n",
       "      <td>412698.000000</td>\n",
       "      <td>412698.000000</td>\n",
       "      <td>392562.000000</td>\n",
       "      <td>412698.000000</td>\n",
       "      <td>1.475040e+05</td>\n",
       "    </tr>\n",
       "    <tr>\n",
       "      <td>mean</td>\n",
       "      <td>2.011161e+06</td>\n",
       "      <td>31215.181414</td>\n",
       "      <td>1.230061e+06</td>\n",
       "      <td>6947.201828</td>\n",
       "      <td>135.169361</td>\n",
       "      <td>6.585268</td>\n",
       "      <td>1899.049637</td>\n",
       "      <td>3.522988e+03</td>\n",
       "    </tr>\n",
       "    <tr>\n",
       "      <td>std</td>\n",
       "      <td>1.080068e+06</td>\n",
       "      <td>23141.743695</td>\n",
       "      <td>4.539533e+05</td>\n",
       "      <td>6280.824982</td>\n",
       "      <td>9.646749</td>\n",
       "      <td>17.158409</td>\n",
       "      <td>292.190243</td>\n",
       "      <td>2.716993e+04</td>\n",
       "    </tr>\n",
       "    <tr>\n",
       "      <td>min</td>\n",
       "      <td>1.139246e+06</td>\n",
       "      <td>4750.000000</td>\n",
       "      <td>0.000000e+00</td>\n",
       "      <td>28.000000</td>\n",
       "      <td>121.000000</td>\n",
       "      <td>0.000000</td>\n",
       "      <td>1000.000000</td>\n",
       "      <td>0.000000e+00</td>\n",
       "    </tr>\n",
       "    <tr>\n",
       "      <td>25%</td>\n",
       "      <td>1.421898e+06</td>\n",
       "      <td>14500.000000</td>\n",
       "      <td>1.088593e+06</td>\n",
       "      <td>3261.000000</td>\n",
       "      <td>132.000000</td>\n",
       "      <td>1.000000</td>\n",
       "      <td>1985.000000</td>\n",
       "      <td>0.000000e+00</td>\n",
       "    </tr>\n",
       "    <tr>\n",
       "      <td>50%</td>\n",
       "      <td>1.645852e+06</td>\n",
       "      <td>24000.000000</td>\n",
       "      <td>1.284397e+06</td>\n",
       "      <td>4605.000000</td>\n",
       "      <td>132.000000</td>\n",
       "      <td>2.000000</td>\n",
       "      <td>1995.000000</td>\n",
       "      <td>0.000000e+00</td>\n",
       "    </tr>\n",
       "    <tr>\n",
       "      <td>75%</td>\n",
       "      <td>2.261012e+06</td>\n",
       "      <td>40000.000000</td>\n",
       "      <td>1.478079e+06</td>\n",
       "      <td>8899.000000</td>\n",
       "      <td>136.000000</td>\n",
       "      <td>4.000000</td>\n",
       "      <td>2001.000000</td>\n",
       "      <td>3.209000e+03</td>\n",
       "    </tr>\n",
       "    <tr>\n",
       "      <td>max</td>\n",
       "      <td>6.333349e+06</td>\n",
       "      <td>142000.000000</td>\n",
       "      <td>2.486330e+06</td>\n",
       "      <td>37198.000000</td>\n",
       "      <td>173.000000</td>\n",
       "      <td>99.000000</td>\n",
       "      <td>2014.000000</td>\n",
       "      <td>2.483300e+06</td>\n",
       "    </tr>\n",
       "  </tbody>\n",
       "</table>\n",
       "</div>"
      ],
      "text/plain": [
       "            SalesID      SalePrice     MachineID        ModelID  \\\n",
       "count  4.126980e+05  412698.000000  4.126980e+05  412698.000000   \n",
       "mean   2.011161e+06   31215.181414  1.230061e+06    6947.201828   \n",
       "std    1.080068e+06   23141.743695  4.539533e+05    6280.824982   \n",
       "min    1.139246e+06    4750.000000  0.000000e+00      28.000000   \n",
       "25%    1.421898e+06   14500.000000  1.088593e+06    3261.000000   \n",
       "50%    1.645852e+06   24000.000000  1.284397e+06    4605.000000   \n",
       "75%    2.261012e+06   40000.000000  1.478079e+06    8899.000000   \n",
       "max    6.333349e+06  142000.000000  2.486330e+06   37198.000000   \n",
       "\n",
       "          datasource   auctioneerID       YearMade  MachineHoursCurrentMeter  \n",
       "count  412698.000000  392562.000000  412698.000000              1.475040e+05  \n",
       "mean      135.169361       6.585268    1899.049637              3.522988e+03  \n",
       "std         9.646749      17.158409     292.190243              2.716993e+04  \n",
       "min       121.000000       0.000000    1000.000000              0.000000e+00  \n",
       "25%       132.000000       1.000000    1985.000000              0.000000e+00  \n",
       "50%       132.000000       2.000000    1995.000000              0.000000e+00  \n",
       "75%       136.000000       4.000000    2001.000000              3.209000e+03  \n",
       "max       173.000000      99.000000    2014.000000              2.483300e+06  "
      ]
     },
     "execution_count": 9,
     "metadata": {},
     "output_type": "execute_result"
    }
   ],
   "source": [
    "df.describe()"
   ]
  },
  {
   "cell_type": "markdown",
   "metadata": {},
   "source": [
    "#### Sort dataframe by saledate"
   ]
  },
  {
   "cell_type": "code",
   "execution_count": 3,
   "metadata": {},
   "outputs": [
    {
     "data": {
      "text/plain": [
       "205615   1989-01-17\n",
       "274835   1989-01-31\n",
       "141296   1989-01-31\n",
       "212552   1989-01-31\n",
       "62755    1989-01-31\n",
       "Name: saledate, dtype: datetime64[ns]"
      ]
     },
     "execution_count": 3,
     "metadata": {},
     "output_type": "execute_result"
    }
   ],
   "source": [
    "# pandas uses quicksort algorithm for sorting by default. Others available: heapsort, mergesort\n",
    "df.sort_values(by=[\"saledate\"], inplace=True)\n",
    "df.saledate.head()"
   ]
  },
  {
   "cell_type": "markdown",
   "metadata": {},
   "source": [
    "#### missing data visualization"
   ]
  },
  {
   "cell_type": "code",
   "execution_count": 29,
   "metadata": {},
   "outputs": [],
   "source": [
    "import missingno"
   ]
  },
  {
   "cell_type": "code",
   "execution_count": 30,
   "metadata": {},
   "outputs": [
    {
     "data": {
      "image/png": "[encoded data removed]",
      "text/plain": [
       "<Figure size 1800x720 with 2 Axes>"
      ]
     },
     "metadata": {
      "needs_background": "light"
     },
     "output_type": "display_data"
    }
   ],
   "source": [
    "missingno.matrix(df.iloc[:, :20]);"
   ]
  },
  {
   "cell_type": "code",
   "execution_count": 31,
   "metadata": {},
   "outputs": [
    {
     "data": {
      "image/png": "[encoded data removed]",
      "text/plain": [
       "<Figure size 1800x720 with 2 Axes>"
      ]
     },
     "metadata": {
      "needs_background": "light"
     },
     "output_type": "display_data"
    }
   ],
   "source": [
    "missingno.matrix(df.iloc[:, 20:40]);"
   ]
  },
  {
   "cell_type": "code",
   "execution_count": 32,
   "metadata": {},
   "outputs": [
    {
     "data": {
      "image/png": "[encoded data removed]",
      "text/plain": [
       "<Figure size 1800x720 with 2 Axes>"
      ]
     },
     "metadata": {
      "needs_background": "light"
     },
     "output_type": "display_data"
    }
   ],
   "source": [
    "missingno.matrix(df.iloc[:, 40:]);"
   ]
  },
  {
   "cell_type": "markdown",
   "metadata": {},
   "source": [
    "#### Dataset length=412698, dropping the features that have more than 350000 missing values"
   ]
  },
  {
   "cell_type": "code",
   "execution_count": 4,
   "metadata": {},
   "outputs": [],
   "source": [
    "null_values = dict(df.isna().sum())"
   ]
  },
  {
   "cell_type": "code",
   "execution_count": 5,
   "metadata": {},
   "outputs": [],
   "source": [
    "most_missing_features = []\n",
    "for key, val in null_values.items():\n",
    "    if val > 350000:\n",
    "        most_missing_features.append(key)"
   ]
  },
  {
   "cell_type": "code",
   "execution_count": 7,
   "metadata": {},
   "outputs": [
    {
     "data": {
      "text/plain": [
       "['fiModelSeries',\n",
       " 'Blade_Extension',\n",
       " 'Blade_Width',\n",
       " 'Enclosure_Type',\n",
       " 'Engine_Horsepower',\n",
       " 'Pushblock',\n",
       " 'Scarifier',\n",
       " 'Tip_Control',\n",
       " 'Coupler_System',\n",
       " 'Grouser_Tracks',\n",
       " 'Hydraulics_Flow']"
      ]
     },
     "execution_count": 7,
     "metadata": {},
     "output_type": "execute_result"
    }
   ],
   "source": [
    "most_missing_features"
   ]
  },
  {
   "cell_type": "markdown",
   "metadata": {},
   "source": [
    "#### making a copy of the dataset"
   ]
  },
  {
   "cell_type": "code",
   "execution_count": 7,
   "metadata": {},
   "outputs": [],
   "source": [
    "df_tmp = df.copy()"
   ]
  },
  {
   "cell_type": "code",
   "execution_count": 40,
   "metadata": {},
   "outputs": [
    {
     "data": {
      "text/plain": [
       "205615   1989-01-17\n",
       "274835   1989-01-31\n",
       "141296   1989-01-31\n",
       "212552   1989-01-31\n",
       "62755    1989-01-31\n",
       "Name: saledate, dtype: datetime64[ns]"
      ]
     },
     "execution_count": 40,
     "metadata": {},
     "output_type": "execute_result"
    }
   ],
   "source": [
    "df_tmp.saledate[:5]"
   ]
  },
  {
   "cell_type": "code",
   "execution_count": 8,
   "metadata": {},
   "outputs": [],
   "source": [
    "for val in most_missing_features:\n",
    "    df_tmp.drop(val, axis=1, inplace=True)"
   ]
  },
  {
   "cell_type": "code",
   "execution_count": 10,
   "metadata": {},
   "outputs": [
    {
     "data": {
      "text/plain": [
       "((412698, 53), (412698, 42))"
      ]
     },
     "execution_count": 10,
     "metadata": {},
     "output_type": "execute_result"
    }
   ],
   "source": [
    "df.shape, df_tmp.shape"
   ]
  },
  {
   "cell_type": "markdown",
   "metadata": {},
   "source": [
    "### Using pandas datetime API"
   ]
  },
  {
   "cell_type": "code",
   "execution_count": 9,
   "metadata": {},
   "outputs": [],
   "source": [
    "df_tmp[\"saleYear\"] = df_tmp.saledate.dt.year\n",
    "df_tmp[\"saleMonth\"] = df_tmp.saledate.dt.month\n",
    "df_tmp[\"saleDate\"] = df_tmp.saledate.dt.day\n",
    "df_tmp[\"saleDayOfWeek\"] = df_tmp.saledate.dt.dayofweek\n",
    "df_tmp[\"saleDayOfYear\"] = df_tmp.saledate.dt.dayofyear"
   ]
  },
  {
   "cell_type": "code",
   "execution_count": 45,
   "metadata": {},
   "outputs": [
    {
     "data": {
      "text/plain": [
       "(412698, 47)"
      ]
     },
     "execution_count": 45,
     "metadata": {},
     "output_type": "execute_result"
    }
   ],
   "source": [
    "df_tmp.shape"
   ]
  },
  {
   "cell_type": "markdown",
   "metadata": {},
   "source": [
    "#### dropping `saledate` column"
   ]
  },
  {
   "cell_type": "code",
   "execution_count": 10,
   "metadata": {},
   "outputs": [
    {
     "data": {
      "text/plain": [
       "(412698, 46)"
      ]
     },
     "execution_count": 10,
     "metadata": {},
     "output_type": "execute_result"
    }
   ],
   "source": [
    "df_tmp.drop(\"saledate\", axis=1, inplace=True)\n",
    "df_tmp.shape"
   ]
  },
  {
   "cell_type": "code",
   "execution_count": 47,
   "metadata": {},
   "outputs": [
    {
     "data": {
      "text/plain": [
       "Index(['SalesID', 'SalePrice', 'MachineID', 'ModelID', 'datasource',\n",
       "       'auctioneerID', 'YearMade', 'MachineHoursCurrentMeter', 'UsageBand',\n",
       "       'fiModelDesc', 'fiBaseModel', 'fiSecondaryDesc', 'fiModelDescriptor',\n",
       "       'ProductSize', 'fiProductClassDesc', 'state', 'ProductGroup',\n",
       "       'ProductGroupDesc', 'Drive_System', 'Enclosure', 'Forks', 'Pad_Type',\n",
       "       'Ride_Control', 'Stick', 'Transmission', 'Turbocharged', 'Hydraulics',\n",
       "       'Ripper', 'Tire_Size', 'Coupler', 'Track_Type',\n",
       "       'Undercarriage_Pad_Width', 'Stick_Length', 'Thumb', 'Pattern_Changer',\n",
       "       'Grouser_Type', 'Backhoe_Mounting', 'Blade_Type', 'Travel_Controls',\n",
       "       'Differential_Type', 'Steering_Controls', 'saleYear', 'saleMonth',\n",
       "       'saleDate', 'saleDayOfWeek', 'saleDayOfYear'],\n",
       "      dtype='object')"
      ]
     },
     "execution_count": 47,
     "metadata": {},
     "output_type": "execute_result"
    }
   ],
   "source": [
    "df_tmp.columns"
   ]
  },
  {
   "cell_type": "markdown",
   "metadata": {},
   "source": [
    "## fill the columns that have numerical missing values"
   ]
  },
  {
   "cell_type": "code",
   "execution_count": 48,
   "metadata": {},
   "outputs": [
    {
     "name": "stdout",
     "output_type": "stream",
     "text": [
      "auctioneerID\n",
      "MachineHoursCurrentMeter\n"
     ]
    }
   ],
   "source": [
    "for label, content in df_tmp.items():\n",
    "    if pd.api.types.is_numeric_dtype(content):\n",
    "        if pd.isnull(content).sum():\n",
    "            print(label)"
   ]
  },
  {
   "cell_type": "code",
   "execution_count": 51,
   "metadata": {},
   "outputs": [
    {
     "data": {
      "text/plain": [
       "count    392562.000000\n",
       "mean          6.585268\n",
       "std          17.158409\n",
       "min           0.000000\n",
       "25%           1.000000\n",
       "50%           2.000000\n",
       "75%           4.000000\n",
       "max          99.000000\n",
       "Name: auctioneerID, dtype: float64"
      ]
     },
     "execution_count": 51,
     "metadata": {},
     "output_type": "execute_result"
    }
   ],
   "source": [
    "df_tmp.auctioneerID.describe()"
   ]
  },
  {
   "cell_type": "code",
   "execution_count": 52,
   "metadata": {},
   "outputs": [
    {
     "data": {
      "text/plain": [
       "2.0"
      ]
     },
     "execution_count": 52,
     "metadata": {},
     "output_type": "execute_result"
    }
   ],
   "source": [
    "df_tmp.auctioneerID.median()"
   ]
  },
  {
   "cell_type": "code",
   "execution_count": 11,
   "metadata": {},
   "outputs": [],
   "source": [
    "df_tmp.fillna(value=df_tmp.auctioneerID.median(), inplace=True)"
   ]
  },
  {
   "cell_type": "code",
   "execution_count": 58,
   "metadata": {},
   "outputs": [
    {
     "data": {
      "text/plain": [
       "(0, 20136)"
      ]
     },
     "execution_count": 58,
     "metadata": {},
     "output_type": "execute_result"
    }
   ],
   "source": [
    "df_tmp.auctioneerID.isna().sum(), df.auctioneerID.isna().sum()"
   ]
  },
  {
   "cell_type": "code",
   "execution_count": 59,
   "metadata": {},
   "outputs": [
    {
     "data": {
      "image/png": "[encoded data removed]",
      "text/plain": [
       "<Figure size 640x480 with 1 Axes>"
      ]
     },
     "metadata": {},
     "output_type": "display_data"
    }
   ],
   "source": [
    "sns.distplot(df_tmp.auctioneerID);"
   ]
  },
  {
   "cell_type": "code",
   "execution_count": 76,
   "metadata": {},
   "outputs": [
    {
     "data": {
      "text/plain": [
       "12042"
      ]
     },
     "execution_count": 76,
     "metadata": {},
     "output_type": "execute_result"
    }
   ],
   "source": [
    "len(df_tmp.loc[df_tmp['auctioneerID'] == 99])"
   ]
  },
  {
   "cell_type": "code",
   "execution_count": 77,
   "metadata": {},
   "outputs": [
    {
     "data": {
      "text/plain": [
       "count    4.126980e+05\n",
       "mean     1.260450e+03\n",
       "std      1.633067e+04\n",
       "min      0.000000e+00\n",
       "25%      2.000000e+00\n",
       "50%      2.000000e+00\n",
       "75%      2.000000e+00\n",
       "max      2.483300e+06\n",
       "Name: MachineHoursCurrentMeter, dtype: float64"
      ]
     },
     "execution_count": 77,
     "metadata": {},
     "output_type": "execute_result"
    }
   ],
   "source": [
    "df_tmp.MachineHoursCurrentMeter.describe()"
   ]
  },
  {
   "cell_type": "code",
   "execution_count": 78,
   "metadata": {},
   "outputs": [
    {
     "data": {
      "text/plain": [
       "2.0"
      ]
     },
     "execution_count": 78,
     "metadata": {},
     "output_type": "execute_result"
    }
   ],
   "source": [
    "df_tmp.MachineHoursCurrentMeter.median()"
   ]
  },
  {
   "cell_type": "code",
   "execution_count": 12,
   "metadata": {},
   "outputs": [],
   "source": [
    "df_tmp.fillna(value=df_tmp.MachineHoursCurrentMeter.median(), inplace=True)"
   ]
  },
  {
   "cell_type": "code",
   "execution_count": 80,
   "metadata": {},
   "outputs": [
    {
     "data": {
      "text/plain": [
       "(0, 265194)"
      ]
     },
     "execution_count": 80,
     "metadata": {},
     "output_type": "execute_result"
    }
   ],
   "source": [
    "df_tmp.MachineHoursCurrentMeter.isna().sum(), df.MachineHoursCurrentMeter.isna().sum()"
   ]
  },
  {
   "cell_type": "markdown",
   "metadata": {},
   "source": [
    "## fill the columns that have missing string values"
   ]
  },
  {
   "cell_type": "code",
   "execution_count": 81,
   "metadata": {},
   "outputs": [
    {
     "data": {
      "text/plain": [
       "SalesID                       int64\n",
       "SalePrice                   float64\n",
       "MachineID                     int64\n",
       "ModelID                       int64\n",
       "datasource                    int64\n",
       "auctioneerID                float64\n",
       "YearMade                      int64\n",
       "MachineHoursCurrentMeter    float64\n",
       "UsageBand                    object\n",
       "fiModelDesc                  object\n",
       "fiBaseModel                  object\n",
       "fiSecondaryDesc              object\n",
       "fiModelDescriptor            object\n",
       "ProductSize                  object\n",
       "fiProductClassDesc           object\n",
       "state                        object\n",
       "ProductGroup                 object\n",
       "ProductGroupDesc             object\n",
       "Drive_System                 object\n",
       "Enclosure                    object\n",
       "Forks                        object\n",
       "Pad_Type                     object\n",
       "Ride_Control                 object\n",
       "Stick                        object\n",
       "Transmission                 object\n",
       "Turbocharged                 object\n",
       "Hydraulics                   object\n",
       "Ripper                       object\n",
       "Tire_Size                    object\n",
       "Coupler                      object\n",
       "Track_Type                   object\n",
       "Undercarriage_Pad_Width      object\n",
       "Stick_Length                 object\n",
       "Thumb                        object\n",
       "Pattern_Changer              object\n",
       "Grouser_Type                 object\n",
       "Backhoe_Mounting             object\n",
       "Blade_Type                   object\n",
       "Travel_Controls              object\n",
       "Differential_Type            object\n",
       "Steering_Controls            object\n",
       "saleYear                      int64\n",
       "saleMonth                     int64\n",
       "saleDate                      int64\n",
       "saleDayOfWeek                 int64\n",
       "saleDayOfYear                 int64\n",
       "dtype: object"
      ]
     },
     "execution_count": 81,
     "metadata": {},
     "output_type": "execute_result"
    }
   ],
   "source": [
    "df_tmp.dtypes"
   ]
  },
  {
   "cell_type": "code",
   "execution_count": 82,
   "metadata": {},
   "outputs": [
    {
     "name": "stdout",
     "output_type": "stream",
     "text": [
      "UsageBand\n",
      "fiModelDesc\n",
      "fiBaseModel\n",
      "fiSecondaryDesc\n",
      "fiModelDescriptor\n",
      "ProductSize\n",
      "fiProductClassDesc\n",
      "state\n",
      "ProductGroup\n",
      "ProductGroupDesc\n",
      "Drive_System\n",
      "Enclosure\n",
      "Forks\n",
      "Pad_Type\n",
      "Ride_Control\n",
      "Stick\n",
      "Transmission\n",
      "Turbocharged\n",
      "Hydraulics\n",
      "Ripper\n",
      "Tire_Size\n",
      "Coupler\n",
      "Track_Type\n",
      "Undercarriage_Pad_Width\n",
      "Stick_Length\n",
      "Thumb\n",
      "Pattern_Changer\n",
      "Grouser_Type\n",
      "Backhoe_Mounting\n",
      "Blade_Type\n",
      "Travel_Controls\n",
      "Differential_Type\n",
      "Steering_Controls\n"
     ]
    }
   ],
   "source": [
    "# check the columns that are not numeric\n",
    "for label, content in df_tmp.items():\n",
    "    if not pd.api.types.is_numeric_dtype(content):\n",
    "        print(label)"
   ]
  },
  {
   "cell_type": "markdown",
   "metadata": {},
   "source": [
    "### Turn string value into categories"
   ]
  },
  {
   "cell_type": "code",
   "execution_count": 13,
   "metadata": {},
   "outputs": [],
   "source": [
    "# label = column name(key), content = values in the column\n",
    "for label, content in df_tmp.items():\n",
    "    if pd.api.types.is_string_dtype(content):\n",
    "        df_tmp[label] = content.astype(\"category\").cat.as_ordered()"
   ]
  },
  {
   "cell_type": "code",
   "execution_count": 87,
   "metadata": {},
   "outputs": [
    {
     "data": {
      "text/plain": [
       "Index(['Alabama', 'Alaska', 'Arizona', 'Arkansas', 'California', 'Colorado',\n",
       "       'Connecticut', 'Delaware', 'Florida', 'Georgia', 'Hawaii', 'Idaho',\n",
       "       'Illinois', 'Indiana', 'Iowa', 'Kansas', 'Kentucky', 'Louisiana',\n",
       "       'Maine', 'Maryland', 'Massachusetts', 'Michigan', 'Minnesota',\n",
       "       'Mississippi', 'Missouri', 'Montana', 'Nebraska', 'Nevada',\n",
       "       'New Hampshire', 'New Jersey', 'New Mexico', 'New York',\n",
       "       'North Carolina', 'North Dakota', 'Ohio', 'Oklahoma', 'Oregon',\n",
       "       'Pennsylvania', 'Puerto Rico', 'Rhode Island', 'South Carolina',\n",
       "       'South Dakota', 'Tennessee', 'Texas', 'Unspecified', 'Utah', 'Vermont',\n",
       "       'Virginia', 'Washington', 'Washington DC', 'West Virginia', 'Wisconsin',\n",
       "       'Wyoming'],\n",
       "      dtype='object')"
      ]
     },
     "execution_count": 87,
     "metadata": {},
     "output_type": "execute_result"
    }
   ],
   "source": [
    "df_tmp.state.cat.categories\n",
    "# pd.Categorical(df_tmp[\"state\"]).categories"
   ]
  },
  {
   "cell_type": "code",
   "execution_count": 88,
   "metadata": {},
   "outputs": [
    {
     "data": {
      "text/plain": [
       "array([43,  8,  8, ...,  4,  4,  4], dtype=int8)"
      ]
     },
     "execution_count": 88,
     "metadata": {},
     "output_type": "execute_result"
    }
   ],
   "source": [
    "pd.Categorical(df_tmp[\"state\"]).codes"
   ]
  },
  {
   "cell_type": "code",
   "execution_count": 14,
   "metadata": {},
   "outputs": [],
   "source": [
    "for label, content in df_tmp.items():\n",
    "    if not pd.api.types.is_numeric_dtype(content):\n",
    "        # Add binary column\n",
    "        df_tmp[label+\"_is_missing\"] = pd.isnull(content)\n",
    "        # Turn categories into numbers and add 1\n",
    "        df_tmp[label] = pd.Categorical(df_tmp[\"state\"]).codes + 1"
   ]
  },
  {
   "cell_type": "code",
   "execution_count": 90,
   "metadata": {},
   "outputs": [
    {
     "data": {
      "text/plain": [
       "SalesID                         0\n",
       "SalePrice                       0\n",
       "MachineID                       0\n",
       "ModelID                         0\n",
       "datasource                      0\n",
       "                               ..\n",
       "Backhoe_Mounting_is_missing     0\n",
       "Blade_Type_is_missing           0\n",
       "Travel_Controls_is_missing      0\n",
       "Differential_Type_is_missing    0\n",
       "Steering_Controls_is_missing    0\n",
       "Length: 79, dtype: int64"
      ]
     },
     "execution_count": 90,
     "metadata": {},
     "output_type": "execute_result"
    }
   ],
   "source": [
    "df_tmp.isna().sum()"
   ]
  },
  {
   "cell_type": "markdown",
   "metadata": {},
   "source": [
    "### split our data into train and test"
   ]
  },
  {
   "cell_type": "code",
   "execution_count": 15,
   "metadata": {},
   "outputs": [
    {
     "data": {
      "text/plain": [
       "11573"
      ]
     },
     "execution_count": 15,
     "metadata": {},
     "output_type": "execute_result"
    }
   ],
   "source": [
    "# split data into train and validation\n",
    "df_train = df_tmp[df_tmp[\"saleYear\"] < 2012]\n",
    "df_valid = df_tmp[df_tmp[\"saleYear\"] == 2012]\n",
    "len(df_valid)"
   ]
  },
  {
   "cell_type": "code",
   "execution_count": 16,
   "metadata": {},
   "outputs": [],
   "source": [
    "# split data into X & y\n",
    "X_train, y_train = df_train.drop(\"SalePrice\", axis=1), df_train[\"SalePrice\"]\n",
    "X_valid, y_valid = df_valid.drop(\"SalePrice\", axis=1), df_valid[\"SalePrice\"]"
   ]
  },
  {
   "cell_type": "markdown",
   "metadata": {},
   "source": [
    "## Build the model"
   ]
  },
  {
   "cell_type": "markdown",
   "metadata": {},
   "source": [
    "### Try with `RandomForest`"
   ]
  },
  {
   "cell_type": "code",
   "execution_count": 17,
   "metadata": {},
   "outputs": [],
   "source": [
    "from sklearn.ensemble import RandomForestRegressor"
   ]
  },
  {
   "cell_type": "code",
   "execution_count": 95,
   "metadata": {},
   "outputs": [
    {
     "name": "stdout",
     "output_type": "stream",
     "text": [
      "Wall time: 14min 2s\n"
     ]
    },
    {
     "data": {
      "text/plain": [
       "RandomForestRegressor(n_jobs=-1, random_state=42)"
      ]
     },
     "execution_count": 95,
     "metadata": {},
     "output_type": "execute_result"
    }
   ],
   "source": [
    "%%time\n",
    "\n",
    "# Instantiating model\n",
    "model = RandomForestRegressor(n_jobs=-1, random_state=42)\n",
    "# fit the model\n",
    "model.fit(X_train, y_train)"
   ]
  },
  {
   "cell_type": "code",
   "execution_count": 18,
   "metadata": {},
   "outputs": [],
   "source": [
    "from sklearn.metrics import mean_squared_log_error, mean_absolute_error, r2_score"
   ]
  },
  {
   "cell_type": "code",
   "execution_count": 19,
   "metadata": {},
   "outputs": [],
   "source": [
    "def rmsle(y_test, y_pred):\n",
    "    \"\"\"\n",
    "    Calculate root measn squared log error between test data and predicted data\n",
    "    \"\"\"\n",
    "    return np.sqrt(mean_squared_log_error(y_test, y_pred))"
   ]
  },
  {
   "cell_type": "code",
   "execution_count": 20,
   "metadata": {},
   "outputs": [],
   "source": [
    "def show_score(model):\n",
    "    train_pred = model.predict(X_train)\n",
    "    valid_pred = model.predict(X_valid)\n",
    "    scores = {\"Training MAE\": mean_absolute_error(y_train, train_pred),\n",
    "              \"Validation MAE\": mean_absolute_error(y_valid, valid_pred),\n",
    "              \"Training RMSLE\": rmsle(y_train, train_pred),\n",
    "              \"Validation RMSLE\": rmsle(y_valid, valid_pred),\n",
    "              \"Training R^2\": r2_score(y_train, train_pred),\n",
    "              \"Validation R^2\": r2_score(y_valid, valid_pred)}\n",
    "    return scores"
   ]
  },
  {
   "cell_type": "code",
   "execution_count": 99,
   "metadata": {},
   "outputs": [
    {
     "data": {
      "text/plain": [
       "{'Training MAE': 1859.2817412028674,\n",
       " 'Validation MAE': 7618.568767821655,\n",
       " 'Training RMSLE': 0.1040700457507392,\n",
       " 'Validation RMSLE': 0.33674937487862744,\n",
       " 'Training R^2': 0.9826242692456258,\n",
       " 'Validation R^2': 0.7991921657655778}"
      ]
     },
     "execution_count": 99,
     "metadata": {},
     "output_type": "execute_result"
    }
   ],
   "source": [
    "show_score(model)"
   ]
  },
  {
   "cell_type": "code",
   "execution_count": 21,
   "metadata": {},
   "outputs": [],
   "source": [
    "from sklearn.model_selection import RandomizedSearchCV"
   ]
  },
  {
   "cell_type": "code",
   "execution_count": 101,
   "metadata": {},
   "outputs": [
    {
     "name": "stdout",
     "output_type": "stream",
     "text": [
      "Fitting 5 folds for each of 20 candidates, totalling 100 fits\n"
     ]
    },
    {
     "name": "stderr",
     "output_type": "stream",
     "text": [
      "[Parallel(n_jobs=1)]: Using backend SequentialBackend with 1 concurrent workers.\n",
      "[Parallel(n_jobs=1)]: Done 100 out of 100 | elapsed: 16.1min finished\n"
     ]
    },
    {
     "name": "stdout",
     "output_type": "stream",
     "text": [
      "Wall time: 16min 26s\n",
      "Compiler : 130 ms\n",
      "Parser   : 240 ms\n"
     ]
    },
    {
     "data": {
      "text/plain": [
       "RandomizedSearchCV(cv=5,\n",
       "                   estimator=RandomForestRegressor(n_jobs=-1, random_state=42),\n",
       "                   n_iter=20,\n",
       "                   param_distributions={'max_depth': [None, 3],\n",
       "                                        'max_features': ['auto', 'sqrt', 0.5],\n",
       "                                        'max_samples': [10000],\n",
       "                                        'min_samples_leaf': array([ 2,  4,  6,  8, 10, 12, 14, 16, 18]),\n",
       "                                        'min_samples_split': array([ 2,  4,  6,  8, 10, 12, 14, 16, 18]),\n",
       "                                        'n_estimators': array([10, 20, 30, 40, 50, 60, 70, 80, 90])},\n",
       "                   verbose=True)"
      ]
     },
     "execution_count": 101,
     "metadata": {},
     "output_type": "execute_result"
    }
   ],
   "source": [
    "%%time\n",
    "\n",
    "estimator = RandomForestRegressor(n_jobs=-1, random_state=42)\n",
    "param_distribution = {\n",
    "    \"n_estimators\": np.arange(10, 100, 10),\n",
    "    \"max_depth\": [None, 3],\n",
    "    \"min_samples_split\": np.arange(2, 20, 2),\n",
    "    \"min_samples_leaf\": np.arange(2, 20, 2),\n",
    "    \"max_features\": [\"auto\", \"sqrt\", 0.5],\n",
    "    \"max_samples\": [10000]\n",
    "}\n",
    "\n",
    "rs_model = RandomizedSearchCV(estimator,\n",
    "                              param_distribution,\n",
    "                              cv=5,\n",
    "                              n_iter=20,\n",
    "                              verbose=True)\n",
    "\n",
    "rs_model.fit(X_train, y_train)"
   ]
  },
  {
   "cell_type": "code",
   "execution_count": 106,
   "metadata": {},
   "outputs": [
    {
     "data": {
      "text/plain": [
       "Index(['mean_fit_time', 'std_fit_time', 'mean_score_time', 'std_score_time',\n",
       "       'param_n_estimators', 'param_min_samples_split',\n",
       "       'param_min_samples_leaf', 'param_max_samples', 'param_max_features',\n",
       "       'param_max_depth', 'params', 'split0_test_score', 'split1_test_score',\n",
       "       'split2_test_score', 'split3_test_score', 'split4_test_score',\n",
       "       'mean_test_score', 'std_test_score', 'rank_test_score'],\n",
       "      dtype='object')"
      ]
     },
     "execution_count": 106,
     "metadata": {},
     "output_type": "execute_result"
    }
   ],
   "source": [
    "pd.DataFrame(rs_model.cv_results_).columns"
   ]
  },
  {
   "cell_type": "code",
   "execution_count": 105,
   "metadata": {},
   "outputs": [
    {
     "data": {
      "text/html": [
       "<div>\n",
       "<style scoped>\n",
       "    .dataframe tbody tr th:only-of-type {\n",
       "        vertical-align: middle;\n",
       "    }\n",
       "\n",
       "    .dataframe tbody tr th {\n",
       "        vertical-align: top;\n",
       "    }\n",
       "\n",
       "    .dataframe thead th {\n",
       "        text-align: right;\n",
       "    }\n",
       "</style>\n",
       "<table border=\"1\" class=\"dataframe\">\n",
       "  <thead>\n",
       "    <tr style=\"text-align: right;\">\n",
       "      <th></th>\n",
       "      <th>param_n_estimators</th>\n",
       "      <th>param_max_depth</th>\n",
       "      <th>param_min_samples_split</th>\n",
       "      <th>param_min_samples_leaf</th>\n",
       "      <th>param_max_features</th>\n",
       "      <th>param_max_samples</th>\n",
       "      <th>mean_test_score</th>\n",
       "      <th>rank_test_score</th>\n",
       "    </tr>\n",
       "  </thead>\n",
       "  <tbody>\n",
       "    <tr>\n",
       "      <td>0</td>\n",
       "      <td>50</td>\n",
       "      <td>None</td>\n",
       "      <td>4</td>\n",
       "      <td>16</td>\n",
       "      <td>sqrt</td>\n",
       "      <td>10000</td>\n",
       "      <td>0.253536</td>\n",
       "      <td>13</td>\n",
       "    </tr>\n",
       "    <tr>\n",
       "      <td>1</td>\n",
       "      <td>60</td>\n",
       "      <td>None</td>\n",
       "      <td>18</td>\n",
       "      <td>6</td>\n",
       "      <td>sqrt</td>\n",
       "      <td>10000</td>\n",
       "      <td>0.287067</td>\n",
       "      <td>6</td>\n",
       "    </tr>\n",
       "    <tr>\n",
       "      <td>2</td>\n",
       "      <td>50</td>\n",
       "      <td>None</td>\n",
       "      <td>8</td>\n",
       "      <td>4</td>\n",
       "      <td>sqrt</td>\n",
       "      <td>10000</td>\n",
       "      <td>0.302311</td>\n",
       "      <td>5</td>\n",
       "    </tr>\n",
       "    <tr>\n",
       "      <td>3</td>\n",
       "      <td>10</td>\n",
       "      <td>None</td>\n",
       "      <td>16</td>\n",
       "      <td>4</td>\n",
       "      <td>sqrt</td>\n",
       "      <td>10000</td>\n",
       "      <td>0.274538</td>\n",
       "      <td>10</td>\n",
       "    </tr>\n",
       "    <tr>\n",
       "      <td>4</td>\n",
       "      <td>40</td>\n",
       "      <td>None</td>\n",
       "      <td>14</td>\n",
       "      <td>16</td>\n",
       "      <td>auto</td>\n",
       "      <td>10000</td>\n",
       "      <td>0.567780</td>\n",
       "      <td>2</td>\n",
       "    </tr>\n",
       "    <tr>\n",
       "      <td>5</td>\n",
       "      <td>20</td>\n",
       "      <td>3</td>\n",
       "      <td>12</td>\n",
       "      <td>16</td>\n",
       "      <td>0.5</td>\n",
       "      <td>10000</td>\n",
       "      <td>0.194038</td>\n",
       "      <td>17</td>\n",
       "    </tr>\n",
       "    <tr>\n",
       "      <td>6</td>\n",
       "      <td>50</td>\n",
       "      <td>3</td>\n",
       "      <td>4</td>\n",
       "      <td>8</td>\n",
       "      <td>0.5</td>\n",
       "      <td>10000</td>\n",
       "      <td>0.199005</td>\n",
       "      <td>16</td>\n",
       "    </tr>\n",
       "    <tr>\n",
       "      <td>7</td>\n",
       "      <td>40</td>\n",
       "      <td>3</td>\n",
       "      <td>2</td>\n",
       "      <td>16</td>\n",
       "      <td>sqrt</td>\n",
       "      <td>10000</td>\n",
       "      <td>0.088011</td>\n",
       "      <td>20</td>\n",
       "    </tr>\n",
       "    <tr>\n",
       "      <td>8</td>\n",
       "      <td>70</td>\n",
       "      <td>3</td>\n",
       "      <td>8</td>\n",
       "      <td>12</td>\n",
       "      <td>sqrt</td>\n",
       "      <td>10000</td>\n",
       "      <td>0.088819</td>\n",
       "      <td>19</td>\n",
       "    </tr>\n",
       "    <tr>\n",
       "      <td>9</td>\n",
       "      <td>40</td>\n",
       "      <td>None</td>\n",
       "      <td>18</td>\n",
       "      <td>6</td>\n",
       "      <td>sqrt</td>\n",
       "      <td>10000</td>\n",
       "      <td>0.286252</td>\n",
       "      <td>7</td>\n",
       "    </tr>\n",
       "    <tr>\n",
       "      <td>10</td>\n",
       "      <td>80</td>\n",
       "      <td>None</td>\n",
       "      <td>6</td>\n",
       "      <td>14</td>\n",
       "      <td>auto</td>\n",
       "      <td>10000</td>\n",
       "      <td>0.576835</td>\n",
       "      <td>1</td>\n",
       "    </tr>\n",
       "    <tr>\n",
       "      <td>11</td>\n",
       "      <td>20</td>\n",
       "      <td>None</td>\n",
       "      <td>14</td>\n",
       "      <td>18</td>\n",
       "      <td>sqrt</td>\n",
       "      <td>10000</td>\n",
       "      <td>0.242539</td>\n",
       "      <td>14</td>\n",
       "    </tr>\n",
       "    <tr>\n",
       "      <td>12</td>\n",
       "      <td>60</td>\n",
       "      <td>None</td>\n",
       "      <td>14</td>\n",
       "      <td>14</td>\n",
       "      <td>sqrt</td>\n",
       "      <td>10000</td>\n",
       "      <td>0.260500</td>\n",
       "      <td>11</td>\n",
       "    </tr>\n",
       "    <tr>\n",
       "      <td>13</td>\n",
       "      <td>70</td>\n",
       "      <td>None</td>\n",
       "      <td>6</td>\n",
       "      <td>16</td>\n",
       "      <td>0.5</td>\n",
       "      <td>10000</td>\n",
       "      <td>0.514022</td>\n",
       "      <td>3</td>\n",
       "    </tr>\n",
       "    <tr>\n",
       "      <td>14</td>\n",
       "      <td>80</td>\n",
       "      <td>None</td>\n",
       "      <td>6</td>\n",
       "      <td>16</td>\n",
       "      <td>sqrt</td>\n",
       "      <td>10000</td>\n",
       "      <td>0.255159</td>\n",
       "      <td>12</td>\n",
       "    </tr>\n",
       "    <tr>\n",
       "      <td>15</td>\n",
       "      <td>60</td>\n",
       "      <td>None</td>\n",
       "      <td>2</td>\n",
       "      <td>18</td>\n",
       "      <td>0.5</td>\n",
       "      <td>10000</td>\n",
       "      <td>0.506135</td>\n",
       "      <td>4</td>\n",
       "    </tr>\n",
       "    <tr>\n",
       "      <td>16</td>\n",
       "      <td>90</td>\n",
       "      <td>3</td>\n",
       "      <td>8</td>\n",
       "      <td>14</td>\n",
       "      <td>sqrt</td>\n",
       "      <td>10000</td>\n",
       "      <td>0.090298</td>\n",
       "      <td>18</td>\n",
       "    </tr>\n",
       "    <tr>\n",
       "      <td>17</td>\n",
       "      <td>60</td>\n",
       "      <td>None</td>\n",
       "      <td>8</td>\n",
       "      <td>8</td>\n",
       "      <td>sqrt</td>\n",
       "      <td>10000</td>\n",
       "      <td>0.281176</td>\n",
       "      <td>9</td>\n",
       "    </tr>\n",
       "    <tr>\n",
       "      <td>18</td>\n",
       "      <td>10</td>\n",
       "      <td>3</td>\n",
       "      <td>16</td>\n",
       "      <td>18</td>\n",
       "      <td>0.5</td>\n",
       "      <td>10000</td>\n",
       "      <td>0.202602</td>\n",
       "      <td>15</td>\n",
       "    </tr>\n",
       "    <tr>\n",
       "      <td>19</td>\n",
       "      <td>90</td>\n",
       "      <td>None</td>\n",
       "      <td>6</td>\n",
       "      <td>8</td>\n",
       "      <td>sqrt</td>\n",
       "      <td>10000</td>\n",
       "      <td>0.281461</td>\n",
       "      <td>8</td>\n",
       "    </tr>\n",
       "  </tbody>\n",
       "</table>\n",
       "</div>"
      ],
      "text/plain": [
       "   param_n_estimators param_max_depth param_min_samples_split  \\\n",
       "0                  50            None                       4   \n",
       "1                  60            None                      18   \n",
       "2                  50            None                       8   \n",
       "3                  10            None                      16   \n",
       "4                  40            None                      14   \n",
       "5                  20               3                      12   \n",
       "6                  50               3                       4   \n",
       "7                  40               3                       2   \n",
       "8                  70               3                       8   \n",
       "9                  40            None                      18   \n",
       "10                 80            None                       6   \n",
       "11                 20            None                      14   \n",
       "12                 60            None                      14   \n",
       "13                 70            None                       6   \n",
       "14                 80            None                       6   \n",
       "15                 60            None                       2   \n",
       "16                 90               3                       8   \n",
       "17                 60            None                       8   \n",
       "18                 10               3                      16   \n",
       "19                 90            None                       6   \n",
       "\n",
       "   param_min_samples_leaf param_max_features param_max_samples  \\\n",
       "0                      16               sqrt             10000   \n",
       "1                       6               sqrt             10000   \n",
       "2                       4               sqrt             10000   \n",
       "3                       4               sqrt             10000   \n",
       "4                      16               auto             10000   \n",
       "5                      16                0.5             10000   \n",
       "6                       8                0.5             10000   \n",
       "7                      16               sqrt             10000   \n",
       "8                      12               sqrt             10000   \n",
       "9                       6               sqrt             10000   \n",
       "10                     14               auto             10000   \n",
       "11                     18               sqrt             10000   \n",
       "12                     14               sqrt             10000   \n",
       "13                     16                0.5             10000   \n",
       "14                     16               sqrt             10000   \n",
       "15                     18                0.5             10000   \n",
       "16                     14               sqrt             10000   \n",
       "17                      8               sqrt             10000   \n",
       "18                     18                0.5             10000   \n",
       "19                      8               sqrt             10000   \n",
       "\n",
       "    mean_test_score  rank_test_score  \n",
       "0          0.253536               13  \n",
       "1          0.287067                6  \n",
       "2          0.302311                5  \n",
       "3          0.274538               10  \n",
       "4          0.567780                2  \n",
       "5          0.194038               17  \n",
       "6          0.199005               16  \n",
       "7          0.088011               20  \n",
       "8          0.088819               19  \n",
       "9          0.286252                7  \n",
       "10         0.576835                1  \n",
       "11         0.242539               14  \n",
       "12         0.260500               11  \n",
       "13         0.514022                3  \n",
       "14         0.255159               12  \n",
       "15         0.506135                4  \n",
       "16         0.090298               18  \n",
       "17         0.281176                9  \n",
       "18         0.202602               15  \n",
       "19         0.281461                8  "
      ]
     },
     "execution_count": 105,
     "metadata": {},
     "output_type": "execute_result"
    }
   ],
   "source": [
    "pd.DataFrame(rs_model.cv_results_)[[\"param_n_estimators\",\n",
    "                                    \"param_max_depth\",\n",
    "                                    \"param_min_samples_split\",\n",
    "                                    \"param_min_samples_leaf\",\n",
    "                                    \"param_max_features\",\n",
    "                                    \"param_max_samples\",\n",
    "                                    \"mean_test_score\",\n",
    "                                    \"rank_test_score\"]]"
   ]
  },
  {
   "cell_type": "code",
   "execution_count": 107,
   "metadata": {},
   "outputs": [
    {
     "data": {
      "text/plain": [
       "{'n_estimators': 80,\n",
       " 'min_samples_split': 6,\n",
       " 'min_samples_leaf': 14,\n",
       " 'max_samples': 10000,\n",
       " 'max_features': 'auto',\n",
       " 'max_depth': None}"
      ]
     },
     "execution_count": 107,
     "metadata": {},
     "output_type": "execute_result"
    }
   ],
   "source": [
    "rs_model.best_params_"
   ]
  },
  {
   "cell_type": "code",
   "execution_count": 108,
   "metadata": {},
   "outputs": [
    {
     "data": {
      "text/plain": [
       "0.5768345252159369"
      ]
     },
     "execution_count": 108,
     "metadata": {},
     "output_type": "execute_result"
    }
   ],
   "source": [
    "rs_model.best_score_"
   ]
  },
  {
   "cell_type": "code",
   "execution_count": 109,
   "metadata": {},
   "outputs": [
    {
     "name": "stdout",
     "output_type": "stream",
     "text": [
      "Wall time: 6.01 s\n"
     ]
    },
    {
     "data": {
      "text/plain": [
       "{'Training MAE': 8798.420802711165,\n",
       " 'Validation MAE': 12161.28130318835,\n",
       " 'Training RMSLE': 0.4003829963123647,\n",
       " 'Validation RMSLE': 0.4993622146272506,\n",
       " 'Training R^2': 0.6693546663641894,\n",
       " 'Validation R^2': 0.5605291638732122}"
      ]
     },
     "execution_count": 109,
     "metadata": {},
     "output_type": "execute_result"
    }
   ],
   "source": [
    "%%time\n",
    "\n",
    "show_score(rs_model)"
   ]
  },
  {
   "cell_type": "markdown",
   "metadata": {},
   "source": [
    "#### RandomizedSearchCV for `n_iter=50`"
   ]
  },
  {
   "cell_type": "code",
   "execution_count": 110,
   "metadata": {},
   "outputs": [
    {
     "name": "stdout",
     "output_type": "stream",
     "text": [
      "Fitting 5 folds for each of 50 candidates, totalling 250 fits\n"
     ]
    },
    {
     "name": "stderr",
     "output_type": "stream",
     "text": [
      "[Parallel(n_jobs=1)]: Using backend SequentialBackend with 1 concurrent workers.\n",
      "[Parallel(n_jobs=1)]: Done 250 out of 250 | elapsed: 42.8min finished\n"
     ]
    },
    {
     "name": "stdout",
     "output_type": "stream",
     "text": [
      "Wall time: 43min 3s\n"
     ]
    },
    {
     "data": {
      "text/plain": [
       "RandomizedSearchCV(cv=5,\n",
       "                   estimator=RandomForestRegressor(n_jobs=-1, random_state=42),\n",
       "                   n_iter=50,\n",
       "                   param_distributions={'max_depth': [None, 3],\n",
       "                                        'max_features': ['auto', 'sqrt', 0.5],\n",
       "                                        'max_samples': [10000],\n",
       "                                        'min_samples_leaf': array([ 2,  4,  6,  8, 10, 12, 14, 16, 18]),\n",
       "                                        'min_samples_split': array([ 2,  4,  6,  8, 10, 12, 14, 16, 18]),\n",
       "                                        'n_estimators': array([10, 20, 30, 40, 50, 60, 70, 80, 90])},\n",
       "                   verbose=True)"
      ]
     },
     "execution_count": 110,
     "metadata": {},
     "output_type": "execute_result"
    }
   ],
   "source": [
    "%%time\n",
    "\n",
    "estimator = RandomForestRegressor(n_jobs=-1, random_state=42)\n",
    "param_distribution = {\n",
    "    \"n_estimators\": np.arange(10, 100, 10),\n",
    "    \"max_depth\": [None, 3],\n",
    "    \"min_samples_split\": np.arange(2, 20, 2),\n",
    "    \"min_samples_leaf\": np.arange(2, 20, 2),\n",
    "    \"max_features\": [\"auto\", \"sqrt\", 0.5],\n",
    "    \"max_samples\": [10000]\n",
    "}\n",
    "\n",
    "rs_model = RandomizedSearchCV(estimator,\n",
    "                              param_distribution,\n",
    "                              cv=5,\n",
    "                              n_iter=50,\n",
    "                              verbose=True)\n",
    "\n",
    "rs_model.fit(X_train, y_train)"
   ]
  },
  {
   "cell_type": "code",
   "execution_count": 111,
   "metadata": {},
   "outputs": [
    {
     "data": {
      "text/plain": [
       "{'n_estimators': 40,\n",
       " 'min_samples_split': 6,\n",
       " 'min_samples_leaf': 2,\n",
       " 'max_samples': 10000,\n",
       " 'max_features': 'auto',\n",
       " 'max_depth': None}"
      ]
     },
     "execution_count": 111,
     "metadata": {},
     "output_type": "execute_result"
    }
   ],
   "source": [
    "rs_model.best_params_"
   ]
  },
  {
   "cell_type": "code",
   "execution_count": 112,
   "metadata": {},
   "outputs": [
    {
     "data": {
      "text/plain": [
       "0.6331468617859095"
      ]
     },
     "execution_count": 112,
     "metadata": {},
     "output_type": "execute_result"
    }
   ],
   "source": [
    "rs_model.best_score_"
   ]
  },
  {
   "cell_type": "code",
   "execution_count": 113,
   "metadata": {},
   "outputs": [
    {
     "name": "stdout",
     "output_type": "stream",
     "text": [
      "Wall time: 5.32 s\n"
     ]
    },
    {
     "data": {
      "text/plain": [
       "{'Training MAE': 7684.597425723192,\n",
       " 'Validation MAE': 11361.801807192849,\n",
       " 'Training RMSLE': 0.36118957395488477,\n",
       " 'Validation RMSLE': 0.48312369307442865,\n",
       " 'Training R^2': 0.7417071707699855,\n",
       " 'Validation R^2': 0.6281421224576589}"
      ]
     },
     "execution_count": 113,
     "metadata": {},
     "output_type": "execute_result"
    }
   ],
   "source": [
    "%%time\n",
    "\n",
    "show_score(rs_model)"
   ]
  },
  {
   "cell_type": "markdown",
   "metadata": {},
   "source": [
    "### fit the whole training data with the best score"
   ]
  },
  {
   "cell_type": "code",
   "execution_count": 24,
   "metadata": {},
   "outputs": [
    {
     "name": "stdout",
     "output_type": "stream",
     "text": [
      "Wall time: 4min 57s\n"
     ]
    },
    {
     "data": {
      "text/plain": [
       "RandomForestRegressor(min_samples_leaf=2, min_samples_split=6, n_estimators=40,\n",
       "                      n_jobs=-1, random_state=42)"
      ]
     },
     "execution_count": 24,
     "metadata": {},
     "output_type": "execute_result"
    }
   ],
   "source": [
    "%%time\n",
    "\n",
    "ideal_model = RandomForestRegressor(n_estimators=40,\n",
    "                                    min_samples_split=6,\n",
    "                                    min_samples_leaf=2,\n",
    "                                    max_samples=None,\n",
    "                                    max_features=\"auto\",\n",
    "                                    n_jobs=-1,\n",
    "                                    random_state=42)\n",
    "\n",
    "ideal_model.fit(X_train, y_train)"
   ]
  },
  {
   "cell_type": "code",
   "execution_count": 25,
   "metadata": {},
   "outputs": [
    {
     "name": "stdout",
     "output_type": "stream",
     "text": [
      "Wall time: 12.1 s\n"
     ]
    },
    {
     "data": {
      "text/plain": [
       "{'Training MAE': 2618.6356625087974,\n",
       " 'Validation MAE': 7543.781110374438,\n",
       " 'Training RMSLE': 0.14099308126133647,\n",
       " 'Validation RMSLE': 0.3325818281250507,\n",
       " 'Training R^2': 0.9631248003747597,\n",
       " 'Validation R^2': 0.7993556349369204}"
      ]
     },
     "execution_count": 25,
     "metadata": {},
     "output_type": "execute_result"
    }
   ],
   "source": [
    "%%time\n",
    "\n",
    "show_score(ideal_model)"
   ]
  },
  {
   "cell_type": "markdown",
   "metadata": {},
   "source": [
    "##### the model built with default values:\n",
    "\n",
    "```py\n",
    "{'Training MAE': 1859.2817412028674,\n",
    " 'Validation MAE': 7618.568767821655,\n",
    " 'Training RMSLE': 0.1040700457507392,\n",
    " 'Validation RMSLE': 0.33674937487862744,\n",
    " 'Training R^2': 0.9826242692456258,\n",
    " 'Validation R^2': 0.7991921657655778}\n",
    "```\n",
    "\n",
    "So, the ideal model is slightly better"
   ]
  },
  {
   "cell_type": "markdown",
   "metadata": {},
   "source": [
    "### `n_iter=100`"
   ]
  },
  {
   "cell_type": "code",
   "execution_count": 22,
   "metadata": {},
   "outputs": [
    {
     "name": "stdout",
     "output_type": "stream",
     "text": [
      "Fitting 5 folds for each of 100 candidates, totalling 500 fits\n"
     ]
    },
    {
     "name": "stderr",
     "output_type": "stream",
     "text": [
      "[Parallel(n_jobs=1)]: Using backend SequentialBackend with 1 concurrent workers.\n",
      "[Parallel(n_jobs=1)]: Done 500 out of 500 | elapsed: 78.8min finished\n"
     ]
    },
    {
     "name": "stdout",
     "output_type": "stream",
     "text": [
      "Wall time: 1h 19min 4s\n"
     ]
    },
    {
     "data": {
      "text/plain": [
       "RandomizedSearchCV(cv=5,\n",
       "                   estimator=RandomForestRegressor(n_jobs=-1, random_state=42),\n",
       "                   n_iter=100,\n",
       "                   param_distributions={'max_depth': [None, 3],\n",
       "                                        'max_features': ['auto', 'sqrt', 0.5],\n",
       "                                        'max_samples': [10000],\n",
       "                                        'min_samples_leaf': array([ 2,  4,  6,  8, 10, 12, 14, 16, 18]),\n",
       "                                        'min_samples_split': array([ 2,  4,  6,  8, 10, 12, 14, 16, 18]),\n",
       "                                        'n_estimators': array([10, 20, 30, 40, 50, 60, 70, 80, 90])},\n",
       "                   verbose=True)"
      ]
     },
     "execution_count": 22,
     "metadata": {},
     "output_type": "execute_result"
    }
   ],
   "source": [
    "%%time\n",
    "\n",
    "estimator = RandomForestRegressor(n_jobs=-1, random_state=42)\n",
    "param_distribution = {\n",
    "    \"n_estimators\": np.arange(10, 100, 10),\n",
    "    \"max_depth\": [None, 3],\n",
    "    \"min_samples_split\": np.arange(2, 20, 2),\n",
    "    \"min_samples_leaf\": np.arange(2, 20, 2),\n",
    "    \"max_features\": [\"auto\", \"sqrt\", 0.5],\n",
    "    \"max_samples\": [10000]\n",
    "}\n",
    "\n",
    "rs_model = RandomizedSearchCV(estimator,\n",
    "                              param_distribution,\n",
    "                              cv=5,\n",
    "                              n_iter=100,\n",
    "                              verbose=True)\n",
    "\n",
    "rs_model.fit(X_train, y_train)"
   ]
  },
  {
   "cell_type": "code",
   "execution_count": 23,
   "metadata": {},
   "outputs": [
    {
     "data": {
      "text/plain": [
       "{'n_estimators': 40,\n",
       " 'min_samples_split': 2,\n",
       " 'min_samples_leaf': 2,\n",
       " 'max_samples': 10000,\n",
       " 'max_features': 'auto',\n",
       " 'max_depth': None}"
      ]
     },
     "execution_count": 23,
     "metadata": {},
     "output_type": "execute_result"
    }
   ],
   "source": [
    "rs_model.best_params_"
   ]
  },
  {
   "cell_type": "code",
   "execution_count": 24,
   "metadata": {},
   "outputs": [
    {
     "data": {
      "text/plain": [
       "0.6336383452437302"
      ]
     },
     "execution_count": 24,
     "metadata": {},
     "output_type": "execute_result"
    }
   ],
   "source": [
    "rs_model.best_score_"
   ]
  },
  {
   "cell_type": "code",
   "execution_count": 25,
   "metadata": {},
   "outputs": [
    {
     "name": "stdout",
     "output_type": "stream",
     "text": [
      "Wall time: 5min 19s\n"
     ]
    },
    {
     "data": {
      "text/plain": [
       "RandomForestRegressor(min_samples_leaf=2, n_estimators=40, n_jobs=-1,\n",
       "                      random_state=42)"
      ]
     },
     "execution_count": 25,
     "metadata": {},
     "output_type": "execute_result"
    }
   ],
   "source": [
    "%%time\n",
    "\n",
    "ideal_model = RandomForestRegressor(n_estimators=40,\n",
    "                                    min_samples_split=2,\n",
    "                                    min_samples_leaf=2,\n",
    "                                    max_samples=None,\n",
    "                                    max_features=\"auto\",\n",
    "                                    n_jobs=-1,\n",
    "                                    random_state=42)\n",
    "\n",
    "ideal_model.fit(X_train, y_train)"
   ]
  },
  {
   "cell_type": "code",
   "execution_count": 26,
   "metadata": {},
   "outputs": [
    {
     "data": {
      "text/plain": [
       "{'Training MAE': 2351.298765173864,\n",
       " 'Validation MAE': 7553.978612483914,\n",
       " 'Training RMSLE': 0.1291431822618856,\n",
       " 'Validation RMSLE': 0.3331565924714932,\n",
       " 'Training R^2': 0.9697485354421861,\n",
       " 'Validation R^2': 0.7984329603454591}"
      ]
     },
     "execution_count": 26,
     "metadata": {},
     "output_type": "execute_result"
    }
   ],
   "source": [
    "show_score(ideal_model)"
   ]
  },
  {
   "cell_type": "markdown",
   "metadata": {},
   "source": [
    "## EDA of Test data"
   ]
  },
  {
   "cell_type": "code",
   "execution_count": 26,
   "metadata": {},
   "outputs": [
    {
     "data": {
      "text/html": [
       "<div>\n",
       "<style scoped>\n",
       "    .dataframe tbody tr th:only-of-type {\n",
       "        vertical-align: middle;\n",
       "    }\n",
       "\n",
       "    .dataframe tbody tr th {\n",
       "        vertical-align: top;\n",
       "    }\n",
       "\n",
       "    .dataframe thead th {\n",
       "        text-align: right;\n",
       "    }\n",
       "</style>\n",
       "<table border=\"1\" class=\"dataframe\">\n",
       "  <thead>\n",
       "    <tr style=\"text-align: right;\">\n",
       "      <th></th>\n",
       "      <th>SalesID</th>\n",
       "      <th>MachineID</th>\n",
       "      <th>ModelID</th>\n",
       "      <th>datasource</th>\n",
       "      <th>auctioneerID</th>\n",
       "      <th>YearMade</th>\n",
       "      <th>MachineHoursCurrentMeter</th>\n",
       "      <th>UsageBand</th>\n",
       "      <th>saledate</th>\n",
       "      <th>fiModelDesc</th>\n",
       "      <th>...</th>\n",
       "      <th>Undercarriage_Pad_Width</th>\n",
       "      <th>Stick_Length</th>\n",
       "      <th>Thumb</th>\n",
       "      <th>Pattern_Changer</th>\n",
       "      <th>Grouser_Type</th>\n",
       "      <th>Backhoe_Mounting</th>\n",
       "      <th>Blade_Type</th>\n",
       "      <th>Travel_Controls</th>\n",
       "      <th>Differential_Type</th>\n",
       "      <th>Steering_Controls</th>\n",
       "    </tr>\n",
       "  </thead>\n",
       "  <tbody>\n",
       "    <tr>\n",
       "      <td>0</td>\n",
       "      <td>1227829</td>\n",
       "      <td>1006309</td>\n",
       "      <td>3168</td>\n",
       "      <td>121</td>\n",
       "      <td>3</td>\n",
       "      <td>1999</td>\n",
       "      <td>3688.0</td>\n",
       "      <td>Low</td>\n",
       "      <td>2012-05-03</td>\n",
       "      <td>580G</td>\n",
       "      <td>...</td>\n",
       "      <td>NaN</td>\n",
       "      <td>NaN</td>\n",
       "      <td>NaN</td>\n",
       "      <td>NaN</td>\n",
       "      <td>NaN</td>\n",
       "      <td>NaN</td>\n",
       "      <td>NaN</td>\n",
       "      <td>NaN</td>\n",
       "      <td>NaN</td>\n",
       "      <td>NaN</td>\n",
       "    </tr>\n",
       "    <tr>\n",
       "      <td>1</td>\n",
       "      <td>1227844</td>\n",
       "      <td>1022817</td>\n",
       "      <td>7271</td>\n",
       "      <td>121</td>\n",
       "      <td>3</td>\n",
       "      <td>1000</td>\n",
       "      <td>28555.0</td>\n",
       "      <td>High</td>\n",
       "      <td>2012-05-10</td>\n",
       "      <td>936</td>\n",
       "      <td>...</td>\n",
       "      <td>NaN</td>\n",
       "      <td>NaN</td>\n",
       "      <td>NaN</td>\n",
       "      <td>NaN</td>\n",
       "      <td>NaN</td>\n",
       "      <td>NaN</td>\n",
       "      <td>NaN</td>\n",
       "      <td>NaN</td>\n",
       "      <td>Standard</td>\n",
       "      <td>Conventional</td>\n",
       "    </tr>\n",
       "    <tr>\n",
       "      <td>2</td>\n",
       "      <td>1227847</td>\n",
       "      <td>1031560</td>\n",
       "      <td>22805</td>\n",
       "      <td>121</td>\n",
       "      <td>3</td>\n",
       "      <td>2004</td>\n",
       "      <td>6038.0</td>\n",
       "      <td>Medium</td>\n",
       "      <td>2012-05-10</td>\n",
       "      <td>EC210BLC</td>\n",
       "      <td>...</td>\n",
       "      <td>None or Unspecified</td>\n",
       "      <td>9' 6\"</td>\n",
       "      <td>Manual</td>\n",
       "      <td>None or Unspecified</td>\n",
       "      <td>Double</td>\n",
       "      <td>NaN</td>\n",
       "      <td>NaN</td>\n",
       "      <td>NaN</td>\n",
       "      <td>NaN</td>\n",
       "      <td>NaN</td>\n",
       "    </tr>\n",
       "  </tbody>\n",
       "</table>\n",
       "<p>3 rows × 52 columns</p>\n",
       "</div>"
      ],
      "text/plain": [
       "   SalesID  MachineID  ModelID  datasource  auctioneerID  YearMade  \\\n",
       "0  1227829    1006309     3168         121             3      1999   \n",
       "1  1227844    1022817     7271         121             3      1000   \n",
       "2  1227847    1031560    22805         121             3      2004   \n",
       "\n",
       "   MachineHoursCurrentMeter UsageBand   saledate fiModelDesc  ...  \\\n",
       "0                    3688.0       Low 2012-05-03        580G  ...   \n",
       "1                   28555.0      High 2012-05-10         936  ...   \n",
       "2                    6038.0    Medium 2012-05-10    EC210BLC  ...   \n",
       "\n",
       "  Undercarriage_Pad_Width Stick_Length   Thumb      Pattern_Changer  \\\n",
       "0                     NaN          NaN     NaN                  NaN   \n",
       "1                     NaN          NaN     NaN                  NaN   \n",
       "2     None or Unspecified        9' 6\"  Manual  None or Unspecified   \n",
       "\n",
       "  Grouser_Type Backhoe_Mounting Blade_Type Travel_Controls Differential_Type  \\\n",
       "0          NaN              NaN        NaN             NaN               NaN   \n",
       "1          NaN              NaN        NaN             NaN          Standard   \n",
       "2       Double              NaN        NaN             NaN               NaN   \n",
       "\n",
       "  Steering_Controls  \n",
       "0               NaN  \n",
       "1      Conventional  \n",
       "2               NaN  \n",
       "\n",
       "[3 rows x 52 columns]"
      ]
     },
     "execution_count": 26,
     "metadata": {},
     "output_type": "execute_result"
    }
   ],
   "source": [
    "df_test = pd.read_csv(\"data/Test.csv\", low_memory=False, parse_dates=[\"saledate\"])\n",
    "df_test.head(3)"
   ]
  },
  {
   "cell_type": "code",
   "execution_count": 27,
   "metadata": {},
   "outputs": [
    {
     "data": {
      "text/plain": [
       "1408    2012-05-01\n",
       "1023    2012-05-01\n",
       "1728    2012-05-01\n",
       "1167    2012-05-01\n",
       "1594    2012-05-01\n",
       "           ...    \n",
       "9941    2012-11-15\n",
       "9936    2012-11-15\n",
       "11620   2012-11-15\n",
       "9995    2012-11-15\n",
       "9803    2012-11-16\n",
       "Name: saledate, Length: 12457, dtype: datetime64[ns]"
      ]
     },
     "execution_count": 27,
     "metadata": {},
     "output_type": "execute_result"
    }
   ],
   "source": [
    "df_test.sort_values(by=[\"saledate\"], inplace=True)\n",
    "df_test.saledate"
   ]
  },
  {
   "cell_type": "code",
   "execution_count": 28,
   "metadata": {},
   "outputs": [
    {
     "data": {
      "text/plain": [
       "(12457, 52)"
      ]
     },
     "execution_count": 28,
     "metadata": {},
     "output_type": "execute_result"
    }
   ],
   "source": [
    "df_test.shape"
   ]
  },
  {
   "cell_type": "code",
   "execution_count": 30,
   "metadata": {},
   "outputs": [
    {
     "data": {
      "image/png": "[encoded data removed]",
      "text/plain": [
       "<Figure size 1800x720 with 2 Axes>"
      ]
     },
     "metadata": {
      "needs_background": "light"
     },
     "output_type": "display_data"
    }
   ],
   "source": [
    "missingno.matrix(df_test.iloc[:, :20]);"
   ]
  },
  {
   "cell_type": "code",
   "execution_count": 35,
   "metadata": {},
   "outputs": [
    {
     "data": {
      "image/png": "[encoded data removed]",
      "text/plain": [
       "<Figure size 1800x720 with 2 Axes>"
      ]
     },
     "metadata": {
      "needs_background": "light"
     },
     "output_type": "display_data"
    }
   ],
   "source": [
    "missingno.matrix(df_test.iloc[:, 20:40]);"
   ]
  },
  {
   "cell_type": "code",
   "execution_count": 36,
   "metadata": {},
   "outputs": [
    {
     "data": {
      "image/png": "[encoded data removed]",
      "text/plain": [
       "<Figure size 1800x720 with 2 Axes>"
      ]
     },
     "metadata": {
      "needs_background": "light"
     },
     "output_type": "display_data"
    }
   ],
   "source": [
    "missingno.matrix(df_test.iloc[:, 40:]);"
   ]
  },
  {
   "cell_type": "code",
   "execution_count": 33,
   "metadata": {},
   "outputs": [
    {
     "data": {
      "text/plain": [
       "['fiModelSeries',\n",
       " 'Blade_Extension',\n",
       " 'Blade_Width',\n",
       " 'Enclosure_Type',\n",
       " 'Engine_Horsepower',\n",
       " 'Pushblock',\n",
       " 'Scarifier',\n",
       " 'Tip_Control',\n",
       " 'Coupler_System',\n",
       " 'Grouser_Tracks',\n",
       " 'Hydraulics_Flow']"
      ]
     },
     "execution_count": 33,
     "metadata": {},
     "output_type": "execute_result"
    }
   ],
   "source": [
    "most_missing_features"
   ]
  },
  {
   "cell_type": "code",
   "execution_count": 34,
   "metadata": {},
   "outputs": [
    {
     "data": {
      "text/plain": [
       "SalesID                         0\n",
       "MachineID                       0\n",
       "ModelID                         0\n",
       "datasource                      0\n",
       "auctioneerID                    0\n",
       "YearMade                        0\n",
       "MachineHoursCurrentMeter    10328\n",
       "UsageBand                   10623\n",
       "saledate                        0\n",
       "fiModelDesc                     0\n",
       "fiBaseModel                     0\n",
       "fiSecondaryDesc              3975\n",
       "fiModelSeries               10451\n",
       "fiModelDescriptor            9433\n",
       "ProductSize                  6409\n",
       "fiProductClassDesc              0\n",
       "state                           0\n",
       "ProductGroup                    0\n",
       "ProductGroupDesc                0\n",
       "Drive_System                 9698\n",
       "Enclosure                       2\n",
       "Forks                        6149\n",
       "Pad_Type                    10349\n",
       "Ride_Control                 8216\n",
       "Stick                       10349\n",
       "Transmission                 7639\n",
       "Turbocharged                10349\n",
       "Blade_Extension             11806\n",
       "Blade_Width                 11806\n",
       "Enclosure_Type              11806\n",
       "Engine_Horsepower           11806\n",
       "Hydraulics                   2142\n",
       "Pushblock                   11806\n",
       "Ripper                       9753\n",
       "Scarifier                   11806\n",
       "Tip_Control                 11806\n",
       "Tire_Size                    9679\n",
       "Coupler                      4856\n",
       "Coupler_System              10391\n",
       "Grouser_Tracks              10391\n",
       "Hydraulics_Flow             10391\n",
       "Track_Type                   9063\n",
       "Undercarriage_Pad_Width      9059\n",
       "Stick_Length                 9063\n",
       "Thumb                        9062\n",
       "Pattern_Changer              9063\n",
       "Grouser_Type                 9063\n",
       "Backhoe_Mounting            10406\n",
       "Blade_Type                  10399\n",
       "Travel_Controls             10399\n",
       "Differential_Type           10328\n",
       "Steering_Controls           10328\n",
       "dtype: int64"
      ]
     },
     "execution_count": 34,
     "metadata": {},
     "output_type": "execute_result"
    }
   ],
   "source": [
    "df_test.isna().sum()"
   ]
  },
  {
   "cell_type": "code",
   "execution_count": 37,
   "metadata": {},
   "outputs": [],
   "source": [
    "df_test_tmp = df_test.copy()"
   ]
  },
  {
   "cell_type": "markdown",
   "metadata": {},
   "source": [
    "#### drop the `most_missing_features` that was dropped from the training and validation data"
   ]
  },
  {
   "cell_type": "code",
   "execution_count": 39,
   "metadata": {},
   "outputs": [],
   "source": [
    "for val in most_missing_features:\n",
    "    df_test_tmp.drop(val, axis=1, inplace=True)"
   ]
  },
  {
   "cell_type": "code",
   "execution_count": 40,
   "metadata": {},
   "outputs": [
    {
     "data": {
      "text/plain": [
       "((12457, 52), (12457, 41))"
      ]
     },
     "execution_count": 40,
     "metadata": {},
     "output_type": "execute_result"
    }
   ],
   "source": [
    "df_test.shape, df_test_tmp.shape"
   ]
  },
  {
   "cell_type": "code",
   "execution_count": 41,
   "metadata": {},
   "outputs": [],
   "source": [
    "df_test_tmp[\"saleYear\"] = df_test_tmp.saledate.dt.year\n",
    "df_test_tmp[\"saleMonth\"] = df_test_tmp.saledate.dt.month\n",
    "df_test_tmp[\"saleDate\"] = df_test_tmp.saledate.dt.day\n",
    "df_test_tmp[\"saleDayOfWeek\"] = df_test_tmp.saledate.dt.dayofweek\n",
    "df_test_tmp[\"saleDayOfYear\"] = df_test_tmp.saledate.dt.dayofyear"
   ]
  },
  {
   "cell_type": "code",
   "execution_count": 42,
   "metadata": {},
   "outputs": [],
   "source": [
    "df_test_tmp.drop(\"saledate\", axis=1, inplace=True)"
   ]
  },
  {
   "cell_type": "code",
   "execution_count": 43,
   "metadata": {},
   "outputs": [
    {
     "data": {
      "text/plain": [
       "(12457, 45)"
      ]
     },
     "execution_count": 43,
     "metadata": {},
     "output_type": "execute_result"
    }
   ],
   "source": [
    "df_test_tmp.shape"
   ]
  },
  {
   "cell_type": "markdown",
   "metadata": {},
   "source": [
    "#### find numerical missing values column and fill them with the median value"
   ]
  },
  {
   "cell_type": "code",
   "execution_count": 44,
   "metadata": {},
   "outputs": [
    {
     "name": "stdout",
     "output_type": "stream",
     "text": [
      "MachineHoursCurrentMeter\n"
     ]
    }
   ],
   "source": [
    "for label, content in df_test_tmp.items():\n",
    "    if pd.api.types.is_numeric_dtype(content):\n",
    "        if pd.isnull(content).sum():\n",
    "            print(label)"
   ]
  },
  {
   "cell_type": "code",
   "execution_count": 45,
   "metadata": {},
   "outputs": [],
   "source": [
    "df_test_tmp.fillna(value=df_test_tmp.MachineHoursCurrentMeter.median(), inplace=True)"
   ]
  },
  {
   "cell_type": "code",
   "execution_count": 46,
   "metadata": {},
   "outputs": [
    {
     "data": {
      "text/plain": [
       "(12457, 45)"
      ]
     },
     "execution_count": 46,
     "metadata": {},
     "output_type": "execute_result"
    }
   ],
   "source": [
    "df_test_tmp.shape"
   ]
  },
  {
   "cell_type": "markdown",
   "metadata": {},
   "source": [
    "### turn string columns into categories"
   ]
  },
  {
   "cell_type": "code",
   "execution_count": 47,
   "metadata": {},
   "outputs": [],
   "source": [
    "for label, content in df_test_tmp.items():\n",
    "    if pd.api.types.is_string_dtype(content):\n",
    "        df_test_tmp[label] = content.astype(\"category\").cat.as_ordered()"
   ]
  },
  {
   "cell_type": "markdown",
   "metadata": {},
   "source": [
    "#### fill the missing values"
   ]
  },
  {
   "cell_type": "code",
   "execution_count": 48,
   "metadata": {},
   "outputs": [],
   "source": [
    "for label, content in df_test_tmp.items():\n",
    "    if not pd.api.types.is_numeric_dtype(content):\n",
    "        # Add binary column\n",
    "        df_test_tmp[label+\"_is_missing\"] = pd.isnull(content)\n",
    "        # Turn categories into numbers and add 1\n",
    "        df_test_tmp[label] = pd.Categorical(df_test_tmp[\"state\"]).codes + 1"
   ]
  },
  {
   "cell_type": "code",
   "execution_count": 49,
   "metadata": {},
   "outputs": [
    {
     "data": {
      "text/plain": [
       "((412698, 79), (12457, 78))"
      ]
     },
     "execution_count": 49,
     "metadata": {},
     "output_type": "execute_result"
    }
   ],
   "source": [
    "df_tmp.shape, df_test_tmp.shape"
   ]
  },
  {
   "cell_type": "code",
   "execution_count": 50,
   "metadata": {},
   "outputs": [
    {
     "data": {
      "text/plain": [
       "{'SalePrice'}"
      ]
     },
     "execution_count": 50,
     "metadata": {},
     "output_type": "execute_result"
    }
   ],
   "source": [
    "set(df_tmp.columns) - set(df_test_tmp.columns)"
   ]
  },
  {
   "cell_type": "markdown",
   "metadata": {},
   "source": [
    "## RandomForest ideal model\n",
    "\n",
    "```py\n",
    "{'Training MAE': 2618.6356625087974,\n",
    " 'Validation MAE': 7543.781110374438,\n",
    " 'Training RMSLE': 0.14099308126133647,\n",
    " 'Validation RMSLE': 0.3325818281250507,\n",
    " 'Training R^2': 0.9631248003747597,\n",
    " 'Validation R^2': 0.7993556349369204}\n",
    "```\n",
    "\n",
    "#### Kaggle Leaderboard\n",
    "\n",
    "score in $83^{th}$ position = 0.32383 $\\leq$ my score = 0.33258 $\\leq$ score in $84^{th}$ position = 0.34029"
   ]
  },
  {
   "cell_type": "markdown",
   "metadata": {},
   "source": [
    "## Try with normalizing the data"
   ]
  },
  {
   "cell_type": "code",
   "execution_count": 57,
   "metadata": {},
   "outputs": [],
   "source": [
    "from sklearn.preprocessing import MinMaxScaler"
   ]
  },
  {
   "cell_type": "code",
   "execution_count": 59,
   "metadata": {},
   "outputs": [],
   "source": [
    "# fit scaler on training data\n",
    "norm = MinMaxScaler().fit(X_train)\n",
    "\n",
    "# transform training data\n",
    "X_train_norm = norm.transform(X_train)\n",
    "\n",
    "# transform testing data\n",
    "X_vaild_norm = norm.transform(X_valid)"
   ]
  },
  {
   "cell_type": "code",
   "execution_count": 70,
   "metadata": {},
   "outputs": [
    {
     "name": "stdout",
     "output_type": "stream",
     "text": [
      "Fitting 5 folds for each of 50 candidates, totalling 250 fits\n"
     ]
    },
    {
     "name": "stderr",
     "output_type": "stream",
     "text": [
      "[Parallel(n_jobs=1)]: Using backend SequentialBackend with 1 concurrent workers.\n",
      "[Parallel(n_jobs=1)]: Done 250 out of 250 | elapsed: 31.1min finished\n"
     ]
    },
    {
     "name": "stdout",
     "output_type": "stream",
     "text": [
      "Wall time: 31min 28s\n"
     ]
    },
    {
     "data": {
      "text/plain": [
       "RandomizedSearchCV(cv=5,\n",
       "                   estimator=RandomForestRegressor(n_jobs=-1, random_state=42),\n",
       "                   n_iter=50,\n",
       "                   param_distributions={'max_depth': [None, 3],\n",
       "                                        'max_features': ['auto', 'sqrt', 0.5],\n",
       "                                        'max_samples': [10000],\n",
       "                                        'min_samples_leaf': array([ 2,  4,  6,  8, 10, 12, 14, 16, 18]),\n",
       "                                        'min_samples_split': array([ 2,  4,  6,  8, 10, 12, 14, 16, 18]),\n",
       "                                        'n_estimators': array([10, 20, 30, 40, 50, 60, 70, 80, 90])},\n",
       "                   verbose=True)"
      ]
     },
     "execution_count": 70,
     "metadata": {},
     "output_type": "execute_result"
    }
   ],
   "source": [
    "%%time\n",
    "\n",
    "estimator = RandomForestRegressor(n_jobs=-1, random_state=42)\n",
    "param_distribution = {\n",
    "    \"n_estimators\": np.arange(10, 100, 10),\n",
    "    \"max_depth\": [None, 3],\n",
    "    \"min_samples_split\": np.arange(2, 20, 2),\n",
    "    \"min_samples_leaf\": np.arange(2, 20, 2),\n",
    "    \"max_features\": [\"auto\", \"sqrt\", 0.5],\n",
    "    \"max_samples\": [10000]\n",
    "}\n",
    "\n",
    "rs_model_norm = RandomizedSearchCV(estimator,\n",
    "                                  param_distribution,\n",
    "                                  cv=5,\n",
    "                                  n_iter=50,\n",
    "                                  verbose=True)\n",
    "\n",
    "rs_model_norm.fit(X_train_norm, y_train)"
   ]
  },
  {
   "cell_type": "code",
   "execution_count": 72,
   "metadata": {},
   "outputs": [
    {
     "data": {
      "text/plain": [
       "{'n_estimators': 60,\n",
       " 'min_samples_split': 2,\n",
       " 'min_samples_leaf': 2,\n",
       " 'max_samples': 10000,\n",
       " 'max_features': 'auto',\n",
       " 'max_depth': None}"
      ]
     },
     "execution_count": 72,
     "metadata": {},
     "output_type": "execute_result"
    }
   ],
   "source": [
    "rs_model_norm.best_params_"
   ]
  },
  {
   "cell_type": "code",
   "execution_count": 73,
   "metadata": {},
   "outputs": [
    {
     "data": {
      "text/plain": [
       "0.6362905984020738"
      ]
     },
     "execution_count": 73,
     "metadata": {},
     "output_type": "execute_result"
    }
   ],
   "source": [
    "rs_model_norm.best_score_"
   ]
  },
  {
   "cell_type": "code",
   "execution_count": 76,
   "metadata": {},
   "outputs": [],
   "source": [
    "def show_score_norm(model):\n",
    "    train_pred = model.predict(X_train_norm)\n",
    "    valid_pred = model.predict(X_vaild_norm)\n",
    "    scores = {\"Training MAE\": mean_absolute_error(y_train, train_pred),\n",
    "              \"Validation MAE\": mean_absolute_error(y_valid, valid_pred),\n",
    "              \"Training RMSLE\": rmsle(y_train, train_pred),\n",
    "              \"Validation RMSLE\": rmsle(y_valid, valid_pred),\n",
    "              \"Training R^2\": r2_score(y_train, train_pred),\n",
    "              \"Validation R^2\": r2_score(y_valid, valid_pred)}\n",
    "    return scores"
   ]
  },
  {
   "cell_type": "code",
   "execution_count": 77,
   "metadata": {},
   "outputs": [
    {
     "name": "stdout",
     "output_type": "stream",
     "text": [
      "Wall time: 3.57 s\n"
     ]
    },
    {
     "data": {
      "text/plain": [
       "{'Training MAE': 7591.601166701292,\n",
       " 'Validation MAE': 11265.052199804144,\n",
       " 'Training RMSLE': 0.3574885630950753,\n",
       " 'Validation RMSLE': 0.4799647775418761,\n",
       " 'Training R^2': 0.7475157409940458,\n",
       " 'Validation R^2': 0.6339301301925073}"
      ]
     },
     "execution_count": 77,
     "metadata": {},
     "output_type": "execute_result"
    }
   ],
   "source": [
    "%%time\n",
    "\n",
    "show_score_norm(rs_model_norm)"
   ]
  },
  {
   "cell_type": "markdown",
   "metadata": {},
   "source": [
    "## Try with SVR"
   ]
  },
  {
   "cell_type": "code",
   "execution_count": 19,
   "metadata": {},
   "outputs": [],
   "source": [
    "from sklearn.svm import SVR"
   ]
  },
  {
   "cell_type": "code",
   "execution_count": null,
   "metadata": {},
   "outputs": [
    {
     "name": "stdout",
     "output_type": "stream",
     "text": [
      "Fitting 5 folds for each of 40 candidates, totalling 200 fits\n"
     ]
    },
    {
     "name": "stderr",
     "output_type": "stream",
     "text": [
      "[Parallel(n_jobs=1)]: Using backend SequentialBackend with 1 concurrent workers.\n"
     ]
    }
   ],
   "source": [
    "%%time\n",
    "\n",
    "estimator = SVR(gamma=\"auto\")\n",
    "param_distribution = {\n",
    "    \"degree\": np.arange(3, 8),\n",
    "    \"C\": np.arange(1, 10),\n",
    "    \"kernel\": [\"rbf\", \"linear\"],\n",
    "    \"epsilon\": [0.1, 0.2, 0.3]\n",
    "}\n",
    "\n",
    "svr_model = RandomizedSearchCV(estimator,\n",
    "                               param_distribution,\n",
    "                               cv=5,\n",
    "                               n_iter=40,\n",
    "                               verbose=True)\n",
    "svr_model.fit(X_train, y_train)"
   ]
  },
  {
   "cell_type": "code",
   "execution_count": null,
   "metadata": {},
   "outputs": [],
   "source": [
    "%%time\n",
    "\n",
    "svr_model = SVR(gamma=\"auto\")\n",
    "svr_model.fit(X_train, y_train)"
   ]
  },
  {
   "cell_type": "markdown",
   "metadata": {},
   "source": [
    "#### SVR is not well suited for large data, it takes long time"
   ]
  },
  {
   "cell_type": "code",
   "execution_count": null,
   "metadata": {},
   "outputs": [],
   "source": []
  }
 ],
 "metadata": {
  "kernelspec": {
   "display_name": "Python 3",
   "language": "python",
   "name": "python3"
  },
  "language_info": {
   "codemirror_mode": {
    "name": "ipython",
    "version": 3
   },
   "file_extension": ".py",
   "mimetype": "text/x-python",
   "name": "python",
   "nbconvert_exporter": "python",
   "pygments_lexer": "ipython3",
   "version": "3.7.4"
  }
 },
 "nbformat": 4,
 "nbformat_minor": 4
}
