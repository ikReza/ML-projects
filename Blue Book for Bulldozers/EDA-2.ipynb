{
 "cells": [
  {
   "cell_type": "code",
   "execution_count": 1,
   "metadata": {},
   "outputs": [],
   "source": [
    "import pandas as pd\n",
    "import numpy as np\n",
    "import matplotlib.pyplot as plt\n",
    "plt.style.use(\"default\")"
   ]
  },
  {
   "cell_type": "code",
   "execution_count": 2,
   "metadata": {},
   "outputs": [
    {
     "name": "stdout",
     "output_type": "stream",
     "text": [
      "<class 'pandas.core.frame.DataFrame'>\n",
      "RangeIndex: 412698 entries, 0 to 412697\n",
      "Data columns (total 57 columns):\n",
      "SalesID                     412698 non-null int64\n",
      "SalePrice                   412698 non-null float64\n",
      "MachineID                   412698 non-null int64\n",
      "ModelID                     412698 non-null int64\n",
      "datasource                  412698 non-null int64\n",
      "auctioneerID                392562 non-null float64\n",
      "YearMade                    412698 non-null int64\n",
      "MachineHoursCurrentMeter    147504 non-null float64\n",
      "UsageBand                   73670 non-null object\n",
      "fiModelDesc                 412698 non-null object\n",
      "fiBaseModel                 412698 non-null object\n",
      "fiSecondaryDesc             271971 non-null object\n",
      "fiModelSeries               58667 non-null object\n",
      "fiModelDescriptor           74816 non-null object\n",
      "ProductSize                 196093 non-null object\n",
      "fiProductClassDesc          412698 non-null object\n",
      "state                       412698 non-null object\n",
      "ProductGroup                412698 non-null object\n",
      "ProductGroupDesc            412698 non-null object\n",
      "Drive_System                107087 non-null object\n",
      "Enclosure                   412364 non-null object\n",
      "Forks                       197715 non-null object\n",
      "Pad_Type                    81096 non-null object\n",
      "Ride_Control                152728 non-null object\n",
      "Stick                       81096 non-null object\n",
      "Transmission                188007 non-null object\n",
      "Turbocharged                81096 non-null object\n",
      "Blade_Extension             25983 non-null object\n",
      "Blade_Width                 25983 non-null object\n",
      "Enclosure_Type              25983 non-null object\n",
      "Engine_Horsepower           25983 non-null object\n",
      "Hydraulics                  330133 non-null object\n",
      "Pushblock                   25983 non-null object\n",
      "Ripper                      106945 non-null object\n",
      "Scarifier                   25994 non-null object\n",
      "Tip_Control                 25983 non-null object\n",
      "Tire_Size                   97638 non-null object\n",
      "Coupler                     220679 non-null object\n",
      "Coupler_System              44974 non-null object\n",
      "Grouser_Tracks              44875 non-null object\n",
      "Hydraulics_Flow             44875 non-null object\n",
      "Track_Type                  102193 non-null object\n",
      "Undercarriage_Pad_Width     102916 non-null object\n",
      "Stick_Length                102261 non-null object\n",
      "Thumb                       102332 non-null object\n",
      "Pattern_Changer             102261 non-null object\n",
      "Grouser_Type                102193 non-null object\n",
      "Backhoe_Mounting            80712 non-null object\n",
      "Blade_Type                  81875 non-null object\n",
      "Travel_Controls             81877 non-null object\n",
      "Differential_Type           71564 non-null object\n",
      "Steering_Controls           71522 non-null object\n",
      "saleYear                    412698 non-null int64\n",
      "saleMonth                   412698 non-null int64\n",
      "saleDate                    412698 non-null int64\n",
      "saleDayOfWeek               412698 non-null int64\n",
      "saleDayOfYear               412698 non-null int64\n",
      "dtypes: float64(3), int64(10), object(44)\n",
      "memory usage: 179.5+ MB\n"
     ]
    }
   ],
   "source": [
    "df = pd.read_csv(\"data/eda_1.csv\", low_memory=False)\n",
    "df.info()"
   ]
  },
  {
   "cell_type": "markdown",
   "metadata": {},
   "source": [
    "#### observation\n",
    "Looks like categorical data turned into object. So doing that again"
   ]
  },
  {
   "cell_type": "code",
   "execution_count": 8,
   "metadata": {},
   "outputs": [],
   "source": [
    "df_tmp = df.copy()"
   ]
  },
  {
   "cell_type": "code",
   "execution_count": 9,
   "metadata": {},
   "outputs": [],
   "source": [
    "# label = column name(key), content = values in the column\n",
    "for label, content in df_tmp.items():\n",
    "    if pd.api.types.is_string_dtype(content):\n",
    "        df_tmp[label] = content.astype(\"category\").cat.as_ordered()"
   ]
  },
  {
   "cell_type": "code",
   "execution_count": 10,
   "metadata": {},
   "outputs": [
    {
     "name": "stdout",
     "output_type": "stream",
     "text": [
      "<class 'pandas.core.frame.DataFrame'>\n",
      "RangeIndex: 412698 entries, 0 to 412697\n",
      "Data columns (total 57 columns):\n",
      "SalesID                     412698 non-null int64\n",
      "SalePrice                   412698 non-null float64\n",
      "MachineID                   412698 non-null int64\n",
      "ModelID                     412698 non-null int64\n",
      "datasource                  412698 non-null int64\n",
      "auctioneerID                392562 non-null float64\n",
      "YearMade                    412698 non-null int64\n",
      "MachineHoursCurrentMeter    147504 non-null float64\n",
      "UsageBand                   73670 non-null category\n",
      "fiModelDesc                 412698 non-null category\n",
      "fiBaseModel                 412698 non-null category\n",
      "fiSecondaryDesc             271971 non-null category\n",
      "fiModelSeries               58667 non-null category\n",
      "fiModelDescriptor           74816 non-null category\n",
      "ProductSize                 196093 non-null category\n",
      "fiProductClassDesc          412698 non-null category\n",
      "state                       412698 non-null category\n",
      "ProductGroup                412698 non-null category\n",
      "ProductGroupDesc            412698 non-null category\n",
      "Drive_System                107087 non-null category\n",
      "Enclosure                   412364 non-null category\n",
      "Forks                       197715 non-null category\n",
      "Pad_Type                    81096 non-null category\n",
      "Ride_Control                152728 non-null category\n",
      "Stick                       81096 non-null category\n",
      "Transmission                188007 non-null category\n",
      "Turbocharged                81096 non-null category\n",
      "Blade_Extension             25983 non-null category\n",
      "Blade_Width                 25983 non-null category\n",
      "Enclosure_Type              25983 non-null category\n",
      "Engine_Horsepower           25983 non-null category\n",
      "Hydraulics                  330133 non-null category\n",
      "Pushblock                   25983 non-null category\n",
      "Ripper                      106945 non-null category\n",
      "Scarifier                   25994 non-null category\n",
      "Tip_Control                 25983 non-null category\n",
      "Tire_Size                   97638 non-null category\n",
      "Coupler                     220679 non-null category\n",
      "Coupler_System              44974 non-null category\n",
      "Grouser_Tracks              44875 non-null category\n",
      "Hydraulics_Flow             44875 non-null category\n",
      "Track_Type                  102193 non-null category\n",
      "Undercarriage_Pad_Width     102916 non-null category\n",
      "Stick_Length                102261 non-null category\n",
      "Thumb                       102332 non-null category\n",
      "Pattern_Changer             102261 non-null category\n",
      "Grouser_Type                102193 non-null category\n",
      "Backhoe_Mounting            80712 non-null category\n",
      "Blade_Type                  81875 non-null category\n",
      "Travel_Controls             81877 non-null category\n",
      "Differential_Type           71564 non-null category\n",
      "Steering_Controls           71522 non-null category\n",
      "saleYear                    412698 non-null int64\n",
      "saleMonth                   412698 non-null int64\n",
      "saleDate                    412698 non-null int64\n",
      "saleDayOfWeek               412698 non-null int64\n",
      "saleDayOfYear               412698 non-null int64\n",
      "dtypes: category(44), float64(3), int64(10)\n",
      "memory usage: 60.1 MB\n"
     ]
    }
   ],
   "source": [
    "df_tmp.info()"
   ]
  },
  {
   "cell_type": "markdown",
   "metadata": {},
   "source": [
    "## Fill missing values\n",
    "\n",
    "### Fill the columns first that have numerical missing values"
   ]
  },
  {
   "cell_type": "code",
   "execution_count": 11,
   "metadata": {},
   "outputs": [
    {
     "name": "stdout",
     "output_type": "stream",
     "text": [
      "auctioneerID\n",
      "MachineHoursCurrentMeter\n"
     ]
    }
   ],
   "source": [
    "for label, content in df_tmp.items():\n",
    "    if pd.api.types.is_numeric_dtype(content):\n",
    "        if pd.isnull(content).sum():\n",
    "            print(label)"
   ]
  },
  {
   "cell_type": "code",
   "execution_count": 16,
   "metadata": {},
   "outputs": [
    {
     "data": {
      "text/html": [
       "<div>\n",
       "<style scoped>\n",
       "    .dataframe tbody tr th:only-of-type {\n",
       "        vertical-align: middle;\n",
       "    }\n",
       "\n",
       "    .dataframe tbody tr th {\n",
       "        vertical-align: top;\n",
       "    }\n",
       "\n",
       "    .dataframe thead th {\n",
       "        text-align: right;\n",
       "    }\n",
       "</style>\n",
       "<table border=\"1\" class=\"dataframe\">\n",
       "  <thead>\n",
       "    <tr style=\"text-align: right;\">\n",
       "      <th></th>\n",
       "      <th>SalePrice</th>\n",
       "      <th>auctioneerID</th>\n",
       "      <th>MachineHoursCurrentMeter</th>\n",
       "    </tr>\n",
       "  </thead>\n",
       "  <tbody>\n",
       "    <tr>\n",
       "      <td>count</td>\n",
       "      <td>412698.000000</td>\n",
       "      <td>392562.000000</td>\n",
       "      <td>1.475040e+05</td>\n",
       "    </tr>\n",
       "    <tr>\n",
       "      <td>mean</td>\n",
       "      <td>31215.181414</td>\n",
       "      <td>6.585268</td>\n",
       "      <td>3.522988e+03</td>\n",
       "    </tr>\n",
       "    <tr>\n",
       "      <td>std</td>\n",
       "      <td>23141.743695</td>\n",
       "      <td>17.158409</td>\n",
       "      <td>2.716993e+04</td>\n",
       "    </tr>\n",
       "    <tr>\n",
       "      <td>min</td>\n",
       "      <td>4750.000000</td>\n",
       "      <td>0.000000</td>\n",
       "      <td>0.000000e+00</td>\n",
       "    </tr>\n",
       "    <tr>\n",
       "      <td>25%</td>\n",
       "      <td>14500.000000</td>\n",
       "      <td>1.000000</td>\n",
       "      <td>0.000000e+00</td>\n",
       "    </tr>\n",
       "    <tr>\n",
       "      <td>50%</td>\n",
       "      <td>24000.000000</td>\n",
       "      <td>2.000000</td>\n",
       "      <td>0.000000e+00</td>\n",
       "    </tr>\n",
       "    <tr>\n",
       "      <td>75%</td>\n",
       "      <td>40000.000000</td>\n",
       "      <td>4.000000</td>\n",
       "      <td>3.209000e+03</td>\n",
       "    </tr>\n",
       "    <tr>\n",
       "      <td>max</td>\n",
       "      <td>142000.000000</td>\n",
       "      <td>99.000000</td>\n",
       "      <td>2.483300e+06</td>\n",
       "    </tr>\n",
       "  </tbody>\n",
       "</table>\n",
       "</div>"
      ],
      "text/plain": [
       "           SalePrice   auctioneerID  MachineHoursCurrentMeter\n",
       "count  412698.000000  392562.000000              1.475040e+05\n",
       "mean    31215.181414       6.585268              3.522988e+03\n",
       "std     23141.743695      17.158409              2.716993e+04\n",
       "min      4750.000000       0.000000              0.000000e+00\n",
       "25%     14500.000000       1.000000              0.000000e+00\n",
       "50%     24000.000000       2.000000              0.000000e+00\n",
       "75%     40000.000000       4.000000              3.209000e+03\n",
       "max    142000.000000      99.000000              2.483300e+06"
      ]
     },
     "execution_count": 16,
     "metadata": {},
     "output_type": "execute_result"
    }
   ],
   "source": [
    "df_tmp.describe(include=[\"float64\"])"
   ]
  },
  {
   "cell_type": "code",
   "execution_count": 20,
   "metadata": {},
   "outputs": [
    {
     "data": {
      "text/plain": [
       "(2.0, 0.0)"
      ]
     },
     "execution_count": 20,
     "metadata": {},
     "output_type": "execute_result"
    }
   ],
   "source": [
    "df.auctioneerID.median(), df.MachineHoursCurrentMeter.median()"
   ]
  },
  {
   "cell_type": "code",
   "execution_count": 21,
   "metadata": {},
   "outputs": [],
   "source": [
    "for label, content in df_tmp.items():\n",
    "    if pd.api.types.is_numeric_dtype(content):\n",
    "        if pd.isnull(content).sum():\n",
    "            # Add a binary column which tells us if the data was missing\n",
    "            df_tmp[label+\"_is_missing\"] = pd.isnull(content)\n",
    "            # Fill missing numeric values with median\n",
    "            df_tmp[label] = content.fillna(content.median())"
   ]
  },
  {
   "cell_type": "code",
   "execution_count": 22,
   "metadata": {},
   "outputs": [
    {
     "data": {
      "text/plain": [
       "59"
      ]
     },
     "execution_count": 22,
     "metadata": {},
     "output_type": "execute_result"
    }
   ],
   "source": [
    "len(df_tmp.columns)"
   ]
  },
  {
   "cell_type": "code",
   "execution_count": 25,
   "metadata": {},
   "outputs": [
    {
     "data": {
      "text/html": [
       "<div>\n",
       "<style scoped>\n",
       "    .dataframe tbody tr th:only-of-type {\n",
       "        vertical-align: middle;\n",
       "    }\n",
       "\n",
       "    .dataframe tbody tr th {\n",
       "        vertical-align: top;\n",
       "    }\n",
       "\n",
       "    .dataframe thead th {\n",
       "        text-align: right;\n",
       "    }\n",
       "</style>\n",
       "<table border=\"1\" class=\"dataframe\">\n",
       "  <thead>\n",
       "    <tr style=\"text-align: right;\">\n",
       "      <th></th>\n",
       "      <th>0</th>\n",
       "      <th>1</th>\n",
       "      <th>2</th>\n",
       "      <th>3</th>\n",
       "      <th>4</th>\n",
       "      <th>5</th>\n",
       "      <th>6</th>\n",
       "      <th>7</th>\n",
       "      <th>8</th>\n",
       "      <th>9</th>\n",
       "      <th>10</th>\n",
       "      <th>11</th>\n",
       "      <th>12</th>\n",
       "      <th>13</th>\n",
       "      <th>14</th>\n",
       "      <th>15</th>\n",
       "      <th>16</th>\n",
       "      <th>17</th>\n",
       "      <th>18</th>\n",
       "      <th>19</th>\n",
       "    </tr>\n",
       "  </thead>\n",
       "  <tbody>\n",
       "    <tr>\n",
       "      <td>auctioneerID_is_missing</td>\n",
       "      <td>False</td>\n",
       "      <td>False</td>\n",
       "      <td>False</td>\n",
       "      <td>False</td>\n",
       "      <td>False</td>\n",
       "      <td>False</td>\n",
       "      <td>False</td>\n",
       "      <td>False</td>\n",
       "      <td>False</td>\n",
       "      <td>False</td>\n",
       "      <td>False</td>\n",
       "      <td>False</td>\n",
       "      <td>False</td>\n",
       "      <td>False</td>\n",
       "      <td>False</td>\n",
       "      <td>False</td>\n",
       "      <td>False</td>\n",
       "      <td>False</td>\n",
       "      <td>False</td>\n",
       "      <td>False</td>\n",
       "    </tr>\n",
       "    <tr>\n",
       "      <td>MachineHoursCurrentMeter_is_missing</td>\n",
       "      <td>True</td>\n",
       "      <td>True</td>\n",
       "      <td>True</td>\n",
       "      <td>True</td>\n",
       "      <td>True</td>\n",
       "      <td>True</td>\n",
       "      <td>True</td>\n",
       "      <td>True</td>\n",
       "      <td>True</td>\n",
       "      <td>True</td>\n",
       "      <td>True</td>\n",
       "      <td>True</td>\n",
       "      <td>True</td>\n",
       "      <td>True</td>\n",
       "      <td>True</td>\n",
       "      <td>True</td>\n",
       "      <td>True</td>\n",
       "      <td>True</td>\n",
       "      <td>True</td>\n",
       "      <td>True</td>\n",
       "    </tr>\n",
       "  </tbody>\n",
       "</table>\n",
       "</div>"
      ],
      "text/plain": [
       "                                         0      1      2      3      4      5  \\\n",
       "auctioneerID_is_missing              False  False  False  False  False  False   \n",
       "MachineHoursCurrentMeter_is_missing   True   True   True   True   True   True   \n",
       "\n",
       "                                         6      7      8      9     10     11  \\\n",
       "auctioneerID_is_missing              False  False  False  False  False  False   \n",
       "MachineHoursCurrentMeter_is_missing   True   True   True   True   True   True   \n",
       "\n",
       "                                        12     13     14     15     16     17  \\\n",
       "auctioneerID_is_missing              False  False  False  False  False  False   \n",
       "MachineHoursCurrentMeter_is_missing   True   True   True   True   True   True   \n",
       "\n",
       "                                        18     19  \n",
       "auctioneerID_is_missing              False  False  \n",
       "MachineHoursCurrentMeter_is_missing   True   True  "
      ]
     },
     "execution_count": 25,
     "metadata": {},
     "output_type": "execute_result"
    }
   ],
   "source": [
    "df_tmp.iloc[:20, 57:].T"
   ]
  },
  {
   "cell_type": "markdown",
   "metadata": {},
   "source": [
    "#### observation\n",
    "why these extra 2 columns? Although the missing rows are filled, we want to keep track of this information that these values were initially missing."
   ]
  },
  {
   "cell_type": "code",
   "execution_count": 26,
   "metadata": {},
   "outputs": [],
   "source": [
    "# check if there is still any null numeric column\n",
    "for label, content in df_tmp.items():\n",
    "    if pd.api.types.is_numeric_dtype(content):\n",
    "        if pd.isnull(content).sum():\n",
    "            print(label)"
   ]
  },
  {
   "cell_type": "markdown",
   "metadata": {},
   "source": [
    "### Filling missing categorical values"
   ]
  },
  {
   "cell_type": "code",
   "execution_count": 27,
   "metadata": {},
   "outputs": [
    {
     "name": "stdout",
     "output_type": "stream",
     "text": [
      "UsageBand\n",
      "fiModelDesc\n",
      "fiBaseModel\n",
      "fiSecondaryDesc\n",
      "fiModelSeries\n",
      "fiModelDescriptor\n",
      "ProductSize\n",
      "fiProductClassDesc\n",
      "state\n",
      "ProductGroup\n",
      "ProductGroupDesc\n",
      "Drive_System\n",
      "Enclosure\n",
      "Forks\n",
      "Pad_Type\n",
      "Ride_Control\n",
      "Stick\n",
      "Transmission\n",
      "Turbocharged\n",
      "Blade_Extension\n",
      "Blade_Width\n",
      "Enclosure_Type\n",
      "Engine_Horsepower\n",
      "Hydraulics\n",
      "Pushblock\n",
      "Ripper\n",
      "Scarifier\n",
      "Tip_Control\n",
      "Tire_Size\n",
      "Coupler\n",
      "Coupler_System\n",
      "Grouser_Tracks\n",
      "Hydraulics_Flow\n",
      "Track_Type\n",
      "Undercarriage_Pad_Width\n",
      "Stick_Length\n",
      "Thumb\n",
      "Pattern_Changer\n",
      "Grouser_Type\n",
      "Backhoe_Mounting\n",
      "Blade_Type\n",
      "Travel_Controls\n",
      "Differential_Type\n",
      "Steering_Controls\n"
     ]
    }
   ],
   "source": [
    "# check the columns that are not numeric\n",
    "for label, content in df_tmp.items():\n",
    "    if not pd.api.types.is_numeric_dtype(content):\n",
    "        print(label)"
   ]
  },
  {
   "cell_type": "code",
   "execution_count": 28,
   "metadata": {},
   "outputs": [
    {
     "data": {
      "text/plain": [
       "Index(['Alabama', 'Alaska', 'Arizona', 'Arkansas', 'California', 'Colorado',\n",
       "       'Connecticut', 'Delaware', 'Florida', 'Georgia', 'Hawaii', 'Idaho',\n",
       "       'Illinois', 'Indiana', 'Iowa', 'Kansas', 'Kentucky', 'Louisiana',\n",
       "       'Maine', 'Maryland', 'Massachusetts', 'Michigan', 'Minnesota',\n",
       "       'Mississippi', 'Missouri', 'Montana', 'Nebraska', 'Nevada',\n",
       "       'New Hampshire', 'New Jersey', 'New Mexico', 'New York',\n",
       "       'North Carolina', 'North Dakota', 'Ohio', 'Oklahoma', 'Oregon',\n",
       "       'Pennsylvania', 'Puerto Rico', 'Rhode Island', 'South Carolina',\n",
       "       'South Dakota', 'Tennessee', 'Texas', 'Unspecified', 'Utah', 'Vermont',\n",
       "       'Virginia', 'Washington', 'Washington DC', 'West Virginia', 'Wisconsin',\n",
       "       'Wyoming'],\n",
       "      dtype='object')"
      ]
     },
     "execution_count": 28,
     "metadata": {},
     "output_type": "execute_result"
    }
   ],
   "source": [
    "df_tmp.state.cat.categories"
   ]
  },
  {
   "cell_type": "code",
   "execution_count": 29,
   "metadata": {},
   "outputs": [
    {
     "data": {
      "text/plain": [
       "[Texas, Florida, Florida, Florida, Florida, ..., California, California, California, California, California]\n",
       "Length: 412698\n",
       "Categories (53, object): [Alabama < Alaska < Arizona < Arkansas ... Washington DC < West Virginia < Wisconsin < Wyoming]"
      ]
     },
     "execution_count": 29,
     "metadata": {},
     "output_type": "execute_result"
    }
   ],
   "source": [
    "pd.Categorical(df_tmp[\"state\"])"
   ]
  },
  {
   "cell_type": "code",
   "execution_count": 30,
   "metadata": {},
   "outputs": [
    {
     "data": {
      "text/plain": [
       "Index(['Alabama', 'Alaska', 'Arizona', 'Arkansas', 'California', 'Colorado',\n",
       "       'Connecticut', 'Delaware', 'Florida', 'Georgia', 'Hawaii', 'Idaho',\n",
       "       'Illinois', 'Indiana', 'Iowa', 'Kansas', 'Kentucky', 'Louisiana',\n",
       "       'Maine', 'Maryland', 'Massachusetts', 'Michigan', 'Minnesota',\n",
       "       'Mississippi', 'Missouri', 'Montana', 'Nebraska', 'Nevada',\n",
       "       'New Hampshire', 'New Jersey', 'New Mexico', 'New York',\n",
       "       'North Carolina', 'North Dakota', 'Ohio', 'Oklahoma', 'Oregon',\n",
       "       'Pennsylvania', 'Puerto Rico', 'Rhode Island', 'South Carolina',\n",
       "       'South Dakota', 'Tennessee', 'Texas', 'Unspecified', 'Utah', 'Vermont',\n",
       "       'Virginia', 'Washington', 'Washington DC', 'West Virginia', 'Wisconsin',\n",
       "       'Wyoming'],\n",
       "      dtype='object')"
      ]
     },
     "execution_count": 30,
     "metadata": {},
     "output_type": "execute_result"
    }
   ],
   "source": [
    "pd.Categorical(df_tmp[\"state\"]).categories"
   ]
  },
  {
   "cell_type": "code",
   "execution_count": 31,
   "metadata": {},
   "outputs": [
    {
     "data": {
      "text/plain": [
       "array([43,  8,  8, ...,  4,  4,  4], dtype=int8)"
      ]
     },
     "execution_count": 31,
     "metadata": {},
     "output_type": "execute_result"
    }
   ],
   "source": [
    "pd.Categorical(df_tmp[\"state\"]).codes"
   ]
  },
  {
   "cell_type": "markdown",
   "metadata": {},
   "source": [
    "### Turn categorical variables into numbers and fill missing"
   ]
  },
  {
   "cell_type": "code",
   "execution_count": 34,
   "metadata": {},
   "outputs": [
    {
     "data": {
      "text/plain": [
       "array([-1, -1, -1, ..., -1, -1, -1], dtype=int8)"
      ]
     },
     "execution_count": 34,
     "metadata": {},
     "output_type": "execute_result"
    }
   ],
   "source": [
    "pd.Categorical(df_tmp[\"UsageBand\"]).codes"
   ]
  },
  {
   "cell_type": "code",
   "execution_count": 35,
   "metadata": {},
   "outputs": [
    {
     "data": {
      "text/plain": [
       "array([0, 0, 0, ..., 0, 0, 0], dtype=int8)"
      ]
     },
     "execution_count": 35,
     "metadata": {},
     "output_type": "execute_result"
    }
   ],
   "source": [
    "pd.Categorical(df_tmp[\"UsageBand\"]).codes + 1"
   ]
  },
  {
   "cell_type": "code",
   "execution_count": 36,
   "metadata": {},
   "outputs": [],
   "source": [
    "for label, content in df_tmp.items():\n",
    "    if not pd.api.types.is_numeric_dtype(content):\n",
    "        # Add binary column\n",
    "        df_tmp[label+\"_is_missing\"] = pd.isnull(content)\n",
    "        # Turn categories into numbers and add 1\n",
    "        df_tmp[label] = pd.Categorical(df_tmp[\"state\"]).codes + 1"
   ]
  },
  {
   "cell_type": "code",
   "execution_count": 33,
   "metadata": {},
   "outputs": [
    {
     "data": {
      "text/plain": [
       "array([44,  9,  9, ...,  5,  5,  5], dtype=int8)"
      ]
     },
     "execution_count": 33,
     "metadata": {},
     "output_type": "execute_result"
    }
   ],
   "source": [
    "pd.Categorical(df_tmp[\"state\"]).codes + 1"
   ]
  },
  {
   "cell_type": "markdown",
   "metadata": {},
   "source": [
    "##### Why adding 1?\n",
    "\n",
    "If pandas category has missing values, it encoded `-1`. To make it 0 we add 1."
   ]
  },
  {
   "cell_type": "code",
   "execution_count": 38,
   "metadata": {},
   "outputs": [
    {
     "name": "stdout",
     "output_type": "stream",
     "text": [
      "<class 'pandas.core.frame.DataFrame'>\n",
      "RangeIndex: 412698 entries, 0 to 412697\n",
      "Columns: 103 entries, SalesID to Steering_Controls_is_missing\n",
      "dtypes: bool(46), float64(3), int64(10), int8(44)\n",
      "memory usage: 76.4 MB\n"
     ]
    }
   ],
   "source": [
    "df_tmp.info()"
   ]
  },
  {
   "cell_type": "code",
   "execution_count": 39,
   "metadata": {},
   "outputs": [
    {
     "data": {
      "text/plain": [
       "103"
      ]
     },
     "execution_count": 39,
     "metadata": {},
     "output_type": "execute_result"
    }
   ],
   "source": [
    "len(df_tmp.columns)"
   ]
  },
  {
   "cell_type": "code",
   "execution_count": 41,
   "metadata": {},
   "outputs": [
    {
     "data": {
      "text/plain": [
       "SalesID                         0\n",
       "SalePrice                       0\n",
       "MachineID                       0\n",
       "ModelID                         0\n",
       "datasource                      0\n",
       "                               ..\n",
       "Backhoe_Mounting_is_missing     0\n",
       "Blade_Type_is_missing           0\n",
       "Travel_Controls_is_missing      0\n",
       "Differential_Type_is_missing    0\n",
       "Steering_Controls_is_missing    0\n",
       "Length: 103, dtype: int64"
      ]
     },
     "execution_count": 41,
     "metadata": {},
     "output_type": "execute_result"
    }
   ],
   "source": [
    "df_tmp.isnull().sum()"
   ]
  },
  {
   "cell_type": "markdown",
   "metadata": {},
   "source": [
    "## Build model\n",
    "\n",
    "As there are no missing value in the dataset, we can now build our model"
   ]
  },
  {
   "cell_type": "code",
   "execution_count": 42,
   "metadata": {},
   "outputs": [],
   "source": [
    "from sklearn.ensemble import RandomForestRegressor"
   ]
  },
  {
   "cell_type": "code",
   "execution_count": 43,
   "metadata": {},
   "outputs": [
    {
     "name": "stdout",
     "output_type": "stream",
     "text": [
      "Wall time: 20min 49s\n"
     ]
    },
    {
     "data": {
      "text/plain": [
       "RandomForestRegressor(n_jobs=-1, random_state=42)"
      ]
     },
     "execution_count": 43,
     "metadata": {},
     "output_type": "execute_result"
    }
   ],
   "source": [
    "%%time\n",
    "\n",
    "X = df_tmp.drop(\"SalePrice\", axis=1)\n",
    "y = df_tmp[\"SalePrice\"]\n",
    "\n",
    "# Instantiating model\n",
    "model = RandomForestRegressor(n_jobs=-1, random_state=42)\n",
    "# fit the model\n",
    "model.fit(X, y)"
   ]
  },
  {
   "cell_type": "markdown",
   "metadata": {},
   "source": [
    "### Save preprocessed data"
   ]
  },
  {
   "cell_type": "code",
   "execution_count": 44,
   "metadata": {},
   "outputs": [],
   "source": [
    "df_tmp.to_csv(\"data/eda_2.csv\", index=False)"
   ]
  },
  {
   "cell_type": "code",
   "execution_count": null,
   "metadata": {},
   "outputs": [],
   "source": []
  }
 ],
 "metadata": {
  "kernelspec": {
   "display_name": "Python 3",
   "language": "python",
   "name": "python3"
  },
  "language_info": {
   "codemirror_mode": {
    "name": "ipython",
    "version": 3
   },
   "file_extension": ".py",
   "mimetype": "text/x-python",
   "name": "python",
   "nbconvert_exporter": "python",
   "pygments_lexer": "ipython3",
   "version": "3.7.4"
  }
 },
 "nbformat": 4,
 "nbformat_minor": 2
}
