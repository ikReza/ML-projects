{
 "cells": [
  {
   "cell_type": "code",
   "execution_count": 75,
   "metadata": {},
   "outputs": [],
   "source": [
    "import pandas as pd\n",
    "import numpy as np\n",
    "import matplotlib.pyplot as plt\n",
    "plt.style.use(\"default\")"
   ]
  },
  {
   "cell_type": "code",
   "execution_count": 2,
   "metadata": {},
   "outputs": [],
   "source": [
    "df = pd.read_csv(\"data/eda_2.csv\", low_memory=False)"
   ]
  },
  {
   "cell_type": "code",
   "execution_count": 3,
   "metadata": {},
   "outputs": [
    {
     "data": {
      "text/plain": [
       "SalesID                           int64\n",
       "SalePrice                       float64\n",
       "MachineID                         int64\n",
       "ModelID                           int64\n",
       "datasource                        int64\n",
       "                                 ...   \n",
       "Backhoe_Mounting_is_missing        bool\n",
       "Blade_Type_is_missing              bool\n",
       "Travel_Controls_is_missing         bool\n",
       "Differential_Type_is_missing       bool\n",
       "Steering_Controls_is_missing       bool\n",
       "Length: 103, dtype: object"
      ]
     },
     "execution_count": 3,
     "metadata": {},
     "output_type": "execute_result"
    }
   ],
   "source": [
    "df.dtypes"
   ]
  },
  {
   "cell_type": "markdown",
   "metadata": {},
   "source": [
    "## Split our data into train and test\n",
    "\n",
    "The data for this competition is split into three parts:\n",
    "\n",
    "- Train.csv is the training set, which contains data through **the end of 2011**.\n",
    "- Valid.csv is the validation set, which contains data from **January 1, 2012 - April 30, 2012** You make predictions on this set throughout the majority of the competition.\n",
    "- Test.csv is the test set. It contains data from **May 1, 2012 - November 2012**."
   ]
  },
  {
   "cell_type": "code",
   "execution_count": 5,
   "metadata": {},
   "outputs": [
    {
     "data": {
      "text/plain": [
       "412693    2012\n",
       "412694    2012\n",
       "412695    2012\n",
       "412696    2012\n",
       "412697    2012\n",
       "Name: saleYear, dtype: int64"
      ]
     },
     "execution_count": 5,
     "metadata": {},
     "output_type": "execute_result"
    }
   ],
   "source": [
    "df.saleYear.tail()"
   ]
  },
  {
   "cell_type": "code",
   "execution_count": 6,
   "metadata": {},
   "outputs": [
    {
     "data": {
      "text/plain": [
       "412693    4\n",
       "412694    4\n",
       "412695    4\n",
       "412696    4\n",
       "412697    4\n",
       "Name: saleMonth, dtype: int64"
      ]
     },
     "execution_count": 6,
     "metadata": {},
     "output_type": "execute_result"
    }
   ],
   "source": [
    "df.saleMonth.tail()"
   ]
  },
  {
   "cell_type": "markdown",
   "metadata": {},
   "source": [
    "#### observation\n",
    "Though train and validation file is given separately, I wanted to create the validation set on my own. So I imported `TrainAndValid.csv` file in the first place instead of importing `Train.csv` file"
   ]
  },
  {
   "cell_type": "code",
   "execution_count": 7,
   "metadata": {},
   "outputs": [
    {
     "data": {
      "text/plain": [
       "1989     4806\n",
       "1990     4529\n",
       "1991     5109\n",
       "1992     5519\n",
       "1993     6303\n",
       "1994     7929\n",
       "1995     8530\n",
       "1996     8829\n",
       "1997     9785\n",
       "1998    13046\n",
       "1999    12793\n",
       "2000    17415\n",
       "2001    17594\n",
       "2002    17246\n",
       "2003    15254\n",
       "2004    19879\n",
       "2005    20463\n",
       "2006    21685\n",
       "2007    32208\n",
       "2008    39767\n",
       "2009    43849\n",
       "2010    33390\n",
       "2011    35197\n",
       "2012    11573\n",
       "Name: saleYear, dtype: int64"
      ]
     },
     "execution_count": 7,
     "metadata": {},
     "output_type": "execute_result"
    }
   ],
   "source": [
    "df.saleYear.value_counts().sort_index()"
   ]
  },
  {
   "cell_type": "code",
   "execution_count": 8,
   "metadata": {},
   "outputs": [
    {
     "data": {
      "text/plain": [
       "11573"
      ]
     },
     "execution_count": 8,
     "metadata": {},
     "output_type": "execute_result"
    }
   ],
   "source": [
    "# split data into train and validation\n",
    "df_train = df[df[\"saleYear\"] < 2012]\n",
    "df_valid = df[df[\"saleYear\"] == 2012]\n",
    "len(df_valid)"
   ]
  },
  {
   "cell_type": "code",
   "execution_count": 11,
   "metadata": {},
   "outputs": [
    {
     "data": {
      "text/plain": [
       "array([1989, 1990, 1991, 1992, 1993, 1994, 1995, 1996, 1997, 1998, 1999,\n",
       "       2000, 2001, 2002, 2003, 2004, 2005, 2006, 2007, 2008, 2009, 2010,\n",
       "       2011], dtype=int64)"
      ]
     },
     "execution_count": 11,
     "metadata": {},
     "output_type": "execute_result"
    }
   ],
   "source": [
    "np.unique(df_train.saleYear)"
   ]
  },
  {
   "cell_type": "code",
   "execution_count": 12,
   "metadata": {},
   "outputs": [],
   "source": [
    "# split data into X & y\n",
    "X_train, y_train = df_train.drop(\"SalePrice\", axis=1), df_train[\"SalePrice\"]\n",
    "X_valid, y_valid = df_valid.drop(\"SalePrice\", axis=1), df_valid[\"SalePrice\"]"
   ]
  },
  {
   "cell_type": "code",
   "execution_count": 13,
   "metadata": {},
   "outputs": [
    {
     "data": {
      "text/plain": [
       "((401125, 102), (401125,), (11573, 102), (11573,))"
      ]
     },
     "execution_count": 13,
     "metadata": {},
     "output_type": "execute_result"
    }
   ],
   "source": [
    "X_train.shape, y_train.shape, X_valid.shape, y_valid.shape"
   ]
  },
  {
   "cell_type": "code",
   "execution_count": 59,
   "metadata": {},
   "outputs": [],
   "source": [
    "X_train.to_csv(\"data/x_train.csv\", index=False)"
   ]
  },
  {
   "cell_type": "markdown",
   "metadata": {},
   "source": [
    "## Evaluation metric\n",
    "\n",
    "The evaluation metric for this competition is the **RMSLE (root mean squared log error)** between the actual and predicted auction prices."
   ]
  },
  {
   "cell_type": "code",
   "execution_count": 16,
   "metadata": {},
   "outputs": [],
   "source": [
    "from sklearn.metrics import mean_squared_log_error, mean_absolute_error, r2_score"
   ]
  },
  {
   "cell_type": "code",
   "execution_count": 15,
   "metadata": {},
   "outputs": [],
   "source": [
    "def rmsle(y_test, y_pred):\n",
    "    \"\"\"\n",
    "    Calculate root measn squared log error between test data and predicted data\n",
    "    \"\"\"\n",
    "    return np.sqrt(mean_squared_log_error(y_test, y_pred))"
   ]
  },
  {
   "cell_type": "code",
   "execution_count": 36,
   "metadata": {},
   "outputs": [],
   "source": [
    "def show_score(model):\n",
    "    train_pred = model.predict(X_train)\n",
    "    valid_pred = model.predict(X_valid)\n",
    "    scores = {\"Training MAE\": mean_absolute_error(y_train, train_pred),\n",
    "              \"Validation MAE\": mean_absolute_error(y_valid, valid_pred),\n",
    "              \"Training RMSLE\": rmsle(y_train, train_pred),\n",
    "              \"Validation RMSLE\": rmsle(y_valid, valid_pred),\n",
    "              \"Training R^2\": r2_score(y_train, train_pred),\n",
    "              \"Validation R^2\": r2_score(y_valid, valid_pred)}\n",
    "    return scores"
   ]
  },
  {
   "cell_type": "markdown",
   "metadata": {},
   "source": [
    "#### observation\n",
    "\n",
    "It took nearly 21 minutes in the previus notebook to train the model. So before doing so, tune the hyperparameters on subset of the training data to reduce the time of training."
   ]
  },
  {
   "cell_type": "markdown",
   "metadata": {},
   "source": [
    "## Hyperparameter tuning"
   ]
  },
  {
   "cell_type": "code",
   "execution_count": 18,
   "metadata": {},
   "outputs": [],
   "source": [
    "from sklearn.ensemble import RandomForestRegressor"
   ]
  },
  {
   "cell_type": "code",
   "execution_count": 32,
   "metadata": {},
   "outputs": [
    {
     "name": "stdout",
     "output_type": "stream",
     "text": [
      "Wall time: 19min 16s\n"
     ]
    },
    {
     "data": {
      "text/plain": [
       "RandomForestRegressor(n_jobs=-1, random_state=42)"
      ]
     },
     "execution_count": 32,
     "metadata": {},
     "output_type": "execute_result"
    }
   ],
   "source": [
    "%%time\n",
    "\n",
    "model = RandomForestRegressor(n_jobs=-1, random_state=42)\n",
    "model.fit(X_train, y_train)"
   ]
  },
  {
   "cell_type": "code",
   "execution_count": 20,
   "metadata": {},
   "outputs": [
    {
     "data": {
      "text/plain": [
       "['__abstractmethods__',\n",
       " '__annotations__',\n",
       " '__class__',\n",
       " '__delattr__',\n",
       " '__dict__',\n",
       " '__dir__',\n",
       " '__doc__',\n",
       " '__eq__',\n",
       " '__format__',\n",
       " '__ge__',\n",
       " '__getattribute__',\n",
       " '__getitem__',\n",
       " '__getstate__',\n",
       " '__gt__',\n",
       " '__hash__',\n",
       " '__init__',\n",
       " '__init_subclass__',\n",
       " '__iter__',\n",
       " '__le__',\n",
       " '__len__',\n",
       " '__lt__',\n",
       " '__module__',\n",
       " '__ne__',\n",
       " '__new__',\n",
       " '__reduce__',\n",
       " '__reduce_ex__',\n",
       " '__repr__',\n",
       " '__setattr__',\n",
       " '__setstate__',\n",
       " '__sizeof__',\n",
       " '__str__',\n",
       " '__subclasshook__',\n",
       " '__weakref__',\n",
       " '_abc_impl',\n",
       " '_check_n_features',\n",
       " '_compute_partial_dependence_recursion',\n",
       " '_estimator_type',\n",
       " '_get_param_names',\n",
       " '_get_tags',\n",
       " '_make_estimator',\n",
       " '_more_tags',\n",
       " '_repr_html_',\n",
       " '_repr_html_inner',\n",
       " '_repr_mimebundle_',\n",
       " '_required_parameters',\n",
       " '_set_oob_score',\n",
       " '_validate_X_predict',\n",
       " '_validate_data',\n",
       " '_validate_estimator',\n",
       " '_validate_y_class_weight',\n",
       " 'apply',\n",
       " 'base_estimator',\n",
       " 'bootstrap',\n",
       " 'ccp_alpha',\n",
       " 'class_weight',\n",
       " 'criterion',\n",
       " 'decision_path',\n",
       " 'estimator_params',\n",
       " 'feature_importances_',\n",
       " 'fit',\n",
       " 'get_params',\n",
       " 'max_depth',\n",
       " 'max_features',\n",
       " 'max_leaf_nodes',\n",
       " 'max_samples',\n",
       " 'min_impurity_decrease',\n",
       " 'min_impurity_split',\n",
       " 'min_samples_leaf',\n",
       " 'min_samples_split',\n",
       " 'min_weight_fraction_leaf',\n",
       " 'n_estimators',\n",
       " 'n_jobs',\n",
       " 'oob_score',\n",
       " 'predict',\n",
       " 'random_state',\n",
       " 'score',\n",
       " 'set_params',\n",
       " 'verbose',\n",
       " 'warm_start']"
      ]
     },
     "execution_count": 20,
     "metadata": {},
     "output_type": "execute_result"
    }
   ],
   "source": [
    "dir(model)"
   ]
  },
  {
   "cell_type": "markdown",
   "metadata": {},
   "source": [
    "**max_samples :** int or float, default=None\n",
    "\n",
    "If bootstrap is True, the number of samples to draw from X to train each base estimator.\n",
    "\n",
    "- If None (default), then draw `X.shape[0]` samples.\n",
    "- If int, then draw `max_samples` samples.\n",
    "- If float, then draw `max_samples * X.shape[0]` samples. Thus, `max_samples` should be in the interval `(0, 1)`.\n"
   ]
  },
  {
   "cell_type": "code",
   "execution_count": 28,
   "metadata": {},
   "outputs": [
    {
     "data": {
      "text/plain": [
       "401125"
      ]
     },
     "execution_count": 28,
     "metadata": {},
     "output_type": "execute_result"
    }
   ],
   "source": [
    "X_train.shape[0]"
   ]
  },
  {
   "cell_type": "code",
   "execution_count": 29,
   "metadata": {},
   "outputs": [
    {
     "data": {
      "text/plain": [
       "100"
      ]
     },
     "execution_count": 29,
     "metadata": {},
     "output_type": "execute_result"
    }
   ],
   "source": [
    "model.n_estimators"
   ]
  },
  {
   "cell_type": "markdown",
   "metadata": {},
   "source": [
    "##### observation\n",
    "if `max_samples=None`, every 100 estimators will calculate for large number of samples: `X_train.shape[0] = 401125`"
   ]
  },
  {
   "cell_type": "code",
   "execution_count": 30,
   "metadata": {},
   "outputs": [
    {
     "data": {
      "text/plain": [
       "40112500"
      ]
     },
     "execution_count": 30,
     "metadata": {},
     "output_type": "execute_result"
    }
   ],
   "source": [
    "X_train.shape[0] * model.n_estimators"
   ]
  },
  {
   "cell_type": "markdown",
   "metadata": {},
   "source": [
    "### Reducing data"
   ]
  },
  {
   "cell_type": "code",
   "execution_count": 33,
   "metadata": {},
   "outputs": [
    {
     "name": "stdout",
     "output_type": "stream",
     "text": [
      "Wall time: 4min 34s\n"
     ]
    },
    {
     "data": {
      "text/plain": [
       "RandomForestRegressor(max_samples=10000, n_jobs=-1, random_state=42)"
      ]
     },
     "execution_count": 33,
     "metadata": {},
     "output_type": "execute_result"
    }
   ],
   "source": [
    "%%time\n",
    "\n",
    "model = RandomForestRegressor(n_jobs=-1, random_state=42, max_samples=10000)\n",
    "model.fit(X_train, y_train)"
   ]
  },
  {
   "cell_type": "markdown",
   "metadata": {},
   "source": [
    "Still took 4 minutes+, so my pc is very slow 😥"
   ]
  },
  {
   "cell_type": "code",
   "execution_count": 37,
   "metadata": {},
   "outputs": [
    {
     "data": {
      "text/plain": [
       "{'Training MAE': 6407.885300392647,\n",
       " 'Validation MAE': 8633.326159163571,\n",
       " 'Training RMSLE': 0.3039361354447437,\n",
       " 'Validation RMSLE': 0.3789932056768934,\n",
       " 'Training R^2': 0.8179641412786905,\n",
       " 'Validation R^2': 0.7681849235754674}"
      ]
     },
     "execution_count": 37,
     "metadata": {},
     "output_type": "execute_result"
    }
   ],
   "source": [
    "# showing scores\n",
    "show_score(model)"
   ]
  },
  {
   "cell_type": "markdown",
   "metadata": {},
   "source": [
    "So my $ RMSLE \\approx 0.3789 $\n",
    "\n",
    "The best score in the kaggle leaderboard $ \\approx 0.229 $"
   ]
  },
  {
   "cell_type": "markdown",
   "metadata": {},
   "source": [
    "### Hyperparameter tuning with `RandomizedSearchCV` because `GridSearchCV` is slow"
   ]
  },
  {
   "cell_type": "code",
   "execution_count": 38,
   "metadata": {},
   "outputs": [],
   "source": [
    "from sklearn.model_selection import RandomizedSearchCV"
   ]
  },
  {
   "cell_type": "code",
   "execution_count": 39,
   "metadata": {},
   "outputs": [
    {
     "name": "stdout",
     "output_type": "stream",
     "text": [
      "Fitting 5 folds for each of 2 candidates, totalling 10 fits\n"
     ]
    },
    {
     "name": "stderr",
     "output_type": "stream",
     "text": [
      "[Parallel(n_jobs=1)]: Using backend SequentialBackend with 1 concurrent workers.\n",
      "[Parallel(n_jobs=1)]: Done  10 out of  10 | elapsed:  2.4min finished\n"
     ]
    },
    {
     "name": "stdout",
     "output_type": "stream",
     "text": [
      "Wall time: 2min 32s\n"
     ]
    },
    {
     "data": {
      "text/plain": [
       "RandomizedSearchCV(cv=5,\n",
       "                   estimator=RandomForestRegressor(n_jobs=-1, random_state=42),\n",
       "                   n_iter=2,\n",
       "                   param_distributions={'max_depth': [None, 3, 5, 10],\n",
       "                                        'max_features': ['auto', 'sqrt', 'log2',\n",
       "                                                         0.5, 1],\n",
       "                                        'max_samples': [10000],\n",
       "                                        'min_samples_leaf': array([2, 4, 6, 8]),\n",
       "                                        'min_samples_split': array([2, 4, 6, 8]),\n",
       "                                        'n_estimators': array([10, 20, 30, 40, 50, 60, 70, 80, 90])},\n",
       "                   verbose=True)"
      ]
     },
     "execution_count": 39,
     "metadata": {},
     "output_type": "execute_result"
    }
   ],
   "source": [
    "%%time\n",
    "\n",
    "estimator = RandomForestRegressor(n_jobs=-1, random_state=42)\n",
    "param_distribution = {\n",
    "    \"n_estimators\": np.arange(10, 100, 10),\n",
    "    \"max_depth\": [None, 3, 5, 10],\n",
    "    \"min_samples_split\": np.arange(2, 10, 2),\n",
    "    \"min_samples_leaf\": np.arange(2, 10, 2),\n",
    "    \"max_features\": [\"auto\", \"sqrt\", \"log2\", 0.5, 1],\n",
    "    \"max_samples\": [10000]\n",
    "}\n",
    "\n",
    "rs_model = RandomizedSearchCV(estimator,\n",
    "                              param_distribution,\n",
    "                              cv=5,\n",
    "                              n_iter=2,\n",
    "                              verbose=True)\n",
    "\n",
    "rs_model.fit(X_train, y_train)"
   ]
  },
  {
   "cell_type": "code",
   "execution_count": 40,
   "metadata": {},
   "outputs": [
    {
     "data": {
      "text/html": [
       "<div>\n",
       "<style scoped>\n",
       "    .dataframe tbody tr th:only-of-type {\n",
       "        vertical-align: middle;\n",
       "    }\n",
       "\n",
       "    .dataframe tbody tr th {\n",
       "        vertical-align: top;\n",
       "    }\n",
       "\n",
       "    .dataframe thead th {\n",
       "        text-align: right;\n",
       "    }\n",
       "</style>\n",
       "<table border=\"1\" class=\"dataframe\">\n",
       "  <thead>\n",
       "    <tr style=\"text-align: right;\">\n",
       "      <th></th>\n",
       "      <th>mean_fit_time</th>\n",
       "      <th>std_fit_time</th>\n",
       "      <th>mean_score_time</th>\n",
       "      <th>std_score_time</th>\n",
       "      <th>param_n_estimators</th>\n",
       "      <th>param_min_samples_split</th>\n",
       "      <th>param_min_samples_leaf</th>\n",
       "      <th>param_max_samples</th>\n",
       "      <th>param_max_features</th>\n",
       "      <th>param_max_depth</th>\n",
       "      <th>params</th>\n",
       "      <th>split0_test_score</th>\n",
       "      <th>split1_test_score</th>\n",
       "      <th>split2_test_score</th>\n",
       "      <th>split3_test_score</th>\n",
       "      <th>split4_test_score</th>\n",
       "      <th>mean_test_score</th>\n",
       "      <th>std_test_score</th>\n",
       "      <th>rank_test_score</th>\n",
       "    </tr>\n",
       "  </thead>\n",
       "  <tbody>\n",
       "    <tr>\n",
       "      <td>0</td>\n",
       "      <td>19.979338</td>\n",
       "      <td>20.514143</td>\n",
       "      <td>1.269279</td>\n",
       "      <td>0.072749</td>\n",
       "      <td>60</td>\n",
       "      <td>8</td>\n",
       "      <td>4</td>\n",
       "      <td>10000</td>\n",
       "      <td>log2</td>\n",
       "      <td>10</td>\n",
       "      <td>{'n_estimators': 60, 'min_samples_split': 8, '...</td>\n",
       "      <td>0.311564</td>\n",
       "      <td>0.473211</td>\n",
       "      <td>0.480899</td>\n",
       "      <td>0.462814</td>\n",
       "      <td>0.459430</td>\n",
       "      <td>0.437584</td>\n",
       "      <td>0.063467</td>\n",
       "      <td>2</td>\n",
       "    </tr>\n",
       "    <tr>\n",
       "      <td>1</td>\n",
       "      <td>6.783725</td>\n",
       "      <td>0.084919</td>\n",
       "      <td>0.891496</td>\n",
       "      <td>0.040498</td>\n",
       "      <td>10</td>\n",
       "      <td>2</td>\n",
       "      <td>2</td>\n",
       "      <td>10000</td>\n",
       "      <td>auto</td>\n",
       "      <td>5</td>\n",
       "      <td>{'n_estimators': 10, 'min_samples_split': 2, '...</td>\n",
       "      <td>0.290401</td>\n",
       "      <td>0.523888</td>\n",
       "      <td>0.570024</td>\n",
       "      <td>0.512298</td>\n",
       "      <td>0.490148</td>\n",
       "      <td>0.477352</td>\n",
       "      <td>0.097045</td>\n",
       "      <td>1</td>\n",
       "    </tr>\n",
       "  </tbody>\n",
       "</table>\n",
       "</div>"
      ],
      "text/plain": [
       "   mean_fit_time  std_fit_time  mean_score_time  std_score_time  \\\n",
       "0      19.979338     20.514143         1.269279        0.072749   \n",
       "1       6.783725      0.084919         0.891496        0.040498   \n",
       "\n",
       "  param_n_estimators param_min_samples_split param_min_samples_leaf  \\\n",
       "0                 60                       8                      4   \n",
       "1                 10                       2                      2   \n",
       "\n",
       "  param_max_samples param_max_features param_max_depth  \\\n",
       "0             10000               log2              10   \n",
       "1             10000               auto               5   \n",
       "\n",
       "                                              params  split0_test_score  \\\n",
       "0  {'n_estimators': 60, 'min_samples_split': 8, '...           0.311564   \n",
       "1  {'n_estimators': 10, 'min_samples_split': 2, '...           0.290401   \n",
       "\n",
       "   split1_test_score  split2_test_score  split3_test_score  split4_test_score  \\\n",
       "0           0.473211           0.480899           0.462814           0.459430   \n",
       "1           0.523888           0.570024           0.512298           0.490148   \n",
       "\n",
       "   mean_test_score  std_test_score  rank_test_score  \n",
       "0         0.437584        0.063467                2  \n",
       "1         0.477352        0.097045                1  "
      ]
     },
     "execution_count": 40,
     "metadata": {},
     "output_type": "execute_result"
    }
   ],
   "source": [
    "pd.DataFrame(rs_model.cv_results_)"
   ]
  },
  {
   "cell_type": "markdown",
   "metadata": {},
   "source": [
    "#### increasing `n_iter`"
   ]
  },
  {
   "cell_type": "code",
   "execution_count": 41,
   "metadata": {},
   "outputs": [
    {
     "name": "stdout",
     "output_type": "stream",
     "text": [
      "Fitting 5 folds for each of 10 candidates, totalling 50 fits\n"
     ]
    },
    {
     "name": "stderr",
     "output_type": "stream",
     "text": [
      "[Parallel(n_jobs=1)]: Using backend SequentialBackend with 1 concurrent workers.\n",
      "[Parallel(n_jobs=1)]: Done  50 out of  50 | elapsed:  9.5min finished\n"
     ]
    },
    {
     "name": "stdout",
     "output_type": "stream",
     "text": [
      "Wall time: 9min 49s\n"
     ]
    },
    {
     "data": {
      "text/plain": [
       "RandomizedSearchCV(cv=5,\n",
       "                   estimator=RandomForestRegressor(n_jobs=-1, random_state=42),\n",
       "                   param_distributions={'max_depth': [None, 3, 5, 10],\n",
       "                                        'max_features': ['auto', 'sqrt', 0.5,\n",
       "                                                         1],\n",
       "                                        'max_samples': [10000],\n",
       "                                        'min_samples_leaf': array([2, 4, 6, 8]),\n",
       "                                        'min_samples_split': array([2, 4, 6, 8]),\n",
       "                                        'n_estimators': array([10, 20, 30, 40, 50, 60, 70, 80, 90])},\n",
       "                   verbose=True)"
      ]
     },
     "execution_count": 41,
     "metadata": {},
     "output_type": "execute_result"
    }
   ],
   "source": [
    "%%time\n",
    "\n",
    "estimator = RandomForestRegressor(n_jobs=-1, random_state=42)\n",
    "param_distribution = {\n",
    "    \"n_estimators\": np.arange(10, 100, 10),\n",
    "    \"max_depth\": [None, 3, 5, 10],\n",
    "    \"min_samples_split\": np.arange(2, 10, 2),\n",
    "    \"min_samples_leaf\": np.arange(2, 10, 2),\n",
    "    \"max_features\": [\"auto\", \"sqrt\", 0.5, 1],\n",
    "    \"max_samples\": [10000]\n",
    "}\n",
    "\n",
    "rs_model = RandomizedSearchCV(estimator,\n",
    "                              param_distribution,\n",
    "                              cv=5,\n",
    "                              n_iter=10,\n",
    "                              verbose=True)\n",
    "\n",
    "rs_model.fit(X_train, y_train)"
   ]
  },
  {
   "cell_type": "code",
   "execution_count": 42,
   "metadata": {},
   "outputs": [
    {
     "data": {
      "text/html": [
       "<div>\n",
       "<style scoped>\n",
       "    .dataframe tbody tr th:only-of-type {\n",
       "        vertical-align: middle;\n",
       "    }\n",
       "\n",
       "    .dataframe tbody tr th {\n",
       "        vertical-align: top;\n",
       "    }\n",
       "\n",
       "    .dataframe thead th {\n",
       "        text-align: right;\n",
       "    }\n",
       "</style>\n",
       "<table border=\"1\" class=\"dataframe\">\n",
       "  <thead>\n",
       "    <tr style=\"text-align: right;\">\n",
       "      <th></th>\n",
       "      <th>mean_fit_time</th>\n",
       "      <th>std_fit_time</th>\n",
       "      <th>mean_score_time</th>\n",
       "      <th>std_score_time</th>\n",
       "      <th>param_n_estimators</th>\n",
       "      <th>param_min_samples_split</th>\n",
       "      <th>param_min_samples_leaf</th>\n",
       "      <th>param_max_samples</th>\n",
       "      <th>param_max_features</th>\n",
       "      <th>param_max_depth</th>\n",
       "      <th>params</th>\n",
       "      <th>split0_test_score</th>\n",
       "      <th>split1_test_score</th>\n",
       "      <th>split2_test_score</th>\n",
       "      <th>split3_test_score</th>\n",
       "      <th>split4_test_score</th>\n",
       "      <th>mean_test_score</th>\n",
       "      <th>std_test_score</th>\n",
       "      <th>rank_test_score</th>\n",
       "    </tr>\n",
       "  </thead>\n",
       "  <tbody>\n",
       "    <tr>\n",
       "      <td>0</td>\n",
       "      <td>23.374594</td>\n",
       "      <td>1.917335</td>\n",
       "      <td>1.573104</td>\n",
       "      <td>0.065684</td>\n",
       "      <td>80</td>\n",
       "      <td>8</td>\n",
       "      <td>2</td>\n",
       "      <td>10000</td>\n",
       "      <td>0.5</td>\n",
       "      <td>None</td>\n",
       "      <td>{'n_estimators': 80, 'min_samples_split': 8, '...</td>\n",
       "      <td>0.515769</td>\n",
       "      <td>0.731894</td>\n",
       "      <td>0.757783</td>\n",
       "      <td>0.734450</td>\n",
       "      <td>0.704748</td>\n",
       "      <td>0.688929</td>\n",
       "      <td>0.088197</td>\n",
       "      <td>1</td>\n",
       "    </tr>\n",
       "    <tr>\n",
       "      <td>1</td>\n",
       "      <td>8.863159</td>\n",
       "      <td>0.212388</td>\n",
       "      <td>1.342632</td>\n",
       "      <td>0.038958</td>\n",
       "      <td>60</td>\n",
       "      <td>6</td>\n",
       "      <td>2</td>\n",
       "      <td>10000</td>\n",
       "      <td>1</td>\n",
       "      <td>None</td>\n",
       "      <td>{'n_estimators': 60, 'min_samples_split': 6, '...</td>\n",
       "      <td>0.286343</td>\n",
       "      <td>0.420228</td>\n",
       "      <td>0.428399</td>\n",
       "      <td>0.395145</td>\n",
       "      <td>0.374361</td>\n",
       "      <td>0.380895</td>\n",
       "      <td>0.050970</td>\n",
       "      <td>6</td>\n",
       "    </tr>\n",
       "    <tr>\n",
       "      <td>2</td>\n",
       "      <td>12.006926</td>\n",
       "      <td>0.267660</td>\n",
       "      <td>1.006625</td>\n",
       "      <td>0.047153</td>\n",
       "      <td>60</td>\n",
       "      <td>4</td>\n",
       "      <td>4</td>\n",
       "      <td>10000</td>\n",
       "      <td>0.5</td>\n",
       "      <td>5</td>\n",
       "      <td>{'n_estimators': 60, 'min_samples_split': 4, '...</td>\n",
       "      <td>0.269426</td>\n",
       "      <td>0.526519</td>\n",
       "      <td>0.537665</td>\n",
       "      <td>0.499810</td>\n",
       "      <td>0.491165</td>\n",
       "      <td>0.464917</td>\n",
       "      <td>0.099207</td>\n",
       "      <td>5</td>\n",
       "    </tr>\n",
       "    <tr>\n",
       "      <td>3</td>\n",
       "      <td>6.249862</td>\n",
       "      <td>0.348420</td>\n",
       "      <td>0.977649</td>\n",
       "      <td>0.020388</td>\n",
       "      <td>30</td>\n",
       "      <td>2</td>\n",
       "      <td>8</td>\n",
       "      <td>10000</td>\n",
       "      <td>1</td>\n",
       "      <td>10</td>\n",
       "      <td>{'n_estimators': 30, 'min_samples_split': 2, '...</td>\n",
       "      <td>0.212552</td>\n",
       "      <td>0.251613</td>\n",
       "      <td>0.265759</td>\n",
       "      <td>0.257085</td>\n",
       "      <td>0.261426</td>\n",
       "      <td>0.249687</td>\n",
       "      <td>0.019150</td>\n",
       "      <td>10</td>\n",
       "    </tr>\n",
       "    <tr>\n",
       "      <td>4</td>\n",
       "      <td>11.651922</td>\n",
       "      <td>0.268023</td>\n",
       "      <td>0.965445</td>\n",
       "      <td>0.014091</td>\n",
       "      <td>60</td>\n",
       "      <td>4</td>\n",
       "      <td>8</td>\n",
       "      <td>10000</td>\n",
       "      <td>0.5</td>\n",
       "      <td>5</td>\n",
       "      <td>{'n_estimators': 60, 'min_samples_split': 4, '...</td>\n",
       "      <td>0.274773</td>\n",
       "      <td>0.524644</td>\n",
       "      <td>0.536003</td>\n",
       "      <td>0.501122</td>\n",
       "      <td>0.494050</td>\n",
       "      <td>0.466119</td>\n",
       "      <td>0.096879</td>\n",
       "      <td>4</td>\n",
       "    </tr>\n",
       "    <tr>\n",
       "      <td>5</td>\n",
       "      <td>5.449695</td>\n",
       "      <td>0.368582</td>\n",
       "      <td>0.865311</td>\n",
       "      <td>0.012683</td>\n",
       "      <td>10</td>\n",
       "      <td>8</td>\n",
       "      <td>6</td>\n",
       "      <td>10000</td>\n",
       "      <td>auto</td>\n",
       "      <td>3</td>\n",
       "      <td>{'n_estimators': 10, 'min_samples_split': 8, '...</td>\n",
       "      <td>0.124801</td>\n",
       "      <td>0.405102</td>\n",
       "      <td>0.411109</td>\n",
       "      <td>0.388797</td>\n",
       "      <td>0.389647</td>\n",
       "      <td>0.343891</td>\n",
       "      <td>0.109887</td>\n",
       "      <td>8</td>\n",
       "    </tr>\n",
       "    <tr>\n",
       "      <td>6</td>\n",
       "      <td>7.272641</td>\n",
       "      <td>0.083029</td>\n",
       "      <td>1.095175</td>\n",
       "      <td>0.033581</td>\n",
       "      <td>50</td>\n",
       "      <td>8</td>\n",
       "      <td>2</td>\n",
       "      <td>10000</td>\n",
       "      <td>1</td>\n",
       "      <td>10</td>\n",
       "      <td>{'n_estimators': 50, 'min_samples_split': 8, '...</td>\n",
       "      <td>0.209213</td>\n",
       "      <td>0.283808</td>\n",
       "      <td>0.289753</td>\n",
       "      <td>0.284185</td>\n",
       "      <td>0.305709</td>\n",
       "      <td>0.274533</td>\n",
       "      <td>0.033614</td>\n",
       "      <td>9</td>\n",
       "    </tr>\n",
       "    <tr>\n",
       "      <td>7</td>\n",
       "      <td>6.048348</td>\n",
       "      <td>0.319712</td>\n",
       "      <td>0.873498</td>\n",
       "      <td>0.040030</td>\n",
       "      <td>20</td>\n",
       "      <td>2</td>\n",
       "      <td>6</td>\n",
       "      <td>10000</td>\n",
       "      <td>sqrt</td>\n",
       "      <td>5</td>\n",
       "      <td>{'n_estimators': 20, 'min_samples_split': 2, '...</td>\n",
       "      <td>0.262037</td>\n",
       "      <td>0.390258</td>\n",
       "      <td>0.414022</td>\n",
       "      <td>0.405157</td>\n",
       "      <td>0.418873</td>\n",
       "      <td>0.378070</td>\n",
       "      <td>0.058827</td>\n",
       "      <td>7</td>\n",
       "    </tr>\n",
       "    <tr>\n",
       "      <td>8</td>\n",
       "      <td>12.833652</td>\n",
       "      <td>0.249005</td>\n",
       "      <td>1.627463</td>\n",
       "      <td>0.049542</td>\n",
       "      <td>90</td>\n",
       "      <td>6</td>\n",
       "      <td>6</td>\n",
       "      <td>10000</td>\n",
       "      <td>sqrt</td>\n",
       "      <td>None</td>\n",
       "      <td>{'n_estimators': 90, 'min_samples_split': 6, '...</td>\n",
       "      <td>0.399580</td>\n",
       "      <td>0.600278</td>\n",
       "      <td>0.609187</td>\n",
       "      <td>0.581833</td>\n",
       "      <td>0.552428</td>\n",
       "      <td>0.548661</td>\n",
       "      <td>0.077029</td>\n",
       "      <td>2</td>\n",
       "    </tr>\n",
       "    <tr>\n",
       "      <td>9</td>\n",
       "      <td>8.780026</td>\n",
       "      <td>0.165594</td>\n",
       "      <td>1.150742</td>\n",
       "      <td>0.052328</td>\n",
       "      <td>50</td>\n",
       "      <td>4</td>\n",
       "      <td>6</td>\n",
       "      <td>10000</td>\n",
       "      <td>sqrt</td>\n",
       "      <td>10</td>\n",
       "      <td>{'n_estimators': 50, 'min_samples_split': 4, '...</td>\n",
       "      <td>0.361279</td>\n",
       "      <td>0.533836</td>\n",
       "      <td>0.544932</td>\n",
       "      <td>0.528723</td>\n",
       "      <td>0.513123</td>\n",
       "      <td>0.496379</td>\n",
       "      <td>0.068321</td>\n",
       "      <td>3</td>\n",
       "    </tr>\n",
       "  </tbody>\n",
       "</table>\n",
       "</div>"
      ],
      "text/plain": [
       "   mean_fit_time  std_fit_time  mean_score_time  std_score_time  \\\n",
       "0      23.374594      1.917335         1.573104        0.065684   \n",
       "1       8.863159      0.212388         1.342632        0.038958   \n",
       "2      12.006926      0.267660         1.006625        0.047153   \n",
       "3       6.249862      0.348420         0.977649        0.020388   \n",
       "4      11.651922      0.268023         0.965445        0.014091   \n",
       "5       5.449695      0.368582         0.865311        0.012683   \n",
       "6       7.272641      0.083029         1.095175        0.033581   \n",
       "7       6.048348      0.319712         0.873498        0.040030   \n",
       "8      12.833652      0.249005         1.627463        0.049542   \n",
       "9       8.780026      0.165594         1.150742        0.052328   \n",
       "\n",
       "  param_n_estimators param_min_samples_split param_min_samples_leaf  \\\n",
       "0                 80                       8                      2   \n",
       "1                 60                       6                      2   \n",
       "2                 60                       4                      4   \n",
       "3                 30                       2                      8   \n",
       "4                 60                       4                      8   \n",
       "5                 10                       8                      6   \n",
       "6                 50                       8                      2   \n",
       "7                 20                       2                      6   \n",
       "8                 90                       6                      6   \n",
       "9                 50                       4                      6   \n",
       "\n",
       "  param_max_samples param_max_features param_max_depth  \\\n",
       "0             10000                0.5            None   \n",
       "1             10000                  1            None   \n",
       "2             10000                0.5               5   \n",
       "3             10000                  1              10   \n",
       "4             10000                0.5               5   \n",
       "5             10000               auto               3   \n",
       "6             10000                  1              10   \n",
       "7             10000               sqrt               5   \n",
       "8             10000               sqrt            None   \n",
       "9             10000               sqrt              10   \n",
       "\n",
       "                                              params  split0_test_score  \\\n",
       "0  {'n_estimators': 80, 'min_samples_split': 8, '...           0.515769   \n",
       "1  {'n_estimators': 60, 'min_samples_split': 6, '...           0.286343   \n",
       "2  {'n_estimators': 60, 'min_samples_split': 4, '...           0.269426   \n",
       "3  {'n_estimators': 30, 'min_samples_split': 2, '...           0.212552   \n",
       "4  {'n_estimators': 60, 'min_samples_split': 4, '...           0.274773   \n",
       "5  {'n_estimators': 10, 'min_samples_split': 8, '...           0.124801   \n",
       "6  {'n_estimators': 50, 'min_samples_split': 8, '...           0.209213   \n",
       "7  {'n_estimators': 20, 'min_samples_split': 2, '...           0.262037   \n",
       "8  {'n_estimators': 90, 'min_samples_split': 6, '...           0.399580   \n",
       "9  {'n_estimators': 50, 'min_samples_split': 4, '...           0.361279   \n",
       "\n",
       "   split1_test_score  split2_test_score  split3_test_score  split4_test_score  \\\n",
       "0           0.731894           0.757783           0.734450           0.704748   \n",
       "1           0.420228           0.428399           0.395145           0.374361   \n",
       "2           0.526519           0.537665           0.499810           0.491165   \n",
       "3           0.251613           0.265759           0.257085           0.261426   \n",
       "4           0.524644           0.536003           0.501122           0.494050   \n",
       "5           0.405102           0.411109           0.388797           0.389647   \n",
       "6           0.283808           0.289753           0.284185           0.305709   \n",
       "7           0.390258           0.414022           0.405157           0.418873   \n",
       "8           0.600278           0.609187           0.581833           0.552428   \n",
       "9           0.533836           0.544932           0.528723           0.513123   \n",
       "\n",
       "   mean_test_score  std_test_score  rank_test_score  \n",
       "0         0.688929        0.088197                1  \n",
       "1         0.380895        0.050970                6  \n",
       "2         0.464917        0.099207                5  \n",
       "3         0.249687        0.019150               10  \n",
       "4         0.466119        0.096879                4  \n",
       "5         0.343891        0.109887                8  \n",
       "6         0.274533        0.033614                9  \n",
       "7         0.378070        0.058827                7  \n",
       "8         0.548661        0.077029                2  \n",
       "9         0.496379        0.068321                3  "
      ]
     },
     "execution_count": 42,
     "metadata": {},
     "output_type": "execute_result"
    }
   ],
   "source": [
    "pd.DataFrame(rs_model.cv_results_)"
   ]
  },
  {
   "cell_type": "code",
   "execution_count": 43,
   "metadata": {},
   "outputs": [
    {
     "data": {
      "text/plain": [
       "{'n_estimators': 80,\n",
       " 'min_samples_split': 8,\n",
       " 'min_samples_leaf': 2,\n",
       " 'max_samples': 10000,\n",
       " 'max_features': 0.5,\n",
       " 'max_depth': None}"
      ]
     },
     "execution_count": 43,
     "metadata": {},
     "output_type": "execute_result"
    }
   ],
   "source": [
    "rs_model.best_params_"
   ]
  },
  {
   "cell_type": "code",
   "execution_count": 44,
   "metadata": {},
   "outputs": [
    {
     "data": {
      "text/plain": [
       "0.688928739326872"
      ]
     },
     "execution_count": 44,
     "metadata": {},
     "output_type": "execute_result"
    }
   ],
   "source": [
    "rs_model.best_score_"
   ]
  },
  {
   "cell_type": "code",
   "execution_count": 45,
   "metadata": {},
   "outputs": [
    {
     "data": {
      "text/plain": [
       "{'Training MAE': 6842.109312633169,\n",
       " 'Validation MAE': 9131.856132887988,\n",
       " 'Training RMSLE': 0.31817531332062776,\n",
       " 'Validation RMSLE': 0.38916720740428873,\n",
       " 'Training R^2': 0.7929329947948409,\n",
       " 'Validation R^2': 0.7374045663465907}"
      ]
     },
     "execution_count": 45,
     "metadata": {},
     "output_type": "execute_result"
    }
   ],
   "source": [
    "show_score(rs_model)"
   ]
  },
  {
   "cell_type": "markdown",
   "metadata": {},
   "source": [
    "### for `n_estimator=20`\n",
    "\n",
    "#### observation\n",
    "\n",
    "- we got worst score when `max_features = 1`\n",
    "- we got worst score when `max_depth = 5, 10`"
   ]
  },
  {
   "cell_type": "code",
   "execution_count": 46,
   "metadata": {},
   "outputs": [
    {
     "name": "stdout",
     "output_type": "stream",
     "text": [
      "Fitting 5 folds for each of 20 candidates, totalling 100 fits\n"
     ]
    },
    {
     "name": "stderr",
     "output_type": "stream",
     "text": [
      "[Parallel(n_jobs=1)]: Using backend SequentialBackend with 1 concurrent workers.\n",
      "[Parallel(n_jobs=1)]: Done 100 out of 100 | elapsed: 22.5min finished\n"
     ]
    },
    {
     "name": "stdout",
     "output_type": "stream",
     "text": [
      "Wall time: 22min 42s\n"
     ]
    },
    {
     "data": {
      "text/plain": [
       "RandomizedSearchCV(cv=5,\n",
       "                   estimator=RandomForestRegressor(n_jobs=-1, random_state=42),\n",
       "                   n_iter=20,\n",
       "                   param_distributions={'max_depth': [None, 3],\n",
       "                                        'max_features': ['auto', 'sqrt', 0.5],\n",
       "                                        'max_samples': [10000],\n",
       "                                        'min_samples_leaf': array([ 2,  4,  6,  8, 10, 12, 14, 16, 18]),\n",
       "                                        'min_samples_split': array([ 2,  4,  6,  8, 10, 12, 14, 16, 18]),\n",
       "                                        'n_estimators': array([10, 20, 30, 40, 50, 60, 70, 80, 90])},\n",
       "                   verbose=True)"
      ]
     },
     "execution_count": 46,
     "metadata": {},
     "output_type": "execute_result"
    }
   ],
   "source": [
    "%%time\n",
    "\n",
    "estimator = RandomForestRegressor(n_jobs=-1, random_state=42)\n",
    "param_distribution = {\n",
    "    \"n_estimators\": np.arange(10, 100, 10),\n",
    "    \"max_depth\": [None, 3],\n",
    "    \"min_samples_split\": np.arange(2, 20, 2),\n",
    "    \"min_samples_leaf\": np.arange(2, 20, 2),\n",
    "    \"max_features\": [\"auto\", \"sqrt\", 0.5],\n",
    "    \"max_samples\": [10000]\n",
    "}\n",
    "\n",
    "rs_model = RandomizedSearchCV(estimator,\n",
    "                              param_distribution,\n",
    "                              cv=5,\n",
    "                              n_iter=20,\n",
    "                              verbose=True)\n",
    "\n",
    "rs_model.fit(X_train, y_train)"
   ]
  },
  {
   "cell_type": "code",
   "execution_count": 49,
   "metadata": {},
   "outputs": [
    {
     "data": {
      "text/html": [
       "<div>\n",
       "<style scoped>\n",
       "    .dataframe tbody tr th:only-of-type {\n",
       "        vertical-align: middle;\n",
       "    }\n",
       "\n",
       "    .dataframe tbody tr th {\n",
       "        vertical-align: top;\n",
       "    }\n",
       "\n",
       "    .dataframe thead th {\n",
       "        text-align: right;\n",
       "    }\n",
       "</style>\n",
       "<table border=\"1\" class=\"dataframe\">\n",
       "  <thead>\n",
       "    <tr style=\"text-align: right;\">\n",
       "      <th></th>\n",
       "      <th>mean_fit_time</th>\n",
       "      <th>std_fit_time</th>\n",
       "      <th>mean_score_time</th>\n",
       "      <th>std_score_time</th>\n",
       "      <th>param_n_estimators</th>\n",
       "      <th>param_min_samples_split</th>\n",
       "      <th>param_min_samples_leaf</th>\n",
       "      <th>param_max_samples</th>\n",
       "      <th>param_max_features</th>\n",
       "      <th>param_max_depth</th>\n",
       "      <th>params</th>\n",
       "      <th>split0_test_score</th>\n",
       "      <th>split1_test_score</th>\n",
       "      <th>split2_test_score</th>\n",
       "      <th>split3_test_score</th>\n",
       "      <th>split4_test_score</th>\n",
       "      <th>mean_test_score</th>\n",
       "      <th>std_test_score</th>\n",
       "      <th>rank_test_score</th>\n",
       "    </tr>\n",
       "  </thead>\n",
       "  <tbody>\n",
       "    <tr>\n",
       "      <td>0</td>\n",
       "      <td>17.285297</td>\n",
       "      <td>2.368256</td>\n",
       "      <td>1.165731</td>\n",
       "      <td>0.098347</td>\n",
       "      <td>30</td>\n",
       "      <td>6</td>\n",
       "      <td>2</td>\n",
       "      <td>10000</td>\n",
       "      <td>auto</td>\n",
       "      <td>None</td>\n",
       "      <td>{'n_estimators': 30, 'min_samples_split': 6, '...</td>\n",
       "      <td>0.524368</td>\n",
       "      <td>0.737552</td>\n",
       "      <td>0.776094</td>\n",
       "      <td>0.736118</td>\n",
       "      <td>0.721435</td>\n",
       "      <td>0.699113</td>\n",
       "      <td>0.089227</td>\n",
       "      <td>1</td>\n",
       "    </tr>\n",
       "    <tr>\n",
       "      <td>1</td>\n",
       "      <td>12.180031</td>\n",
       "      <td>0.413569</td>\n",
       "      <td>1.123761</td>\n",
       "      <td>0.075543</td>\n",
       "      <td>40</td>\n",
       "      <td>2</td>\n",
       "      <td>18</td>\n",
       "      <td>10000</td>\n",
       "      <td>0.5</td>\n",
       "      <td>None</td>\n",
       "      <td>{'n_estimators': 40, 'min_samples_split': 2, '...</td>\n",
       "      <td>0.457658</td>\n",
       "      <td>0.679019</td>\n",
       "      <td>0.704250</td>\n",
       "      <td>0.678314</td>\n",
       "      <td>0.638968</td>\n",
       "      <td>0.631642</td>\n",
       "      <td>0.089464</td>\n",
       "      <td>8</td>\n",
       "    </tr>\n",
       "    <tr>\n",
       "      <td>2</td>\n",
       "      <td>26.513828</td>\n",
       "      <td>0.424530</td>\n",
       "      <td>1.404603</td>\n",
       "      <td>0.189693</td>\n",
       "      <td>70</td>\n",
       "      <td>18</td>\n",
       "      <td>12</td>\n",
       "      <td>10000</td>\n",
       "      <td>auto</td>\n",
       "      <td>None</td>\n",
       "      <td>{'n_estimators': 70, 'min_samples_split': 18, ...</td>\n",
       "      <td>0.471626</td>\n",
       "      <td>0.719144</td>\n",
       "      <td>0.745968</td>\n",
       "      <td>0.706714</td>\n",
       "      <td>0.686171</td>\n",
       "      <td>0.665924</td>\n",
       "      <td>0.099061</td>\n",
       "      <td>5</td>\n",
       "    </tr>\n",
       "    <tr>\n",
       "      <td>3</td>\n",
       "      <td>11.552806</td>\n",
       "      <td>0.264254</td>\n",
       "      <td>1.430375</td>\n",
       "      <td>0.029051</td>\n",
       "      <td>80</td>\n",
       "      <td>16</td>\n",
       "      <td>18</td>\n",
       "      <td>10000</td>\n",
       "      <td>sqrt</td>\n",
       "      <td>None</td>\n",
       "      <td>{'n_estimators': 80, 'min_samples_split': 16, ...</td>\n",
       "      <td>0.361238</td>\n",
       "      <td>0.555486</td>\n",
       "      <td>0.560470</td>\n",
       "      <td>0.538147</td>\n",
       "      <td>0.517754</td>\n",
       "      <td>0.506619</td>\n",
       "      <td>0.074218</td>\n",
       "      <td>12</td>\n",
       "    </tr>\n",
       "    <tr>\n",
       "      <td>4</td>\n",
       "      <td>6.944248</td>\n",
       "      <td>0.182081</td>\n",
       "      <td>1.040999</td>\n",
       "      <td>0.064741</td>\n",
       "      <td>30</td>\n",
       "      <td>10</td>\n",
       "      <td>16</td>\n",
       "      <td>10000</td>\n",
       "      <td>sqrt</td>\n",
       "      <td>None</td>\n",
       "      <td>{'n_estimators': 30, 'min_samples_split': 10, ...</td>\n",
       "      <td>0.357760</td>\n",
       "      <td>0.568060</td>\n",
       "      <td>0.577692</td>\n",
       "      <td>0.541104</td>\n",
       "      <td>0.524601</td>\n",
       "      <td>0.513843</td>\n",
       "      <td>0.080296</td>\n",
       "      <td>11</td>\n",
       "    </tr>\n",
       "    <tr>\n",
       "      <td>5</td>\n",
       "      <td>23.984293</td>\n",
       "      <td>0.571128</td>\n",
       "      <td>1.275668</td>\n",
       "      <td>0.058535</td>\n",
       "      <td>60</td>\n",
       "      <td>4</td>\n",
       "      <td>6</td>\n",
       "      <td>10000</td>\n",
       "      <td>auto</td>\n",
       "      <td>None</td>\n",
       "      <td>{'n_estimators': 60, 'min_samples_split': 4, '...</td>\n",
       "      <td>0.499055</td>\n",
       "      <td>0.734152</td>\n",
       "      <td>0.761697</td>\n",
       "      <td>0.729455</td>\n",
       "      <td>0.709701</td>\n",
       "      <td>0.686812</td>\n",
       "      <td>0.095335</td>\n",
       "      <td>2</td>\n",
       "    </tr>\n",
       "    <tr>\n",
       "      <td>6</td>\n",
       "      <td>22.047175</td>\n",
       "      <td>1.029570</td>\n",
       "      <td>1.222905</td>\n",
       "      <td>0.068283</td>\n",
       "      <td>60</td>\n",
       "      <td>4</td>\n",
       "      <td>10</td>\n",
       "      <td>10000</td>\n",
       "      <td>auto</td>\n",
       "      <td>None</td>\n",
       "      <td>{'n_estimators': 60, 'min_samples_split': 4, '...</td>\n",
       "      <td>0.478225</td>\n",
       "      <td>0.725091</td>\n",
       "      <td>0.750096</td>\n",
       "      <td>0.713690</td>\n",
       "      <td>0.694372</td>\n",
       "      <td>0.672295</td>\n",
       "      <td>0.098696</td>\n",
       "      <td>3</td>\n",
       "    </tr>\n",
       "    <tr>\n",
       "      <td>7</td>\n",
       "      <td>6.849022</td>\n",
       "      <td>0.229364</td>\n",
       "      <td>0.832916</td>\n",
       "      <td>0.013172</td>\n",
       "      <td>10</td>\n",
       "      <td>12</td>\n",
       "      <td>18</td>\n",
       "      <td>10000</td>\n",
       "      <td>auto</td>\n",
       "      <td>None</td>\n",
       "      <td>{'n_estimators': 10, 'min_samples_split': 12, ...</td>\n",
       "      <td>0.454224</td>\n",
       "      <td>0.686207</td>\n",
       "      <td>0.733197</td>\n",
       "      <td>0.685213</td>\n",
       "      <td>0.664287</td>\n",
       "      <td>0.644625</td>\n",
       "      <td>0.097837</td>\n",
       "      <td>7</td>\n",
       "    </tr>\n",
       "    <tr>\n",
       "      <td>8</td>\n",
       "      <td>4.891230</td>\n",
       "      <td>0.277246</td>\n",
       "      <td>0.834525</td>\n",
       "      <td>0.037068</td>\n",
       "      <td>10</td>\n",
       "      <td>10</td>\n",
       "      <td>14</td>\n",
       "      <td>10000</td>\n",
       "      <td>0.5</td>\n",
       "      <td>3</td>\n",
       "      <td>{'n_estimators': 10, 'min_samples_split': 10, ...</td>\n",
       "      <td>0.153362</td>\n",
       "      <td>0.379253</td>\n",
       "      <td>0.399069</td>\n",
       "      <td>0.384259</td>\n",
       "      <td>0.377610</td>\n",
       "      <td>0.338711</td>\n",
       "      <td>0.092983</td>\n",
       "      <td>19</td>\n",
       "    </tr>\n",
       "    <tr>\n",
       "      <td>9</td>\n",
       "      <td>11.798648</td>\n",
       "      <td>0.290412</td>\n",
       "      <td>0.887484</td>\n",
       "      <td>0.091335</td>\n",
       "      <td>60</td>\n",
       "      <td>16</td>\n",
       "      <td>2</td>\n",
       "      <td>10000</td>\n",
       "      <td>auto</td>\n",
       "      <td>3</td>\n",
       "      <td>{'n_estimators': 60, 'min_samples_split': 16, ...</td>\n",
       "      <td>0.134504</td>\n",
       "      <td>0.414951</td>\n",
       "      <td>0.414814</td>\n",
       "      <td>0.366691</td>\n",
       "      <td>0.374388</td>\n",
       "      <td>0.341070</td>\n",
       "      <td>0.105198</td>\n",
       "      <td>17</td>\n",
       "    </tr>\n",
       "    <tr>\n",
       "      <td>10</td>\n",
       "      <td>5.480687</td>\n",
       "      <td>0.340721</td>\n",
       "      <td>0.861712</td>\n",
       "      <td>0.016019</td>\n",
       "      <td>10</td>\n",
       "      <td>6</td>\n",
       "      <td>16</td>\n",
       "      <td>10000</td>\n",
       "      <td>auto</td>\n",
       "      <td>3</td>\n",
       "      <td>{'n_estimators': 10, 'min_samples_split': 6, '...</td>\n",
       "      <td>0.124801</td>\n",
       "      <td>0.405102</td>\n",
       "      <td>0.411109</td>\n",
       "      <td>0.388797</td>\n",
       "      <td>0.389647</td>\n",
       "      <td>0.343891</td>\n",
       "      <td>0.109887</td>\n",
       "      <td>16</td>\n",
       "    </tr>\n",
       "    <tr>\n",
       "      <td>11</td>\n",
       "      <td>8.478571</td>\n",
       "      <td>0.189930</td>\n",
       "      <td>0.971650</td>\n",
       "      <td>0.008648</td>\n",
       "      <td>20</td>\n",
       "      <td>12</td>\n",
       "      <td>4</td>\n",
       "      <td>10000</td>\n",
       "      <td>0.5</td>\n",
       "      <td>None</td>\n",
       "      <td>{'n_estimators': 20, 'min_samples_split': 12, ...</td>\n",
       "      <td>0.488524</td>\n",
       "      <td>0.712404</td>\n",
       "      <td>0.739788</td>\n",
       "      <td>0.723370</td>\n",
       "      <td>0.684080</td>\n",
       "      <td>0.669633</td>\n",
       "      <td>0.092356</td>\n",
       "      <td>4</td>\n",
       "    </tr>\n",
       "    <tr>\n",
       "      <td>12</td>\n",
       "      <td>8.593095</td>\n",
       "      <td>0.217710</td>\n",
       "      <td>0.865707</td>\n",
       "      <td>0.008271</td>\n",
       "      <td>30</td>\n",
       "      <td>2</td>\n",
       "      <td>10</td>\n",
       "      <td>10000</td>\n",
       "      <td>auto</td>\n",
       "      <td>3</td>\n",
       "      <td>{'n_estimators': 30, 'min_samples_split': 2, '...</td>\n",
       "      <td>0.128804</td>\n",
       "      <td>0.419878</td>\n",
       "      <td>0.413035</td>\n",
       "      <td>0.376199</td>\n",
       "      <td>0.386898</td>\n",
       "      <td>0.344963</td>\n",
       "      <td>0.109275</td>\n",
       "      <td>15</td>\n",
       "    </tr>\n",
       "    <tr>\n",
       "      <td>13</td>\n",
       "      <td>7.926880</td>\n",
       "      <td>0.138604</td>\n",
       "      <td>1.135768</td>\n",
       "      <td>0.071063</td>\n",
       "      <td>40</td>\n",
       "      <td>18</td>\n",
       "      <td>14</td>\n",
       "      <td>10000</td>\n",
       "      <td>sqrt</td>\n",
       "      <td>None</td>\n",
       "      <td>{'n_estimators': 40, 'min_samples_split': 18, ...</td>\n",
       "      <td>0.381819</td>\n",
       "      <td>0.573620</td>\n",
       "      <td>0.574832</td>\n",
       "      <td>0.554624</td>\n",
       "      <td>0.518741</td>\n",
       "      <td>0.520727</td>\n",
       "      <td>0.072351</td>\n",
       "      <td>9</td>\n",
       "    </tr>\n",
       "    <tr>\n",
       "      <td>14</td>\n",
       "      <td>21.987855</td>\n",
       "      <td>0.285537</td>\n",
       "      <td>1.140737</td>\n",
       "      <td>0.061005</td>\n",
       "      <td>60</td>\n",
       "      <td>4</td>\n",
       "      <td>18</td>\n",
       "      <td>10000</td>\n",
       "      <td>auto</td>\n",
       "      <td>None</td>\n",
       "      <td>{'n_estimators': 60, 'min_samples_split': 4, '...</td>\n",
       "      <td>0.458636</td>\n",
       "      <td>0.702144</td>\n",
       "      <td>0.731798</td>\n",
       "      <td>0.687586</td>\n",
       "      <td>0.669192</td>\n",
       "      <td>0.649871</td>\n",
       "      <td>0.097786</td>\n",
       "      <td>6</td>\n",
       "    </tr>\n",
       "    <tr>\n",
       "      <td>15</td>\n",
       "      <td>10.542791</td>\n",
       "      <td>0.422247</td>\n",
       "      <td>0.910276</td>\n",
       "      <td>0.061180</td>\n",
       "      <td>60</td>\n",
       "      <td>6</td>\n",
       "      <td>8</td>\n",
       "      <td>10000</td>\n",
       "      <td>0.5</td>\n",
       "      <td>3</td>\n",
       "      <td>{'n_estimators': 60, 'min_samples_split': 6, '...</td>\n",
       "      <td>0.174890</td>\n",
       "      <td>0.392459</td>\n",
       "      <td>0.400503</td>\n",
       "      <td>0.388342</td>\n",
       "      <td>0.391598</td>\n",
       "      <td>0.349559</td>\n",
       "      <td>0.087426</td>\n",
       "      <td>13</td>\n",
       "    </tr>\n",
       "    <tr>\n",
       "      <td>16</td>\n",
       "      <td>10.653511</td>\n",
       "      <td>0.093780</td>\n",
       "      <td>1.426393</td>\n",
       "      <td>0.100439</td>\n",
       "      <td>70</td>\n",
       "      <td>12</td>\n",
       "      <td>14</td>\n",
       "      <td>10000</td>\n",
       "      <td>sqrt</td>\n",
       "      <td>None</td>\n",
       "      <td>{'n_estimators': 70, 'min_samples_split': 12, ...</td>\n",
       "      <td>0.373952</td>\n",
       "      <td>0.568302</td>\n",
       "      <td>0.579813</td>\n",
       "      <td>0.553127</td>\n",
       "      <td>0.523706</td>\n",
       "      <td>0.519780</td>\n",
       "      <td>0.075301</td>\n",
       "      <td>10</td>\n",
       "    </tr>\n",
       "    <tr>\n",
       "      <td>17</td>\n",
       "      <td>6.377001</td>\n",
       "      <td>0.231935</td>\n",
       "      <td>0.852513</td>\n",
       "      <td>0.015079</td>\n",
       "      <td>40</td>\n",
       "      <td>4</td>\n",
       "      <td>6</td>\n",
       "      <td>10000</td>\n",
       "      <td>sqrt</td>\n",
       "      <td>3</td>\n",
       "      <td>{'n_estimators': 40, 'min_samples_split': 4, '...</td>\n",
       "      <td>0.208719</td>\n",
       "      <td>0.289533</td>\n",
       "      <td>0.302228</td>\n",
       "      <td>0.295467</td>\n",
       "      <td>0.300854</td>\n",
       "      <td>0.279360</td>\n",
       "      <td>0.035603</td>\n",
       "      <td>20</td>\n",
       "    </tr>\n",
       "    <tr>\n",
       "      <td>18</td>\n",
       "      <td>12.701941</td>\n",
       "      <td>0.466009</td>\n",
       "      <td>0.869703</td>\n",
       "      <td>0.041374</td>\n",
       "      <td>60</td>\n",
       "      <td>8</td>\n",
       "      <td>2</td>\n",
       "      <td>10000</td>\n",
       "      <td>auto</td>\n",
       "      <td>3</td>\n",
       "      <td>{'n_estimators': 60, 'min_samples_split': 8, '...</td>\n",
       "      <td>0.134504</td>\n",
       "      <td>0.414951</td>\n",
       "      <td>0.414814</td>\n",
       "      <td>0.366691</td>\n",
       "      <td>0.374388</td>\n",
       "      <td>0.341070</td>\n",
       "      <td>0.105198</td>\n",
       "      <td>17</td>\n",
       "    </tr>\n",
       "    <tr>\n",
       "      <td>19</td>\n",
       "      <td>10.918962</td>\n",
       "      <td>0.542527</td>\n",
       "      <td>0.944455</td>\n",
       "      <td>0.052223</td>\n",
       "      <td>70</td>\n",
       "      <td>10</td>\n",
       "      <td>12</td>\n",
       "      <td>10000</td>\n",
       "      <td>0.5</td>\n",
       "      <td>3</td>\n",
       "      <td>{'n_estimators': 70, 'min_samples_split': 10, ...</td>\n",
       "      <td>0.175720</td>\n",
       "      <td>0.391319</td>\n",
       "      <td>0.398566</td>\n",
       "      <td>0.387508</td>\n",
       "      <td>0.392299</td>\n",
       "      <td>0.349082</td>\n",
       "      <td>0.086754</td>\n",
       "      <td>14</td>\n",
       "    </tr>\n",
       "  </tbody>\n",
       "</table>\n",
       "</div>"
      ],
      "text/plain": [
       "    mean_fit_time  std_fit_time  mean_score_time  std_score_time  \\\n",
       "0       17.285297      2.368256         1.165731        0.098347   \n",
       "1       12.180031      0.413569         1.123761        0.075543   \n",
       "2       26.513828      0.424530         1.404603        0.189693   \n",
       "3       11.552806      0.264254         1.430375        0.029051   \n",
       "4        6.944248      0.182081         1.040999        0.064741   \n",
       "5       23.984293      0.571128         1.275668        0.058535   \n",
       "6       22.047175      1.029570         1.222905        0.068283   \n",
       "7        6.849022      0.229364         0.832916        0.013172   \n",
       "8        4.891230      0.277246         0.834525        0.037068   \n",
       "9       11.798648      0.290412         0.887484        0.091335   \n",
       "10       5.480687      0.340721         0.861712        0.016019   \n",
       "11       8.478571      0.189930         0.971650        0.008648   \n",
       "12       8.593095      0.217710         0.865707        0.008271   \n",
       "13       7.926880      0.138604         1.135768        0.071063   \n",
       "14      21.987855      0.285537         1.140737        0.061005   \n",
       "15      10.542791      0.422247         0.910276        0.061180   \n",
       "16      10.653511      0.093780         1.426393        0.100439   \n",
       "17       6.377001      0.231935         0.852513        0.015079   \n",
       "18      12.701941      0.466009         0.869703        0.041374   \n",
       "19      10.918962      0.542527         0.944455        0.052223   \n",
       "\n",
       "   param_n_estimators param_min_samples_split param_min_samples_leaf  \\\n",
       "0                  30                       6                      2   \n",
       "1                  40                       2                     18   \n",
       "2                  70                      18                     12   \n",
       "3                  80                      16                     18   \n",
       "4                  30                      10                     16   \n",
       "5                  60                       4                      6   \n",
       "6                  60                       4                     10   \n",
       "7                  10                      12                     18   \n",
       "8                  10                      10                     14   \n",
       "9                  60                      16                      2   \n",
       "10                 10                       6                     16   \n",
       "11                 20                      12                      4   \n",
       "12                 30                       2                     10   \n",
       "13                 40                      18                     14   \n",
       "14                 60                       4                     18   \n",
       "15                 60                       6                      8   \n",
       "16                 70                      12                     14   \n",
       "17                 40                       4                      6   \n",
       "18                 60                       8                      2   \n",
       "19                 70                      10                     12   \n",
       "\n",
       "   param_max_samples param_max_features param_max_depth  \\\n",
       "0              10000               auto            None   \n",
       "1              10000                0.5            None   \n",
       "2              10000               auto            None   \n",
       "3              10000               sqrt            None   \n",
       "4              10000               sqrt            None   \n",
       "5              10000               auto            None   \n",
       "6              10000               auto            None   \n",
       "7              10000               auto            None   \n",
       "8              10000                0.5               3   \n",
       "9              10000               auto               3   \n",
       "10             10000               auto               3   \n",
       "11             10000                0.5            None   \n",
       "12             10000               auto               3   \n",
       "13             10000               sqrt            None   \n",
       "14             10000               auto            None   \n",
       "15             10000                0.5               3   \n",
       "16             10000               sqrt            None   \n",
       "17             10000               sqrt               3   \n",
       "18             10000               auto               3   \n",
       "19             10000                0.5               3   \n",
       "\n",
       "                                               params  split0_test_score  \\\n",
       "0   {'n_estimators': 30, 'min_samples_split': 6, '...           0.524368   \n",
       "1   {'n_estimators': 40, 'min_samples_split': 2, '...           0.457658   \n",
       "2   {'n_estimators': 70, 'min_samples_split': 18, ...           0.471626   \n",
       "3   {'n_estimators': 80, 'min_samples_split': 16, ...           0.361238   \n",
       "4   {'n_estimators': 30, 'min_samples_split': 10, ...           0.357760   \n",
       "5   {'n_estimators': 60, 'min_samples_split': 4, '...           0.499055   \n",
       "6   {'n_estimators': 60, 'min_samples_split': 4, '...           0.478225   \n",
       "7   {'n_estimators': 10, 'min_samples_split': 12, ...           0.454224   \n",
       "8   {'n_estimators': 10, 'min_samples_split': 10, ...           0.153362   \n",
       "9   {'n_estimators': 60, 'min_samples_split': 16, ...           0.134504   \n",
       "10  {'n_estimators': 10, 'min_samples_split': 6, '...           0.124801   \n",
       "11  {'n_estimators': 20, 'min_samples_split': 12, ...           0.488524   \n",
       "12  {'n_estimators': 30, 'min_samples_split': 2, '...           0.128804   \n",
       "13  {'n_estimators': 40, 'min_samples_split': 18, ...           0.381819   \n",
       "14  {'n_estimators': 60, 'min_samples_split': 4, '...           0.458636   \n",
       "15  {'n_estimators': 60, 'min_samples_split': 6, '...           0.174890   \n",
       "16  {'n_estimators': 70, 'min_samples_split': 12, ...           0.373952   \n",
       "17  {'n_estimators': 40, 'min_samples_split': 4, '...           0.208719   \n",
       "18  {'n_estimators': 60, 'min_samples_split': 8, '...           0.134504   \n",
       "19  {'n_estimators': 70, 'min_samples_split': 10, ...           0.175720   \n",
       "\n",
       "    split1_test_score  split2_test_score  split3_test_score  \\\n",
       "0            0.737552           0.776094           0.736118   \n",
       "1            0.679019           0.704250           0.678314   \n",
       "2            0.719144           0.745968           0.706714   \n",
       "3            0.555486           0.560470           0.538147   \n",
       "4            0.568060           0.577692           0.541104   \n",
       "5            0.734152           0.761697           0.729455   \n",
       "6            0.725091           0.750096           0.713690   \n",
       "7            0.686207           0.733197           0.685213   \n",
       "8            0.379253           0.399069           0.384259   \n",
       "9            0.414951           0.414814           0.366691   \n",
       "10           0.405102           0.411109           0.388797   \n",
       "11           0.712404           0.739788           0.723370   \n",
       "12           0.419878           0.413035           0.376199   \n",
       "13           0.573620           0.574832           0.554624   \n",
       "14           0.702144           0.731798           0.687586   \n",
       "15           0.392459           0.400503           0.388342   \n",
       "16           0.568302           0.579813           0.553127   \n",
       "17           0.289533           0.302228           0.295467   \n",
       "18           0.414951           0.414814           0.366691   \n",
       "19           0.391319           0.398566           0.387508   \n",
       "\n",
       "    split4_test_score  mean_test_score  std_test_score  rank_test_score  \n",
       "0            0.721435         0.699113        0.089227                1  \n",
       "1            0.638968         0.631642        0.089464                8  \n",
       "2            0.686171         0.665924        0.099061                5  \n",
       "3            0.517754         0.506619        0.074218               12  \n",
       "4            0.524601         0.513843        0.080296               11  \n",
       "5            0.709701         0.686812        0.095335                2  \n",
       "6            0.694372         0.672295        0.098696                3  \n",
       "7            0.664287         0.644625        0.097837                7  \n",
       "8            0.377610         0.338711        0.092983               19  \n",
       "9            0.374388         0.341070        0.105198               17  \n",
       "10           0.389647         0.343891        0.109887               16  \n",
       "11           0.684080         0.669633        0.092356                4  \n",
       "12           0.386898         0.344963        0.109275               15  \n",
       "13           0.518741         0.520727        0.072351                9  \n",
       "14           0.669192         0.649871        0.097786                6  \n",
       "15           0.391598         0.349559        0.087426               13  \n",
       "16           0.523706         0.519780        0.075301               10  \n",
       "17           0.300854         0.279360        0.035603               20  \n",
       "18           0.374388         0.341070        0.105198               17  \n",
       "19           0.392299         0.349082        0.086754               14  "
      ]
     },
     "execution_count": 49,
     "metadata": {},
     "output_type": "execute_result"
    }
   ],
   "source": [
    "pd.DataFrame(rs_model.cv_results_)"
   ]
  },
  {
   "cell_type": "code",
   "execution_count": 50,
   "metadata": {},
   "outputs": [
    {
     "data": {
      "text/plain": [
       "{'n_estimators': 30,\n",
       " 'min_samples_split': 6,\n",
       " 'min_samples_leaf': 2,\n",
       " 'max_samples': 10000,\n",
       " 'max_features': 'auto',\n",
       " 'max_depth': None}"
      ]
     },
     "execution_count": 50,
     "metadata": {},
     "output_type": "execute_result"
    }
   ],
   "source": [
    "rs_model.best_params_"
   ]
  },
  {
   "cell_type": "code",
   "execution_count": 52,
   "metadata": {},
   "outputs": [
    {
     "data": {
      "text/plain": [
       "0.6991134977057399"
      ]
     },
     "execution_count": 52,
     "metadata": {},
     "output_type": "execute_result"
    }
   ],
   "source": [
    "rs_model.best_score_"
   ]
  },
  {
   "cell_type": "code",
   "execution_count": 53,
   "metadata": {},
   "outputs": [
    {
     "data": {
      "text/plain": [
       "{'Training MAE': 6526.112242636631,\n",
       " 'Validation MAE': 8710.976912963808,\n",
       " 'Training RMSLE': 0.3072770683868122,\n",
       " 'Validation RMSLE': 0.3784449565724856,\n",
       " 'Training R^2': 0.8086844240225517,\n",
       " 'Validation R^2': 0.757956061159849}"
      ]
     },
     "execution_count": 53,
     "metadata": {},
     "output_type": "execute_result"
    }
   ],
   "source": [
    "show_score(rs_model)"
   ]
  },
  {
   "cell_type": "markdown",
   "metadata": {},
   "source": [
    "## Fit the whole training data with the best params"
   ]
  },
  {
   "cell_type": "code",
   "execution_count": 56,
   "metadata": {},
   "outputs": [
    {
     "name": "stdout",
     "output_type": "stream",
     "text": [
      "Wall time: 6min 20s\n"
     ]
    },
    {
     "data": {
      "text/plain": [
       "RandomForestRegressor(min_samples_leaf=2, min_samples_split=6, n_estimators=30,\n",
       "                      n_jobs=-1, random_state=42)"
      ]
     },
     "execution_count": 56,
     "metadata": {},
     "output_type": "execute_result"
    }
   ],
   "source": [
    "%%time\n",
    "\n",
    "ideal_model = RandomForestRegressor(n_estimators=30,\n",
    "                                    min_samples_split=6,\n",
    "                                    min_samples_leaf=2,\n",
    "                                    max_samples=None,\n",
    "                                    max_features=\"auto\",\n",
    "                                    n_jobs=-1,\n",
    "                                    random_state=42)\n",
    "\n",
    "ideal_model.fit(X_train, y_train)"
   ]
  },
  {
   "cell_type": "code",
   "execution_count": 57,
   "metadata": {},
   "outputs": [
    {
     "data": {
      "text/plain": [
       "{'Training MAE': 2474.9972878188632,\n",
       " 'Validation MAE': 7082.182325980664,\n",
       " 'Training RMSLE': 0.13101320546172862,\n",
       " 'Validation RMSLE': 0.31010564487391495,\n",
       " 'Training R^2': 0.9675216250908677,\n",
       " 'Validation R^2': 0.8356591576071729}"
      ]
     },
     "execution_count": 57,
     "metadata": {},
     "output_type": "execute_result"
    }
   ],
   "source": [
    "show_score(ideal_model)"
   ]
  },
  {
   "cell_type": "markdown",
   "metadata": {},
   "source": [
    "### Save the model"
   ]
  },
  {
   "cell_type": "code",
   "execution_count": 66,
   "metadata": {},
   "outputs": [],
   "source": [
    "import joblib"
   ]
  },
  {
   "cell_type": "code",
   "execution_count": 67,
   "metadata": {},
   "outputs": [
    {
     "data": {
      "text/plain": [
       "['model/ideal_model_1']"
      ]
     },
     "execution_count": 67,
     "metadata": {},
     "output_type": "execute_result"
    }
   ],
   "source": [
    "joblib.dump(ideal_model, \"model/ideal_model_1\")\n",
    "# to load the model\n",
    "# model = joblib.load(model_file_path)"
   ]
  },
  {
   "cell_type": "markdown",
   "metadata": {},
   "source": [
    "## Make predictions on test data"
   ]
  },
  {
   "cell_type": "code",
   "execution_count": 58,
   "metadata": {},
   "outputs": [
    {
     "data": {
      "text/html": [
       "<div>\n",
       "<style scoped>\n",
       "    .dataframe tbody tr th:only-of-type {\n",
       "        vertical-align: middle;\n",
       "    }\n",
       "\n",
       "    .dataframe tbody tr th {\n",
       "        vertical-align: top;\n",
       "    }\n",
       "\n",
       "    .dataframe thead th {\n",
       "        text-align: right;\n",
       "    }\n",
       "</style>\n",
       "<table border=\"1\" class=\"dataframe\">\n",
       "  <thead>\n",
       "    <tr style=\"text-align: right;\">\n",
       "      <th></th>\n",
       "      <th>SalesID</th>\n",
       "      <th>MachineID</th>\n",
       "      <th>ModelID</th>\n",
       "      <th>datasource</th>\n",
       "      <th>auctioneerID</th>\n",
       "      <th>YearMade</th>\n",
       "      <th>MachineHoursCurrentMeter</th>\n",
       "      <th>UsageBand</th>\n",
       "      <th>saledate</th>\n",
       "      <th>fiModelDesc</th>\n",
       "      <th>...</th>\n",
       "      <th>Undercarriage_Pad_Width</th>\n",
       "      <th>Stick_Length</th>\n",
       "      <th>Thumb</th>\n",
       "      <th>Pattern_Changer</th>\n",
       "      <th>Grouser_Type</th>\n",
       "      <th>Backhoe_Mounting</th>\n",
       "      <th>Blade_Type</th>\n",
       "      <th>Travel_Controls</th>\n",
       "      <th>Differential_Type</th>\n",
       "      <th>Steering_Controls</th>\n",
       "    </tr>\n",
       "  </thead>\n",
       "  <tbody>\n",
       "    <tr>\n",
       "      <td>0</td>\n",
       "      <td>1227829</td>\n",
       "      <td>1006309</td>\n",
       "      <td>3168</td>\n",
       "      <td>121</td>\n",
       "      <td>3</td>\n",
       "      <td>1999</td>\n",
       "      <td>3688.0</td>\n",
       "      <td>Low</td>\n",
       "      <td>2012-05-03</td>\n",
       "      <td>580G</td>\n",
       "      <td>...</td>\n",
       "      <td>NaN</td>\n",
       "      <td>NaN</td>\n",
       "      <td>NaN</td>\n",
       "      <td>NaN</td>\n",
       "      <td>NaN</td>\n",
       "      <td>NaN</td>\n",
       "      <td>NaN</td>\n",
       "      <td>NaN</td>\n",
       "      <td>NaN</td>\n",
       "      <td>NaN</td>\n",
       "    </tr>\n",
       "    <tr>\n",
       "      <td>1</td>\n",
       "      <td>1227844</td>\n",
       "      <td>1022817</td>\n",
       "      <td>7271</td>\n",
       "      <td>121</td>\n",
       "      <td>3</td>\n",
       "      <td>1000</td>\n",
       "      <td>28555.0</td>\n",
       "      <td>High</td>\n",
       "      <td>2012-05-10</td>\n",
       "      <td>936</td>\n",
       "      <td>...</td>\n",
       "      <td>NaN</td>\n",
       "      <td>NaN</td>\n",
       "      <td>NaN</td>\n",
       "      <td>NaN</td>\n",
       "      <td>NaN</td>\n",
       "      <td>NaN</td>\n",
       "      <td>NaN</td>\n",
       "      <td>NaN</td>\n",
       "      <td>Standard</td>\n",
       "      <td>Conventional</td>\n",
       "    </tr>\n",
       "    <tr>\n",
       "      <td>2</td>\n",
       "      <td>1227847</td>\n",
       "      <td>1031560</td>\n",
       "      <td>22805</td>\n",
       "      <td>121</td>\n",
       "      <td>3</td>\n",
       "      <td>2004</td>\n",
       "      <td>6038.0</td>\n",
       "      <td>Medium</td>\n",
       "      <td>2012-05-10</td>\n",
       "      <td>EC210BLC</td>\n",
       "      <td>...</td>\n",
       "      <td>None or Unspecified</td>\n",
       "      <td>9' 6\"</td>\n",
       "      <td>Manual</td>\n",
       "      <td>None or Unspecified</td>\n",
       "      <td>Double</td>\n",
       "      <td>NaN</td>\n",
       "      <td>NaN</td>\n",
       "      <td>NaN</td>\n",
       "      <td>NaN</td>\n",
       "      <td>NaN</td>\n",
       "    </tr>\n",
       "    <tr>\n",
       "      <td>3</td>\n",
       "      <td>1227848</td>\n",
       "      <td>56204</td>\n",
       "      <td>1269</td>\n",
       "      <td>121</td>\n",
       "      <td>3</td>\n",
       "      <td>2006</td>\n",
       "      <td>8940.0</td>\n",
       "      <td>High</td>\n",
       "      <td>2012-05-10</td>\n",
       "      <td>330CL</td>\n",
       "      <td>...</td>\n",
       "      <td>None or Unspecified</td>\n",
       "      <td>None or Unspecified</td>\n",
       "      <td>Manual</td>\n",
       "      <td>Yes</td>\n",
       "      <td>Triple</td>\n",
       "      <td>NaN</td>\n",
       "      <td>NaN</td>\n",
       "      <td>NaN</td>\n",
       "      <td>NaN</td>\n",
       "      <td>NaN</td>\n",
       "    </tr>\n",
       "    <tr>\n",
       "      <td>4</td>\n",
       "      <td>1227863</td>\n",
       "      <td>1053887</td>\n",
       "      <td>22312</td>\n",
       "      <td>121</td>\n",
       "      <td>3</td>\n",
       "      <td>2005</td>\n",
       "      <td>2286.0</td>\n",
       "      <td>Low</td>\n",
       "      <td>2012-05-10</td>\n",
       "      <td>650K</td>\n",
       "      <td>...</td>\n",
       "      <td>NaN</td>\n",
       "      <td>NaN</td>\n",
       "      <td>NaN</td>\n",
       "      <td>NaN</td>\n",
       "      <td>NaN</td>\n",
       "      <td>None or Unspecified</td>\n",
       "      <td>PAT</td>\n",
       "      <td>None or Unspecified</td>\n",
       "      <td>NaN</td>\n",
       "      <td>NaN</td>\n",
       "    </tr>\n",
       "  </tbody>\n",
       "</table>\n",
       "<p>5 rows × 52 columns</p>\n",
       "</div>"
      ],
      "text/plain": [
       "   SalesID  MachineID  ModelID  datasource  auctioneerID  YearMade  \\\n",
       "0  1227829    1006309     3168         121             3      1999   \n",
       "1  1227844    1022817     7271         121             3      1000   \n",
       "2  1227847    1031560    22805         121             3      2004   \n",
       "3  1227848      56204     1269         121             3      2006   \n",
       "4  1227863    1053887    22312         121             3      2005   \n",
       "\n",
       "   MachineHoursCurrentMeter UsageBand   saledate fiModelDesc  ...  \\\n",
       "0                    3688.0       Low 2012-05-03        580G  ...   \n",
       "1                   28555.0      High 2012-05-10         936  ...   \n",
       "2                    6038.0    Medium 2012-05-10    EC210BLC  ...   \n",
       "3                    8940.0      High 2012-05-10       330CL  ...   \n",
       "4                    2286.0       Low 2012-05-10        650K  ...   \n",
       "\n",
       "  Undercarriage_Pad_Width         Stick_Length   Thumb      Pattern_Changer  \\\n",
       "0                     NaN                  NaN     NaN                  NaN   \n",
       "1                     NaN                  NaN     NaN                  NaN   \n",
       "2     None or Unspecified                9' 6\"  Manual  None or Unspecified   \n",
       "3     None or Unspecified  None or Unspecified  Manual                  Yes   \n",
       "4                     NaN                  NaN     NaN                  NaN   \n",
       "\n",
       "  Grouser_Type     Backhoe_Mounting Blade_Type      Travel_Controls  \\\n",
       "0          NaN                  NaN        NaN                  NaN   \n",
       "1          NaN                  NaN        NaN                  NaN   \n",
       "2       Double                  NaN        NaN                  NaN   \n",
       "3       Triple                  NaN        NaN                  NaN   \n",
       "4          NaN  None or Unspecified        PAT  None or Unspecified   \n",
       "\n",
       "  Differential_Type Steering_Controls  \n",
       "0               NaN               NaN  \n",
       "1          Standard      Conventional  \n",
       "2               NaN               NaN  \n",
       "3               NaN               NaN  \n",
       "4               NaN               NaN  \n",
       "\n",
       "[5 rows x 52 columns]"
      ]
     },
     "execution_count": 58,
     "metadata": {},
     "output_type": "execute_result"
    }
   ],
   "source": [
    "df_test = pd.read_csv(\"data/Test.csv\", low_memory=False, parse_dates=[\"saledate\"])\n",
    "df_test.head()"
   ]
  },
  {
   "cell_type": "markdown",
   "metadata": {},
   "source": [
    "### import modiefied test data"
   ]
  },
  {
   "cell_type": "code",
   "execution_count": 60,
   "metadata": {},
   "outputs": [
    {
     "data": {
      "text/plain": [
       "102"
      ]
     },
     "execution_count": 60,
     "metadata": {},
     "output_type": "execute_result"
    }
   ],
   "source": [
    "df_test = pd.read_csv(\"data/eda_test.csv\", low_memory=False)\n",
    "len(df_test.columns)"
   ]
  },
  {
   "cell_type": "code",
   "execution_count": 61,
   "metadata": {},
   "outputs": [],
   "source": [
    "# prediction\n",
    "test_preds = ideal_model.predict(df_test)"
   ]
  },
  {
   "cell_type": "code",
   "execution_count": 62,
   "metadata": {},
   "outputs": [
    {
     "data": {
      "text/plain": [
       "12457"
      ]
     },
     "execution_count": 62,
     "metadata": {},
     "output_type": "execute_result"
    }
   ],
   "source": [
    "len(test_preds)"
   ]
  },
  {
   "cell_type": "markdown",
   "metadata": {},
   "source": [
    "### Format predictions for `kaggle`\n",
    "\n",
    "https://www.kaggle.com/c/bluebook-for-bulldozers/overview/evaluation"
   ]
  },
  {
   "cell_type": "code",
   "execution_count": 63,
   "metadata": {},
   "outputs": [
    {
     "data": {
      "text/html": [
       "<div>\n",
       "<style scoped>\n",
       "    .dataframe tbody tr th:only-of-type {\n",
       "        vertical-align: middle;\n",
       "    }\n",
       "\n",
       "    .dataframe tbody tr th {\n",
       "        vertical-align: top;\n",
       "    }\n",
       "\n",
       "    .dataframe thead th {\n",
       "        text-align: right;\n",
       "    }\n",
       "</style>\n",
       "<table border=\"1\" class=\"dataframe\">\n",
       "  <thead>\n",
       "    <tr style=\"text-align: right;\">\n",
       "      <th></th>\n",
       "      <th>SalesID</th>\n",
       "      <th>SalesPrice</th>\n",
       "    </tr>\n",
       "  </thead>\n",
       "  <tbody>\n",
       "    <tr>\n",
       "      <td>0</td>\n",
       "      <td>4317459</td>\n",
       "      <td>29843.333333</td>\n",
       "    </tr>\n",
       "    <tr>\n",
       "      <td>1</td>\n",
       "      <td>4249784</td>\n",
       "      <td>28583.540164</td>\n",
       "    </tr>\n",
       "    <tr>\n",
       "      <td>2</td>\n",
       "      <td>4392603</td>\n",
       "      <td>23768.121693</td>\n",
       "    </tr>\n",
       "    <tr>\n",
       "      <td>3</td>\n",
       "      <td>4274831</td>\n",
       "      <td>47707.797619</td>\n",
       "    </tr>\n",
       "    <tr>\n",
       "      <td>4</td>\n",
       "      <td>4362801</td>\n",
       "      <td>55054.570106</td>\n",
       "    </tr>\n",
       "  </tbody>\n",
       "</table>\n",
       "</div>"
      ],
      "text/plain": [
       "   SalesID    SalesPrice\n",
       "0  4317459  29843.333333\n",
       "1  4249784  28583.540164\n",
       "2  4392603  23768.121693\n",
       "3  4274831  47707.797619\n",
       "4  4362801  55054.570106"
      ]
     },
     "execution_count": 63,
     "metadata": {},
     "output_type": "execute_result"
    }
   ],
   "source": [
    "df_preds = pd.DataFrame()\n",
    "df_preds[\"SalesID\"] = df_test[\"SalesID\"]\n",
    "df_preds[\"SalesPrice\"] = test_preds\n",
    "df_preds.head()"
   ]
  },
  {
   "cell_type": "markdown",
   "metadata": {},
   "source": [
    "### Export prediction data"
   ]
  },
  {
   "cell_type": "code",
   "execution_count": 68,
   "metadata": {},
   "outputs": [],
   "source": [
    "df_preds.to_csv(\"data/test_predictions.csv\", index=False)"
   ]
  },
  {
   "cell_type": "markdown",
   "metadata": {},
   "source": [
    "### Feature importance"
   ]
  },
  {
   "cell_type": "code",
   "execution_count": 69,
   "metadata": {},
   "outputs": [
    {
     "data": {
      "text/plain": [
       "array([5.49549516e-02, 2.55403836e-02, 2.32321050e-01, 6.91827709e-04,\n",
       "       5.25174167e-03, 2.46058500e-01, 5.71206612e-03, 2.88908852e-04,\n",
       "       2.76617305e-04, 2.60392623e-04, 2.87283981e-04, 2.70578237e-04,\n",
       "       2.91237996e-04, 2.71498894e-04, 2.56167515e-04, 2.71580270e-04,\n",
       "       2.78419739e-04, 2.68655386e-04, 2.91988770e-04, 2.61224605e-04,\n",
       "       2.80112308e-04, 2.67563343e-04, 2.69140194e-04, 2.61387559e-04,\n",
       "       2.69667004e-04, 2.70946081e-04, 2.52932583e-04, 2.88108350e-04,\n",
       "       2.81188844e-04, 2.61604644e-04, 2.69515006e-04, 2.64581879e-04,\n",
       "       2.77647543e-04, 2.63924793e-04, 2.73638883e-04, 2.83980820e-04,\n",
       "       2.93766440e-04, 2.79842073e-04, 2.57809803e-04, 2.75184955e-04,\n",
       "       2.63191970e-04, 2.88154060e-04, 2.61593068e-04, 2.73042358e-04,\n",
       "       2.77658381e-04, 2.82490546e-04, 2.64963513e-04, 2.71684072e-04,\n",
       "       2.63679666e-04, 2.53111935e-04, 2.71168178e-04, 8.07283897e-02,\n",
       "       3.42851275e-03, 1.07561431e-02, 5.14694296e-03, 1.60747709e-02,\n",
       "       3.01059557e-04, 6.49065001e-04, 3.50245720e-04, 0.00000000e+00,\n",
       "       0.00000000e+00, 6.34490394e-03, 6.81658668e-03, 2.95476103e-02,\n",
       "       1.08521593e-01, 0.00000000e+00, 0.00000000e+00, 0.00000000e+00,\n",
       "       0.00000000e+00, 3.94996757e-04, 8.59246981e-06, 8.22498435e-04,\n",
       "       3.78097878e-04, 6.62467865e-04, 2.07389177e-04, 1.06533951e-03,\n",
       "       3.26420102e-04, 1.26553425e-02, 1.26464393e-02, 2.04019922e-02,\n",
       "       1.24974527e-02, 1.40450299e-02, 2.53501529e-03, 6.20099390e-04,\n",
       "       5.04099736e-03, 1.01319218e-02, 3.17933940e-03, 1.17836066e-03,\n",
       "       2.86643593e-02, 2.53724884e-07, 6.52739236e-08, 5.18895141e-04,\n",
       "       1.40099532e-02, 4.73807297e-04, 6.07869258e-04, 4.96138251e-04,\n",
       "       5.02094335e-04, 5.20919065e-04, 1.02643995e-03, 1.99345418e-03,\n",
       "       5.59006631e-04, 6.44772435e-04])"
      ]
     },
     "execution_count": 69,
     "metadata": {},
     "output_type": "execute_result"
    }
   ],
   "source": [
    "ideal_model.feature_importances_"
   ]
  },
  {
   "cell_type": "code",
   "execution_count": 70,
   "metadata": {},
   "outputs": [
    {
     "data": {
      "text/plain": [
       "102"
      ]
     },
     "execution_count": 70,
     "metadata": {},
     "output_type": "execute_result"
    }
   ],
   "source": [
    "len(ideal_model.feature_importances_)"
   ]
  },
  {
   "cell_type": "code",
   "execution_count": 71,
   "metadata": {},
   "outputs": [
    {
     "data": {
      "text/plain": [
       "0.24605850009023178"
      ]
     },
     "execution_count": 71,
     "metadata": {},
     "output_type": "execute_result"
    }
   ],
   "source": [
    "ideal_model.feature_importances_.max()"
   ]
  },
  {
   "cell_type": "code",
   "execution_count": 76,
   "metadata": {},
   "outputs": [],
   "source": [
    "def plot_features(columns, importances, n=20):\n",
    "    df = (pd.DataFrame({\"features\": columns, \"feature_importances\": importances})\n",
    "         .sort_values(\"feature_importances\", ascending=False)\n",
    "         .reset_index(drop=True))\n",
    "    \n",
    "    fig, ax = plt.subplots()\n",
    "    ax.barh(df[\"features\"][:n], df[\"feature_importances\"][:n])\n",
    "    ax.set(xlabel=\"Feature importance\", ylabel=\"features\")\n",
    "    ax.invert_yaxis()"
   ]
  },
  {
   "cell_type": "code",
   "execution_count": 77,
   "metadata": {},
   "outputs": [
    {
     "data": {
      "image/png": "[encoded data removed]",
      "text/plain": [
       "<Figure size 640x480 with 1 Axes>"
      ]
     },
     "metadata": {},
     "output_type": "display_data"
    }
   ],
   "source": [
    "plot_features(X_train.columns, ideal_model.feature_importances_);"
   ]
  },
  {
   "cell_type": "code",
   "execution_count": null,
   "metadata": {},
   "outputs": [],
   "source": []
  }
 ],
 "metadata": {
  "kernelspec": {
   "display_name": "Python 3",
   "language": "python",
   "name": "python3"
  },
  "language_info": {
   "codemirror_mode": {
    "name": "ipython",
    "version": 3
   },
   "file_extension": ".py",
   "mimetype": "text/x-python",
   "name": "python",
   "nbconvert_exporter": "python",
   "pygments_lexer": "ipython3",
   "version": "3.7.4"
  }
 },
 "nbformat": 4,
 "nbformat_minor": 2
}
