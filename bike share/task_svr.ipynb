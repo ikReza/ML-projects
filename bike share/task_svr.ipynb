{
 "cells": [
  {
   "cell_type": "code",
   "execution_count": 1,
   "metadata": {},
   "outputs": [],
   "source": [
    "import pandas as pd\n",
    "import numpy as np\n",
    "import matplotlib.pyplot as plt\n",
    "import seaborn as sns; sns.set()\n",
    "plt.style.use(\"default\")"
   ]
  },
  {
   "cell_type": "code",
   "execution_count": 2,
   "metadata": {},
   "outputs": [
    {
     "data": {
      "text/html": [
       "<div>\n",
       "<style scoped>\n",
       "    .dataframe tbody tr th:only-of-type {\n",
       "        vertical-align: middle;\n",
       "    }\n",
       "\n",
       "    .dataframe tbody tr th {\n",
       "        vertical-align: top;\n",
       "    }\n",
       "\n",
       "    .dataframe thead th {\n",
       "        text-align: right;\n",
       "    }\n",
       "</style>\n",
       "<table border=\"1\" class=\"dataframe\">\n",
       "  <thead>\n",
       "    <tr style=\"text-align: right;\">\n",
       "      <th></th>\n",
       "      <th>instant</th>\n",
       "      <th>dteday</th>\n",
       "      <th>season</th>\n",
       "      <th>yr</th>\n",
       "      <th>mnth</th>\n",
       "      <th>hr</th>\n",
       "      <th>holiday</th>\n",
       "      <th>weekday</th>\n",
       "      <th>workingday</th>\n",
       "      <th>weathersit</th>\n",
       "      <th>temp</th>\n",
       "      <th>atemp</th>\n",
       "      <th>hum</th>\n",
       "      <th>windspeed</th>\n",
       "      <th>casual</th>\n",
       "      <th>registered</th>\n",
       "      <th>cnt</th>\n",
       "    </tr>\n",
       "  </thead>\n",
       "  <tbody>\n",
       "    <tr>\n",
       "      <td>0</td>\n",
       "      <td>1</td>\n",
       "      <td>2011-01-01</td>\n",
       "      <td>1</td>\n",
       "      <td>0</td>\n",
       "      <td>1</td>\n",
       "      <td>0</td>\n",
       "      <td>0</td>\n",
       "      <td>6</td>\n",
       "      <td>0</td>\n",
       "      <td>1</td>\n",
       "      <td>0.24</td>\n",
       "      <td>0.2879</td>\n",
       "      <td>0.81</td>\n",
       "      <td>0.0</td>\n",
       "      <td>3</td>\n",
       "      <td>13</td>\n",
       "      <td>16</td>\n",
       "    </tr>\n",
       "    <tr>\n",
       "      <td>1</td>\n",
       "      <td>2</td>\n",
       "      <td>2011-01-01</td>\n",
       "      <td>1</td>\n",
       "      <td>0</td>\n",
       "      <td>1</td>\n",
       "      <td>1</td>\n",
       "      <td>0</td>\n",
       "      <td>6</td>\n",
       "      <td>0</td>\n",
       "      <td>1</td>\n",
       "      <td>0.22</td>\n",
       "      <td>0.2727</td>\n",
       "      <td>0.80</td>\n",
       "      <td>0.0</td>\n",
       "      <td>8</td>\n",
       "      <td>32</td>\n",
       "      <td>40</td>\n",
       "    </tr>\n",
       "  </tbody>\n",
       "</table>\n",
       "</div>"
      ],
      "text/plain": [
       "   instant      dteday  season  yr  mnth  hr  holiday  weekday  workingday  \\\n",
       "0        1  2011-01-01       1   0     1   0        0        6           0   \n",
       "1        2  2011-01-01       1   0     1   1        0        6           0   \n",
       "\n",
       "   weathersit  temp   atemp   hum  windspeed  casual  registered  cnt  \n",
       "0           1  0.24  0.2879  0.81        0.0       3          13   16  \n",
       "1           1  0.22  0.2727  0.80        0.0       8          32   40  "
      ]
     },
     "execution_count": 2,
     "metadata": {},
     "output_type": "execute_result"
    }
   ],
   "source": [
    "df = pd.read_csv(\"hour.csv\")\n",
    "df.head(2)"
   ]
  },
  {
   "cell_type": "code",
   "execution_count": 3,
   "metadata": {},
   "outputs": [
    {
     "data": {
      "text/html": [
       "<div>\n",
       "<style scoped>\n",
       "    .dataframe tbody tr th:only-of-type {\n",
       "        vertical-align: middle;\n",
       "    }\n",
       "\n",
       "    .dataframe tbody tr th {\n",
       "        vertical-align: top;\n",
       "    }\n",
       "\n",
       "    .dataframe thead th {\n",
       "        text-align: right;\n",
       "    }\n",
       "</style>\n",
       "<table border=\"1\" class=\"dataframe\">\n",
       "  <thead>\n",
       "    <tr style=\"text-align: right;\">\n",
       "      <th></th>\n",
       "      <th>season</th>\n",
       "      <th>yr</th>\n",
       "      <th>mnth</th>\n",
       "      <th>hr</th>\n",
       "      <th>holiday</th>\n",
       "      <th>weekday</th>\n",
       "      <th>workingday</th>\n",
       "      <th>weathersit</th>\n",
       "      <th>temp</th>\n",
       "      <th>atemp</th>\n",
       "      <th>hum</th>\n",
       "      <th>windspeed</th>\n",
       "      <th>cnt</th>\n",
       "    </tr>\n",
       "  </thead>\n",
       "  <tbody>\n",
       "    <tr>\n",
       "      <td>0</td>\n",
       "      <td>1</td>\n",
       "      <td>0</td>\n",
       "      <td>1</td>\n",
       "      <td>0</td>\n",
       "      <td>0</td>\n",
       "      <td>6</td>\n",
       "      <td>0</td>\n",
       "      <td>1</td>\n",
       "      <td>0.24</td>\n",
       "      <td>0.2879</td>\n",
       "      <td>0.81</td>\n",
       "      <td>0.0</td>\n",
       "      <td>16</td>\n",
       "    </tr>\n",
       "    <tr>\n",
       "      <td>1</td>\n",
       "      <td>1</td>\n",
       "      <td>0</td>\n",
       "      <td>1</td>\n",
       "      <td>1</td>\n",
       "      <td>0</td>\n",
       "      <td>6</td>\n",
       "      <td>0</td>\n",
       "      <td>1</td>\n",
       "      <td>0.22</td>\n",
       "      <td>0.2727</td>\n",
       "      <td>0.80</td>\n",
       "      <td>0.0</td>\n",
       "      <td>40</td>\n",
       "    </tr>\n",
       "  </tbody>\n",
       "</table>\n",
       "</div>"
      ],
      "text/plain": [
       "   season  yr  mnth  hr  holiday  weekday  workingday  weathersit  temp  \\\n",
       "0       1   0     1   0        0        6           0           1  0.24   \n",
       "1       1   0     1   1        0        6           0           1  0.22   \n",
       "\n",
       "    atemp   hum  windspeed  cnt  \n",
       "0  0.2879  0.81        0.0   16  \n",
       "1  0.2727  0.80        0.0   40  "
      ]
     },
     "execution_count": 3,
     "metadata": {},
     "output_type": "execute_result"
    }
   ],
   "source": [
    "my_df = df.drop([\"instant\", \"dteday\", \"casual\", \"registered\"], axis=1)\n",
    "my_df.head(2)"
   ]
  },
  {
   "cell_type": "code",
   "execution_count": 4,
   "metadata": {},
   "outputs": [
    {
     "data": {
      "text/plain": [
       "cnt           1.000000\n",
       "temp          0.404772\n",
       "atemp         0.400929\n",
       "hr            0.394071\n",
       "hum           0.322911\n",
       "yr            0.250495\n",
       "season        0.178056\n",
       "weathersit    0.142426\n",
       "mnth          0.120638\n",
       "windspeed     0.093234\n",
       "holiday       0.030927\n",
       "workingday    0.030284\n",
       "weekday       0.026900\n",
       "Name: cnt, dtype: float64"
      ]
     },
     "execution_count": 4,
     "metadata": {},
     "output_type": "execute_result"
    }
   ],
   "source": [
    "abs(my_df.corr())[\"cnt\"].sort_values(ascending=False)"
   ]
  },
  {
   "cell_type": "code",
   "execution_count": 11,
   "metadata": {},
   "outputs": [
    {
     "data": {
      "image/png": "[encoded data removed]",
      "text/plain": [
       "<Figure size 1500x1000 with 1 Axes>"
      ]
     },
     "metadata": {},
     "output_type": "display_data"
    }
   ],
   "source": [
    "plt.figure(figsize=(15,10))\n",
    "plt.scatter(x=my_df[\"temp\"], y=my_df[\"cnt\"])\n",
    "plt.xlabel(\"temperature\")\n",
    "plt.ylabel(\"# of bikes\")\n",
    "plt.title(\"Bike share dataset\")\n",
    "plt.show()"
   ]
  },
  {
   "cell_type": "code",
   "execution_count": 75,
   "metadata": {},
   "outputs": [],
   "source": [
    "X = my_df[\"temp\"].values.reshape(-1,1)\n",
    "y = my_df[\"cnt\"].values.reshape(-1,1)"
   ]
  },
  {
   "cell_type": "code",
   "execution_count": 38,
   "metadata": {},
   "outputs": [
    {
     "data": {
      "text/plain": [
       "(array([[0.24],\n",
       "        [0.22],\n",
       "        [0.22]]), array([[16],\n",
       "        [40],\n",
       "        [32]], dtype=int64))"
      ]
     },
     "execution_count": 38,
     "metadata": {},
     "output_type": "execute_result"
    }
   ],
   "source": [
    "X[:3], y[:3]"
   ]
  },
  {
   "cell_type": "code",
   "execution_count": 4,
   "metadata": {},
   "outputs": [],
   "source": [
    "from sklearn.model_selection import train_test_split"
   ]
  },
  {
   "cell_type": "code",
   "execution_count": 76,
   "metadata": {},
   "outputs": [],
   "source": [
    "X_train, X_test, y_train, y_test = train_test_split(X, y, test_size=0.2, random_state=12)"
   ]
  },
  {
   "cell_type": "code",
   "execution_count": 40,
   "metadata": {},
   "outputs": [
    {
     "data": {
      "text/plain": [
       "((13903, 1), (13903, 1))"
      ]
     },
     "execution_count": 40,
     "metadata": {},
     "output_type": "execute_result"
    }
   ],
   "source": [
    "X_train.shape, y_train.shape"
   ]
  },
  {
   "cell_type": "code",
   "execution_count": 77,
   "metadata": {},
   "outputs": [],
   "source": [
    "y_train = y_train.reshape(len(y_train),)\n",
    "y_test = y_test.reshape(len(y_test),)"
   ]
  },
  {
   "cell_type": "code",
   "execution_count": 42,
   "metadata": {},
   "outputs": [
    {
     "data": {
      "text/plain": [
       "(13903,)"
      ]
     },
     "execution_count": 42,
     "metadata": {},
     "output_type": "execute_result"
    }
   ],
   "source": [
    "y_train.shape"
   ]
  },
  {
   "cell_type": "code",
   "execution_count": 5,
   "metadata": {},
   "outputs": [],
   "source": [
    "from sklearn.svm import SVR\n",
    "from sklearn.metrics import mean_absolute_error, mean_squared_error, r2_score"
   ]
  },
  {
   "cell_type": "code",
   "execution_count": 70,
   "metadata": {},
   "outputs": [
    {
     "data": {
      "text/plain": [
       "(array([[-1.33464759],\n",
       "        [-1.4385164 ],\n",
       "        [-1.4385164 ]]), array([[-0.95633924],\n",
       "        [-0.82402209],\n",
       "        [-0.8681278 ]]))"
      ]
     },
     "execution_count": 70,
     "metadata": {},
     "output_type": "execute_result"
    }
   ],
   "source": [
    "X[:3], y[:3]"
   ]
  },
  {
   "cell_type": "code",
   "execution_count": 78,
   "metadata": {},
   "outputs": [
    {
     "data": {
      "text/plain": [
       "SVR(C=100)"
      ]
     },
     "execution_count": 78,
     "metadata": {},
     "output_type": "execute_result"
    }
   ],
   "source": [
    "regressor = SVR(kernel = 'rbf', degree=3, C=100)\n",
    "regressor.fit(X_train, y_train)"
   ]
  },
  {
   "cell_type": "code",
   "execution_count": 79,
   "metadata": {},
   "outputs": [],
   "source": [
    "y_pred = regressor.predict(X_test)"
   ]
  },
  {
   "cell_type": "code",
   "execution_count": 80,
   "metadata": {},
   "outputs": [],
   "source": [
    "mse = mean_squared_error(y_test, y_pred)\n",
    "mae = mean_absolute_error(y_test, y_pred)\n",
    "rmse = np.sqrt(mse)\n",
    "r2 = r2_score(y_test, y_pred)"
   ]
  },
  {
   "cell_type": "code",
   "execution_count": 81,
   "metadata": {},
   "outputs": [
    {
     "data": {
      "text/plain": [
       "(29179.34705141958,\n",
       " 122.61416986829576,\n",
       " 170.81963309707575,\n",
       " 0.14748882074134517)"
      ]
     },
     "execution_count": 81,
     "metadata": {},
     "output_type": "execute_result"
    }
   ],
   "source": [
    "mse, mae, rmse, r2"
   ]
  },
  {
   "cell_type": "markdown",
   "metadata": {},
   "source": [
    "### Boosting"
   ]
  },
  {
   "cell_type": "code",
   "execution_count": 6,
   "metadata": {},
   "outputs": [],
   "source": [
    "from sklearn.ensemble import AdaBoostRegressor"
   ]
  },
  {
   "cell_type": "code",
   "execution_count": 6,
   "metadata": {},
   "outputs": [],
   "source": [
    "X = my_df.drop(\"cnt\", axis=1)\n",
    "y = my_df.cnt"
   ]
  },
  {
   "cell_type": "code",
   "execution_count": 7,
   "metadata": {},
   "outputs": [],
   "source": [
    "X = X.values\n",
    "y = y.values"
   ]
  },
  {
   "cell_type": "code",
   "execution_count": 90,
   "metadata": {},
   "outputs": [
    {
     "data": {
      "text/plain": [
       "array([16, 40, 32, 13,  1], dtype=int64)"
      ]
     },
     "execution_count": 90,
     "metadata": {},
     "output_type": "execute_result"
    }
   ],
   "source": [
    "y[:5]"
   ]
  },
  {
   "cell_type": "code",
   "execution_count": 91,
   "metadata": {},
   "outputs": [],
   "source": [
    "X_train, X_test, y_train, y_test = train_test_split(X, y, test_size=0.2, random_state=12)"
   ]
  },
  {
   "cell_type": "code",
   "execution_count": 92,
   "metadata": {},
   "outputs": [
    {
     "data": {
      "text/plain": [
       "SVR()"
      ]
     },
     "execution_count": 92,
     "metadata": {},
     "output_type": "execute_result"
    }
   ],
   "source": [
    "clf = SVR()\n",
    "clf.fit(X_train, y_train)"
   ]
  },
  {
   "cell_type": "code",
   "execution_count": 94,
   "metadata": {},
   "outputs": [
    {
     "data": {
      "text/plain": [
       "AdaBoostRegressor(base_estimator=SVR(), n_estimators=10, random_state=12)"
      ]
     },
     "execution_count": 94,
     "metadata": {},
     "output_type": "execute_result"
    }
   ],
   "source": [
    "boosted_svr = AdaBoostRegressor(SVR(), n_estimators=10, random_state=12)\n",
    "boosted_svr.fit(X_train, y_train)"
   ]
  },
  {
   "cell_type": "code",
   "execution_count": 95,
   "metadata": {},
   "outputs": [
    {
     "name": "stdout",
     "output_type": "stream",
     "text": [
      "Standard SVR Test Set R^2: 0.3677796859769705\n",
      "Boosted SVR Test Set R^2: 0.44434021557186076\n"
     ]
    }
   ],
   "source": [
    "standard_r2 = clf.score(X_test, y_test)\n",
    "boosted_r2 = boosted_svr.score(X_test, y_test)\n",
    "\n",
    "print(f\"Standard SVR Test Set R^2: {standard_r2}\")\n",
    "print(f\"Boosted SVR Test Set R^2: {boosted_r2}\")"
   ]
  },
  {
   "cell_type": "markdown",
   "metadata": {},
   "source": [
    "### Hyperparameter tuning for `SVR()`"
   ]
  },
  {
   "cell_type": "code",
   "execution_count": 8,
   "metadata": {},
   "outputs": [],
   "source": [
    "from sklearn.model_selection import GridSearchCV"
   ]
  },
  {
   "cell_type": "code",
   "execution_count": 16,
   "metadata": {},
   "outputs": [
    {
     "data": {
      "text/plain": [
       "GridSearchCV(cv=5, estimator=SVR(gamma='auto'),\n",
       "             param_grid={'C': [1, 5, 10, 20], 'epsilon': [0.1, 0.2],\n",
       "                         'kernel': ['rbf', 'linear']})"
      ]
     },
     "execution_count": 16,
     "metadata": {},
     "output_type": "execute_result"
    }
   ],
   "source": [
    "estimator = SVR(gamma=\"auto\")\n",
    "param_grid = {\n",
    "    \"C\": [1, 5, 10, 20],\n",
    "    \"kernel\": [\"rbf\", \"linear\"],\n",
    "    \"epsilon\": [0.1, 0.2]\n",
    "}\n",
    "\n",
    "model = GridSearchCV(estimator, param_grid, cv=5)\n",
    "model.fit(X, y)"
   ]
  },
  {
   "cell_type": "code",
   "execution_count": 17,
   "metadata": {},
   "outputs": [
    {
     "data": {
      "text/html": [
       "<div>\n",
       "<style scoped>\n",
       "    .dataframe tbody tr th:only-of-type {\n",
       "        vertical-align: middle;\n",
       "    }\n",
       "\n",
       "    .dataframe tbody tr th {\n",
       "        vertical-align: top;\n",
       "    }\n",
       "\n",
       "    .dataframe thead th {\n",
       "        text-align: right;\n",
       "    }\n",
       "</style>\n",
       "<table border=\"1\" class=\"dataframe\">\n",
       "  <thead>\n",
       "    <tr style=\"text-align: right;\">\n",
       "      <th></th>\n",
       "      <th>mean_fit_time</th>\n",
       "      <th>std_fit_time</th>\n",
       "      <th>mean_score_time</th>\n",
       "      <th>std_score_time</th>\n",
       "      <th>param_C</th>\n",
       "      <th>param_epsilon</th>\n",
       "      <th>param_kernel</th>\n",
       "      <th>params</th>\n",
       "      <th>split0_test_score</th>\n",
       "      <th>split1_test_score</th>\n",
       "      <th>split2_test_score</th>\n",
       "      <th>split3_test_score</th>\n",
       "      <th>split4_test_score</th>\n",
       "      <th>mean_test_score</th>\n",
       "      <th>std_test_score</th>\n",
       "      <th>rank_test_score</th>\n",
       "    </tr>\n",
       "  </thead>\n",
       "  <tbody>\n",
       "    <tr>\n",
       "      <td>0</td>\n",
       "      <td>18.531961</td>\n",
       "      <td>0.847030</td>\n",
       "      <td>2.401833</td>\n",
       "      <td>0.091752</td>\n",
       "      <td>1</td>\n",
       "      <td>0.1</td>\n",
       "      <td>rbf</td>\n",
       "      <td>{'C': 1, 'epsilon': 0.1, 'kernel': 'rbf'}</td>\n",
       "      <td>0.396244</td>\n",
       "      <td>0.665277</td>\n",
       "      <td>0.407460</td>\n",
       "      <td>0.269760</td>\n",
       "      <td>0.250775</td>\n",
       "      <td>0.397903</td>\n",
       "      <td>0.148088</td>\n",
       "      <td>8</td>\n",
       "    </tr>\n",
       "    <tr>\n",
       "      <td>1</td>\n",
       "      <td>14.279811</td>\n",
       "      <td>1.091623</td>\n",
       "      <td>1.030213</td>\n",
       "      <td>0.150262</td>\n",
       "      <td>1</td>\n",
       "      <td>0.1</td>\n",
       "      <td>linear</td>\n",
       "      <td>{'C': 1, 'epsilon': 0.1, 'kernel': 'linear'}</td>\n",
       "      <td>0.188914</td>\n",
       "      <td>0.343923</td>\n",
       "      <td>0.200442</td>\n",
       "      <td>0.198261</td>\n",
       "      <td>0.190929</td>\n",
       "      <td>0.224494</td>\n",
       "      <td>0.059871</td>\n",
       "      <td>10</td>\n",
       "    </tr>\n",
       "    <tr>\n",
       "      <td>2</td>\n",
       "      <td>17.409821</td>\n",
       "      <td>0.294971</td>\n",
       "      <td>2.431997</td>\n",
       "      <td>0.027256</td>\n",
       "      <td>1</td>\n",
       "      <td>0.2</td>\n",
       "      <td>rbf</td>\n",
       "      <td>{'C': 1, 'epsilon': 0.2, 'kernel': 'rbf'}</td>\n",
       "      <td>0.396537</td>\n",
       "      <td>0.665279</td>\n",
       "      <td>0.407520</td>\n",
       "      <td>0.269863</td>\n",
       "      <td>0.250886</td>\n",
       "      <td>0.398017</td>\n",
       "      <td>0.148049</td>\n",
       "      <td>7</td>\n",
       "    </tr>\n",
       "    <tr>\n",
       "      <td>3</td>\n",
       "      <td>14.578445</td>\n",
       "      <td>0.817374</td>\n",
       "      <td>1.049398</td>\n",
       "      <td>0.164566</td>\n",
       "      <td>1</td>\n",
       "      <td>0.2</td>\n",
       "      <td>linear</td>\n",
       "      <td>{'C': 1, 'epsilon': 0.2, 'kernel': 'linear'}</td>\n",
       "      <td>0.189196</td>\n",
       "      <td>0.343888</td>\n",
       "      <td>0.200418</td>\n",
       "      <td>0.198401</td>\n",
       "      <td>0.191111</td>\n",
       "      <td>0.224603</td>\n",
       "      <td>0.059793</td>\n",
       "      <td>9</td>\n",
       "    </tr>\n",
       "    <tr>\n",
       "      <td>4</td>\n",
       "      <td>17.717244</td>\n",
       "      <td>0.899791</td>\n",
       "      <td>2.412208</td>\n",
       "      <td>0.016053</td>\n",
       "      <td>5</td>\n",
       "      <td>0.1</td>\n",
       "      <td>rbf</td>\n",
       "      <td>{'C': 5, 'epsilon': 0.1, 'kernel': 'rbf'}</td>\n",
       "      <td>0.391135</td>\n",
       "      <td>0.738318</td>\n",
       "      <td>0.572318</td>\n",
       "      <td>0.576403</td>\n",
       "      <td>0.480560</td>\n",
       "      <td>0.551747</td>\n",
       "      <td>0.115502</td>\n",
       "      <td>5</td>\n",
       "    </tr>\n",
       "    <tr>\n",
       "      <td>5</td>\n",
       "      <td>19.850220</td>\n",
       "      <td>1.278497</td>\n",
       "      <td>0.948656</td>\n",
       "      <td>0.011581</td>\n",
       "      <td>5</td>\n",
       "      <td>0.1</td>\n",
       "      <td>linear</td>\n",
       "      <td>{'C': 5, 'epsilon': 0.1, 'kernel': 'linear'}</td>\n",
       "      <td>0.166582</td>\n",
       "      <td>0.344494</td>\n",
       "      <td>0.189550</td>\n",
       "      <td>0.219765</td>\n",
       "      <td>0.197288</td>\n",
       "      <td>0.223536</td>\n",
       "      <td>0.062821</td>\n",
       "      <td>12</td>\n",
       "    </tr>\n",
       "    <tr>\n",
       "      <td>6</td>\n",
       "      <td>17.404410</td>\n",
       "      <td>0.768704</td>\n",
       "      <td>2.398233</td>\n",
       "      <td>0.014531</td>\n",
       "      <td>5</td>\n",
       "      <td>0.2</td>\n",
       "      <td>rbf</td>\n",
       "      <td>{'C': 5, 'epsilon': 0.2, 'kernel': 'rbf'}</td>\n",
       "      <td>0.391049</td>\n",
       "      <td>0.738374</td>\n",
       "      <td>0.572160</td>\n",
       "      <td>0.576381</td>\n",
       "      <td>0.480487</td>\n",
       "      <td>0.551690</td>\n",
       "      <td>0.115547</td>\n",
       "      <td>6</td>\n",
       "    </tr>\n",
       "    <tr>\n",
       "      <td>7</td>\n",
       "      <td>18.531178</td>\n",
       "      <td>0.671463</td>\n",
       "      <td>0.942651</td>\n",
       "      <td>0.071936</td>\n",
       "      <td>5</td>\n",
       "      <td>0.2</td>\n",
       "      <td>linear</td>\n",
       "      <td>{'C': 5, 'epsilon': 0.2, 'kernel': 'linear'}</td>\n",
       "      <td>0.166378</td>\n",
       "      <td>0.344459</td>\n",
       "      <td>0.189636</td>\n",
       "      <td>0.219836</td>\n",
       "      <td>0.197473</td>\n",
       "      <td>0.223557</td>\n",
       "      <td>0.062820</td>\n",
       "      <td>11</td>\n",
       "    </tr>\n",
       "    <tr>\n",
       "      <td>8</td>\n",
       "      <td>16.559509</td>\n",
       "      <td>0.403991</td>\n",
       "      <td>2.453592</td>\n",
       "      <td>0.311382</td>\n",
       "      <td>10</td>\n",
       "      <td>0.1</td>\n",
       "      <td>rbf</td>\n",
       "      <td>{'C': 10, 'epsilon': 0.1, 'kernel': 'rbf'}</td>\n",
       "      <td>0.409789</td>\n",
       "      <td>0.779799</td>\n",
       "      <td>0.655272</td>\n",
       "      <td>0.666326</td>\n",
       "      <td>0.557437</td>\n",
       "      <td>0.613725</td>\n",
       "      <td>0.123961</td>\n",
       "      <td>3</td>\n",
       "    </tr>\n",
       "    <tr>\n",
       "      <td>9</td>\n",
       "      <td>25.470789</td>\n",
       "      <td>1.896274</td>\n",
       "      <td>0.960849</td>\n",
       "      <td>0.036035</td>\n",
       "      <td>10</td>\n",
       "      <td>0.1</td>\n",
       "      <td>linear</td>\n",
       "      <td>{'C': 10, 'epsilon': 0.1, 'kernel': 'linear'}</td>\n",
       "      <td>0.157114</td>\n",
       "      <td>0.343648</td>\n",
       "      <td>0.185511</td>\n",
       "      <td>0.222223</td>\n",
       "      <td>0.197677</td>\n",
       "      <td>0.221235</td>\n",
       "      <td>0.064697</td>\n",
       "      <td>13</td>\n",
       "    </tr>\n",
       "    <tr>\n",
       "      <td>10</td>\n",
       "      <td>17.848572</td>\n",
       "      <td>0.933046</td>\n",
       "      <td>2.385628</td>\n",
       "      <td>0.003897</td>\n",
       "      <td>10</td>\n",
       "      <td>0.2</td>\n",
       "      <td>rbf</td>\n",
       "      <td>{'C': 10, 'epsilon': 0.2, 'kernel': 'rbf'}</td>\n",
       "      <td>0.409708</td>\n",
       "      <td>0.779733</td>\n",
       "      <td>0.655243</td>\n",
       "      <td>0.666151</td>\n",
       "      <td>0.557623</td>\n",
       "      <td>0.613692</td>\n",
       "      <td>0.123936</td>\n",
       "      <td>4</td>\n",
       "    </tr>\n",
       "    <tr>\n",
       "      <td>11</td>\n",
       "      <td>25.467986</td>\n",
       "      <td>1.694101</td>\n",
       "      <td>0.953852</td>\n",
       "      <td>0.019134</td>\n",
       "      <td>10</td>\n",
       "      <td>0.2</td>\n",
       "      <td>linear</td>\n",
       "      <td>{'C': 10, 'epsilon': 0.2, 'kernel': 'linear'}</td>\n",
       "      <td>0.156628</td>\n",
       "      <td>0.343715</td>\n",
       "      <td>0.185618</td>\n",
       "      <td>0.222316</td>\n",
       "      <td>0.197668</td>\n",
       "      <td>0.221189</td>\n",
       "      <td>0.064808</td>\n",
       "      <td>14</td>\n",
       "    </tr>\n",
       "    <tr>\n",
       "      <td>12</td>\n",
       "      <td>18.113217</td>\n",
       "      <td>0.486906</td>\n",
       "      <td>2.581711</td>\n",
       "      <td>0.333103</td>\n",
       "      <td>20</td>\n",
       "      <td>0.1</td>\n",
       "      <td>rbf</td>\n",
       "      <td>{'C': 20, 'epsilon': 0.1, 'kernel': 'rbf'}</td>\n",
       "      <td>0.436044</td>\n",
       "      <td>0.816093</td>\n",
       "      <td>0.721079</td>\n",
       "      <td>0.740355</td>\n",
       "      <td>0.628315</td>\n",
       "      <td>0.668377</td>\n",
       "      <td>0.130661</td>\n",
       "      <td>1</td>\n",
       "    </tr>\n",
       "    <tr>\n",
       "      <td>13</td>\n",
       "      <td>37.027562</td>\n",
       "      <td>2.646437</td>\n",
       "      <td>0.980640</td>\n",
       "      <td>0.060788</td>\n",
       "      <td>20</td>\n",
       "      <td>0.1</td>\n",
       "      <td>linear</td>\n",
       "      <td>{'C': 20, 'epsilon': 0.1, 'kernel': 'linear'}</td>\n",
       "      <td>0.152801</td>\n",
       "      <td>0.343347</td>\n",
       "      <td>0.184850</td>\n",
       "      <td>0.223898</td>\n",
       "      <td>0.198477</td>\n",
       "      <td>0.220675</td>\n",
       "      <td>0.065486</td>\n",
       "      <td>16</td>\n",
       "    </tr>\n",
       "    <tr>\n",
       "      <td>14</td>\n",
       "      <td>17.930925</td>\n",
       "      <td>0.651364</td>\n",
       "      <td>2.570716</td>\n",
       "      <td>0.241192</td>\n",
       "      <td>20</td>\n",
       "      <td>0.2</td>\n",
       "      <td>rbf</td>\n",
       "      <td>{'C': 20, 'epsilon': 0.2, 'kernel': 'rbf'}</td>\n",
       "      <td>0.435887</td>\n",
       "      <td>0.815946</td>\n",
       "      <td>0.721133</td>\n",
       "      <td>0.740233</td>\n",
       "      <td>0.628278</td>\n",
       "      <td>0.668295</td>\n",
       "      <td>0.130677</td>\n",
       "      <td>2</td>\n",
       "    </tr>\n",
       "    <tr>\n",
       "      <td>15</td>\n",
       "      <td>37.369173</td>\n",
       "      <td>2.504642</td>\n",
       "      <td>0.995025</td>\n",
       "      <td>0.087884</td>\n",
       "      <td>20</td>\n",
       "      <td>0.2</td>\n",
       "      <td>linear</td>\n",
       "      <td>{'C': 20, 'epsilon': 0.2, 'kernel': 'linear'}</td>\n",
       "      <td>0.152825</td>\n",
       "      <td>0.343330</td>\n",
       "      <td>0.184963</td>\n",
       "      <td>0.223878</td>\n",
       "      <td>0.198472</td>\n",
       "      <td>0.220694</td>\n",
       "      <td>0.065462</td>\n",
       "      <td>15</td>\n",
       "    </tr>\n",
       "  </tbody>\n",
       "</table>\n",
       "</div>"
      ],
      "text/plain": [
       "    mean_fit_time  std_fit_time  mean_score_time  std_score_time param_C  \\\n",
       "0       18.531961      0.847030         2.401833        0.091752       1   \n",
       "1       14.279811      1.091623         1.030213        0.150262       1   \n",
       "2       17.409821      0.294971         2.431997        0.027256       1   \n",
       "3       14.578445      0.817374         1.049398        0.164566       1   \n",
       "4       17.717244      0.899791         2.412208        0.016053       5   \n",
       "5       19.850220      1.278497         0.948656        0.011581       5   \n",
       "6       17.404410      0.768704         2.398233        0.014531       5   \n",
       "7       18.531178      0.671463         0.942651        0.071936       5   \n",
       "8       16.559509      0.403991         2.453592        0.311382      10   \n",
       "9       25.470789      1.896274         0.960849        0.036035      10   \n",
       "10      17.848572      0.933046         2.385628        0.003897      10   \n",
       "11      25.467986      1.694101         0.953852        0.019134      10   \n",
       "12      18.113217      0.486906         2.581711        0.333103      20   \n",
       "13      37.027562      2.646437         0.980640        0.060788      20   \n",
       "14      17.930925      0.651364         2.570716        0.241192      20   \n",
       "15      37.369173      2.504642         0.995025        0.087884      20   \n",
       "\n",
       "   param_epsilon param_kernel                                         params  \\\n",
       "0            0.1          rbf      {'C': 1, 'epsilon': 0.1, 'kernel': 'rbf'}   \n",
       "1            0.1       linear   {'C': 1, 'epsilon': 0.1, 'kernel': 'linear'}   \n",
       "2            0.2          rbf      {'C': 1, 'epsilon': 0.2, 'kernel': 'rbf'}   \n",
       "3            0.2       linear   {'C': 1, 'epsilon': 0.2, 'kernel': 'linear'}   \n",
       "4            0.1          rbf      {'C': 5, 'epsilon': 0.1, 'kernel': 'rbf'}   \n",
       "5            0.1       linear   {'C': 5, 'epsilon': 0.1, 'kernel': 'linear'}   \n",
       "6            0.2          rbf      {'C': 5, 'epsilon': 0.2, 'kernel': 'rbf'}   \n",
       "7            0.2       linear   {'C': 5, 'epsilon': 0.2, 'kernel': 'linear'}   \n",
       "8            0.1          rbf     {'C': 10, 'epsilon': 0.1, 'kernel': 'rbf'}   \n",
       "9            0.1       linear  {'C': 10, 'epsilon': 0.1, 'kernel': 'linear'}   \n",
       "10           0.2          rbf     {'C': 10, 'epsilon': 0.2, 'kernel': 'rbf'}   \n",
       "11           0.2       linear  {'C': 10, 'epsilon': 0.2, 'kernel': 'linear'}   \n",
       "12           0.1          rbf     {'C': 20, 'epsilon': 0.1, 'kernel': 'rbf'}   \n",
       "13           0.1       linear  {'C': 20, 'epsilon': 0.1, 'kernel': 'linear'}   \n",
       "14           0.2          rbf     {'C': 20, 'epsilon': 0.2, 'kernel': 'rbf'}   \n",
       "15           0.2       linear  {'C': 20, 'epsilon': 0.2, 'kernel': 'linear'}   \n",
       "\n",
       "    split0_test_score  split1_test_score  split2_test_score  \\\n",
       "0            0.396244           0.665277           0.407460   \n",
       "1            0.188914           0.343923           0.200442   \n",
       "2            0.396537           0.665279           0.407520   \n",
       "3            0.189196           0.343888           0.200418   \n",
       "4            0.391135           0.738318           0.572318   \n",
       "5            0.166582           0.344494           0.189550   \n",
       "6            0.391049           0.738374           0.572160   \n",
       "7            0.166378           0.344459           0.189636   \n",
       "8            0.409789           0.779799           0.655272   \n",
       "9            0.157114           0.343648           0.185511   \n",
       "10           0.409708           0.779733           0.655243   \n",
       "11           0.156628           0.343715           0.185618   \n",
       "12           0.436044           0.816093           0.721079   \n",
       "13           0.152801           0.343347           0.184850   \n",
       "14           0.435887           0.815946           0.721133   \n",
       "15           0.152825           0.343330           0.184963   \n",
       "\n",
       "    split3_test_score  split4_test_score  mean_test_score  std_test_score  \\\n",
       "0            0.269760           0.250775         0.397903        0.148088   \n",
       "1            0.198261           0.190929         0.224494        0.059871   \n",
       "2            0.269863           0.250886         0.398017        0.148049   \n",
       "3            0.198401           0.191111         0.224603        0.059793   \n",
       "4            0.576403           0.480560         0.551747        0.115502   \n",
       "5            0.219765           0.197288         0.223536        0.062821   \n",
       "6            0.576381           0.480487         0.551690        0.115547   \n",
       "7            0.219836           0.197473         0.223557        0.062820   \n",
       "8            0.666326           0.557437         0.613725        0.123961   \n",
       "9            0.222223           0.197677         0.221235        0.064697   \n",
       "10           0.666151           0.557623         0.613692        0.123936   \n",
       "11           0.222316           0.197668         0.221189        0.064808   \n",
       "12           0.740355           0.628315         0.668377        0.130661   \n",
       "13           0.223898           0.198477         0.220675        0.065486   \n",
       "14           0.740233           0.628278         0.668295        0.130677   \n",
       "15           0.223878           0.198472         0.220694        0.065462   \n",
       "\n",
       "    rank_test_score  \n",
       "0                 8  \n",
       "1                10  \n",
       "2                 7  \n",
       "3                 9  \n",
       "4                 5  \n",
       "5                12  \n",
       "6                 6  \n",
       "7                11  \n",
       "8                 3  \n",
       "9                13  \n",
       "10                4  \n",
       "11               14  \n",
       "12                1  \n",
       "13               16  \n",
       "14                2  \n",
       "15               15  "
      ]
     },
     "execution_count": 17,
     "metadata": {},
     "output_type": "execute_result"
    }
   ],
   "source": [
    "pd.DataFrame(model.cv_results_)"
   ]
  },
  {
   "cell_type": "code",
   "execution_count": 18,
   "metadata": {},
   "outputs": [
    {
     "data": {
      "text/html": [
       "<div>\n",
       "<style scoped>\n",
       "    .dataframe tbody tr th:only-of-type {\n",
       "        vertical-align: middle;\n",
       "    }\n",
       "\n",
       "    .dataframe tbody tr th {\n",
       "        vertical-align: top;\n",
       "    }\n",
       "\n",
       "    .dataframe thead th {\n",
       "        text-align: right;\n",
       "    }\n",
       "</style>\n",
       "<table border=\"1\" class=\"dataframe\">\n",
       "  <thead>\n",
       "    <tr style=\"text-align: right;\">\n",
       "      <th></th>\n",
       "      <th>param_C</th>\n",
       "      <th>param_epsilon</th>\n",
       "      <th>param_kernel</th>\n",
       "      <th>mean_test_score</th>\n",
       "    </tr>\n",
       "  </thead>\n",
       "  <tbody>\n",
       "    <tr>\n",
       "      <td>0</td>\n",
       "      <td>1</td>\n",
       "      <td>0.1</td>\n",
       "      <td>rbf</td>\n",
       "      <td>0.397903</td>\n",
       "    </tr>\n",
       "    <tr>\n",
       "      <td>1</td>\n",
       "      <td>1</td>\n",
       "      <td>0.1</td>\n",
       "      <td>linear</td>\n",
       "      <td>0.224494</td>\n",
       "    </tr>\n",
       "    <tr>\n",
       "      <td>2</td>\n",
       "      <td>1</td>\n",
       "      <td>0.2</td>\n",
       "      <td>rbf</td>\n",
       "      <td>0.398017</td>\n",
       "    </tr>\n",
       "    <tr>\n",
       "      <td>3</td>\n",
       "      <td>1</td>\n",
       "      <td>0.2</td>\n",
       "      <td>linear</td>\n",
       "      <td>0.224603</td>\n",
       "    </tr>\n",
       "    <tr>\n",
       "      <td>4</td>\n",
       "      <td>5</td>\n",
       "      <td>0.1</td>\n",
       "      <td>rbf</td>\n",
       "      <td>0.551747</td>\n",
       "    </tr>\n",
       "    <tr>\n",
       "      <td>5</td>\n",
       "      <td>5</td>\n",
       "      <td>0.1</td>\n",
       "      <td>linear</td>\n",
       "      <td>0.223536</td>\n",
       "    </tr>\n",
       "    <tr>\n",
       "      <td>6</td>\n",
       "      <td>5</td>\n",
       "      <td>0.2</td>\n",
       "      <td>rbf</td>\n",
       "      <td>0.551690</td>\n",
       "    </tr>\n",
       "    <tr>\n",
       "      <td>7</td>\n",
       "      <td>5</td>\n",
       "      <td>0.2</td>\n",
       "      <td>linear</td>\n",
       "      <td>0.223557</td>\n",
       "    </tr>\n",
       "    <tr>\n",
       "      <td>8</td>\n",
       "      <td>10</td>\n",
       "      <td>0.1</td>\n",
       "      <td>rbf</td>\n",
       "      <td>0.613725</td>\n",
       "    </tr>\n",
       "    <tr>\n",
       "      <td>9</td>\n",
       "      <td>10</td>\n",
       "      <td>0.1</td>\n",
       "      <td>linear</td>\n",
       "      <td>0.221235</td>\n",
       "    </tr>\n",
       "    <tr>\n",
       "      <td>10</td>\n",
       "      <td>10</td>\n",
       "      <td>0.2</td>\n",
       "      <td>rbf</td>\n",
       "      <td>0.613692</td>\n",
       "    </tr>\n",
       "    <tr>\n",
       "      <td>11</td>\n",
       "      <td>10</td>\n",
       "      <td>0.2</td>\n",
       "      <td>linear</td>\n",
       "      <td>0.221189</td>\n",
       "    </tr>\n",
       "    <tr>\n",
       "      <td>12</td>\n",
       "      <td>20</td>\n",
       "      <td>0.1</td>\n",
       "      <td>rbf</td>\n",
       "      <td>0.668377</td>\n",
       "    </tr>\n",
       "    <tr>\n",
       "      <td>13</td>\n",
       "      <td>20</td>\n",
       "      <td>0.1</td>\n",
       "      <td>linear</td>\n",
       "      <td>0.220675</td>\n",
       "    </tr>\n",
       "    <tr>\n",
       "      <td>14</td>\n",
       "      <td>20</td>\n",
       "      <td>0.2</td>\n",
       "      <td>rbf</td>\n",
       "      <td>0.668295</td>\n",
       "    </tr>\n",
       "    <tr>\n",
       "      <td>15</td>\n",
       "      <td>20</td>\n",
       "      <td>0.2</td>\n",
       "      <td>linear</td>\n",
       "      <td>0.220694</td>\n",
       "    </tr>\n",
       "  </tbody>\n",
       "</table>\n",
       "</div>"
      ],
      "text/plain": [
       "   param_C param_epsilon param_kernel  mean_test_score\n",
       "0        1           0.1          rbf         0.397903\n",
       "1        1           0.1       linear         0.224494\n",
       "2        1           0.2          rbf         0.398017\n",
       "3        1           0.2       linear         0.224603\n",
       "4        5           0.1          rbf         0.551747\n",
       "5        5           0.1       linear         0.223536\n",
       "6        5           0.2          rbf         0.551690\n",
       "7        5           0.2       linear         0.223557\n",
       "8       10           0.1          rbf         0.613725\n",
       "9       10           0.1       linear         0.221235\n",
       "10      10           0.2          rbf         0.613692\n",
       "11      10           0.2       linear         0.221189\n",
       "12      20           0.1          rbf         0.668377\n",
       "13      20           0.1       linear         0.220675\n",
       "14      20           0.2          rbf         0.668295\n",
       "15      20           0.2       linear         0.220694"
      ]
     },
     "execution_count": 18,
     "metadata": {},
     "output_type": "execute_result"
    }
   ],
   "source": [
    "pd.DataFrame(model.cv_results_)[[\"param_C\", \"param_epsilon\", \"param_kernel\", \"mean_test_score\"]]"
   ]
  },
  {
   "cell_type": "code",
   "execution_count": 25,
   "metadata": {},
   "outputs": [
    {
     "data": {
      "text/plain": [
       "{'C': 20, 'epsilon': 0.1, 'kernel': 'rbf'}"
      ]
     },
     "execution_count": 25,
     "metadata": {},
     "output_type": "execute_result"
    }
   ],
   "source": [
    "model.best_params_"
   ]
  },
  {
   "cell_type": "markdown",
   "metadata": {},
   "source": [
    "As it can be seen that, when value of `epsilon=0.1` and `kernale=\"rbf\"`, the score is higher than the other `epsilon` and `kernel` values\n",
    "\n",
    "The score increases with the `C` value. So it needs to check again for higher `C` values. But I'm not doing it again, my laptops's computation power is not that good. It took almost half an hour to fit the model 😥😥"
   ]
  },
  {
   "cell_type": "code",
   "execution_count": 16,
   "metadata": {},
   "outputs": [],
   "source": [
    "# checking score for random test value\n",
    "X_train, X_test, y_train, y_test = train_test_split(X, y, test_size=0.2)\n",
    "# model.score(X_test, y_test)"
   ]
  },
  {
   "cell_type": "markdown",
   "metadata": {},
   "source": [
    "Now again try with `AdaBoostRegressor`"
   ]
  },
  {
   "cell_type": "code",
   "execution_count": 5,
   "metadata": {},
   "outputs": [],
   "source": [
    "from sklearn.ensemble import AdaBoostRegressor"
   ]
  },
  {
   "cell_type": "code",
   "execution_count": 10,
   "metadata": {},
   "outputs": [],
   "source": [
    "# base_estimator = SVR(kernel=\"rbf\", gamma=\"auto\", C=20)\n",
    "# boost = AdaBoostRegressor(base_estimator)\n",
    "# param_grid = {\n",
    "#     \"n_estimators\": [10, 50, 100],\n",
    "#     \"learning_rate\": [0.01, 0.1, 1.0],\n",
    "# }\n",
    "\n",
    "# boost_model = GridSearchCV(boost, param_grid, cv=5)\n",
    "# boost_model.fit(X, y)"
   ]
  },
  {
   "cell_type": "code",
   "execution_count": 11,
   "metadata": {},
   "outputs": [
    {
     "data": {
      "text/plain": [
       "AdaBoostRegressor(base_estimator=SVR(C=20, gamma='auto'))"
      ]
     },
     "execution_count": 11,
     "metadata": {},
     "output_type": "execute_result"
    }
   ],
   "source": [
    "# base_estimator = SVR(kernel=\"rbf\", gamma=\"auto\", C=20)\n",
    "# boost = AdaBoostRegressor(base_estimator)\n",
    "# boost.fit(X, y)"
   ]
  },
  {
   "cell_type": "code",
   "execution_count": 12,
   "metadata": {},
   "outputs": [
    {
     "data": {
      "text/plain": [
       "['__abstractmethods__',\n",
       " '__annotations__',\n",
       " '__class__',\n",
       " '__delattr__',\n",
       " '__dict__',\n",
       " '__dir__',\n",
       " '__doc__',\n",
       " '__eq__',\n",
       " '__format__',\n",
       " '__ge__',\n",
       " '__getattribute__',\n",
       " '__getitem__',\n",
       " '__getstate__',\n",
       " '__gt__',\n",
       " '__hash__',\n",
       " '__init__',\n",
       " '__init_subclass__',\n",
       " '__iter__',\n",
       " '__le__',\n",
       " '__len__',\n",
       " '__lt__',\n",
       " '__module__',\n",
       " '__ne__',\n",
       " '__new__',\n",
       " '__reduce__',\n",
       " '__reduce_ex__',\n",
       " '__repr__',\n",
       " '__setattr__',\n",
       " '__setstate__',\n",
       " '__sizeof__',\n",
       " '__str__',\n",
       " '__subclasshook__',\n",
       " '__weakref__',\n",
       " '_abc_impl',\n",
       " '_boost',\n",
       " '_check_X',\n",
       " '_check_n_features',\n",
       " '_estimator_type',\n",
       " '_get_median_predict',\n",
       " '_get_param_names',\n",
       " '_get_tags',\n",
       " '_make_estimator',\n",
       " '_more_tags',\n",
       " '_repr_html_',\n",
       " '_repr_html_inner',\n",
       " '_repr_mimebundle_',\n",
       " '_required_parameters',\n",
       " '_validate_data',\n",
       " '_validate_estimator',\n",
       " 'base_estimator',\n",
       " 'base_estimator_',\n",
       " 'estimator_errors_',\n",
       " 'estimator_params',\n",
       " 'estimator_weights_',\n",
       " 'estimators_',\n",
       " 'feature_importances_',\n",
       " 'fit',\n",
       " 'get_params',\n",
       " 'learning_rate',\n",
       " 'loss',\n",
       " 'n_estimators',\n",
       " 'n_features_in_',\n",
       " 'predict',\n",
       " 'random_state',\n",
       " 'score',\n",
       " 'set_params',\n",
       " 'staged_predict',\n",
       " 'staged_score']"
      ]
     },
     "execution_count": 12,
     "metadata": {},
     "output_type": "execute_result"
    }
   ],
   "source": [
    "dir(boost)"
   ]
  },
  {
   "cell_type": "code",
   "execution_count": 17,
   "metadata": {},
   "outputs": [
    {
     "data": {
      "text/plain": [
       "0.8653803670874121"
      ]
     },
     "execution_count": 17,
     "metadata": {},
     "output_type": "execute_result"
    }
   ],
   "source": [
    "boost.score(X_test, y_test)"
   ]
  },
  {
   "cell_type": "markdown",
   "metadata": {},
   "source": [
    "`Adaboost` is very slow, try `xgboost`"
   ]
  },
  {
   "cell_type": "code",
   "execution_count": 9,
   "metadata": {},
   "outputs": [],
   "source": [
    "import xgboost as xgb"
   ]
  },
  {
   "cell_type": "code",
   "execution_count": 10,
   "metadata": {},
   "outputs": [],
   "source": [
    "data_dmatrix = xgb.DMatrix(data=X,label=y)"
   ]
  },
  {
   "cell_type": "code",
   "execution_count": 15,
   "metadata": {},
   "outputs": [],
   "source": [
    "params = {\"objective\":\"reg:squarederror\", \"colsample_bytree\": 0.3, \"learning_rate\": 0.1,\n",
    "          \"max_depth\": 5, \"alpha\": 10}\n",
    "\n",
    "cv_results = xgb.cv(dtrain=data_dmatrix, params=params, shuffle=True, nfold=5,\n",
    "                    num_boost_round=50, early_stopping_rounds=10, metrics=\"rmse\", \n",
    "                    as_pandas=True, seed=123)"
   ]
  },
  {
   "cell_type": "code",
   "execution_count": 16,
   "metadata": {},
   "outputs": [
    {
     "data": {
      "text/html": [
       "<div>\n",
       "<style scoped>\n",
       "    .dataframe tbody tr th:only-of-type {\n",
       "        vertical-align: middle;\n",
       "    }\n",
       "\n",
       "    .dataframe tbody tr th {\n",
       "        vertical-align: top;\n",
       "    }\n",
       "\n",
       "    .dataframe thead th {\n",
       "        text-align: right;\n",
       "    }\n",
       "</style>\n",
       "<table border=\"1\" class=\"dataframe\">\n",
       "  <thead>\n",
       "    <tr style=\"text-align: right;\">\n",
       "      <th></th>\n",
       "      <th>train-rmse-mean</th>\n",
       "      <th>train-rmse-std</th>\n",
       "      <th>test-rmse-mean</th>\n",
       "      <th>test-rmse-std</th>\n",
       "    </tr>\n",
       "  </thead>\n",
       "  <tbody>\n",
       "    <tr>\n",
       "      <td>0</td>\n",
       "      <td>241.405255</td>\n",
       "      <td>0.311603</td>\n",
       "      <td>241.406006</td>\n",
       "      <td>1.250826</td>\n",
       "    </tr>\n",
       "    <tr>\n",
       "      <td>1</td>\n",
       "      <td>225.714816</td>\n",
       "      <td>1.802525</td>\n",
       "      <td>225.824109</td>\n",
       "      <td>2.519715</td>\n",
       "    </tr>\n",
       "    <tr>\n",
       "      <td>2</td>\n",
       "      <td>212.071955</td>\n",
       "      <td>1.810487</td>\n",
       "      <td>212.179978</td>\n",
       "      <td>0.935939</td>\n",
       "    </tr>\n",
       "    <tr>\n",
       "      <td>3</td>\n",
       "      <td>200.532910</td>\n",
       "      <td>2.665994</td>\n",
       "      <td>200.707040</td>\n",
       "      <td>2.540245</td>\n",
       "    </tr>\n",
       "    <tr>\n",
       "      <td>4</td>\n",
       "      <td>190.550272</td>\n",
       "      <td>3.399570</td>\n",
       "      <td>190.765439</td>\n",
       "      <td>2.835343</td>\n",
       "    </tr>\n",
       "  </tbody>\n",
       "</table>\n",
       "</div>"
      ],
      "text/plain": [
       "   train-rmse-mean  train-rmse-std  test-rmse-mean  test-rmse-std\n",
       "0       241.405255        0.311603      241.406006       1.250826\n",
       "1       225.714816        1.802525      225.824109       2.519715\n",
       "2       212.071955        1.810487      212.179978       0.935939\n",
       "3       200.532910        2.665994      200.707040       2.540245\n",
       "4       190.550272        3.399570      190.765439       2.835343"
      ]
     },
     "execution_count": 16,
     "metadata": {},
     "output_type": "execute_result"
    }
   ],
   "source": [
    "cv_results.head()"
   ]
  },
  {
   "cell_type": "code",
   "execution_count": 17,
   "metadata": {},
   "outputs": [
    {
     "data": {
      "text/html": [
       "<div>\n",
       "<style scoped>\n",
       "    .dataframe tbody tr th:only-of-type {\n",
       "        vertical-align: middle;\n",
       "    }\n",
       "\n",
       "    .dataframe tbody tr th {\n",
       "        vertical-align: top;\n",
       "    }\n",
       "\n",
       "    .dataframe thead th {\n",
       "        text-align: right;\n",
       "    }\n",
       "</style>\n",
       "<table border=\"1\" class=\"dataframe\">\n",
       "  <thead>\n",
       "    <tr style=\"text-align: right;\">\n",
       "      <th></th>\n",
       "      <th>train-rmse-mean</th>\n",
       "      <th>train-rmse-std</th>\n",
       "      <th>test-rmse-mean</th>\n",
       "      <th>test-rmse-std</th>\n",
       "    </tr>\n",
       "  </thead>\n",
       "  <tbody>\n",
       "    <tr>\n",
       "      <td>47</td>\n",
       "      <td>85.176939</td>\n",
       "      <td>4.134421</td>\n",
       "      <td>86.941852</td>\n",
       "      <td>4.530965</td>\n",
       "    </tr>\n",
       "    <tr>\n",
       "      <td>48</td>\n",
       "      <td>84.942682</td>\n",
       "      <td>4.119201</td>\n",
       "      <td>86.739004</td>\n",
       "      <td>4.536470</td>\n",
       "    </tr>\n",
       "    <tr>\n",
       "      <td>49</td>\n",
       "      <td>84.742450</td>\n",
       "      <td>4.108313</td>\n",
       "      <td>86.561658</td>\n",
       "      <td>4.561390</td>\n",
       "    </tr>\n",
       "  </tbody>\n",
       "</table>\n",
       "</div>"
      ],
      "text/plain": [
       "    train-rmse-mean  train-rmse-std  test-rmse-mean  test-rmse-std\n",
       "47        85.176939        4.134421       86.941852       4.530965\n",
       "48        84.942682        4.119201       86.739004       4.536470\n",
       "49        84.742450        4.108313       86.561658       4.561390"
      ]
     },
     "execution_count": 17,
     "metadata": {},
     "output_type": "execute_result"
    }
   ],
   "source": [
    "cv_results.tail(3)"
   ]
  },
  {
   "cell_type": "code",
   "execution_count": null,
   "metadata": {},
   "outputs": [],
   "source": []
  }
 ],
 "metadata": {
  "kernelspec": {
   "display_name": "Python 3",
   "language": "python",
   "name": "python3"
  },
  "language_info": {
   "codemirror_mode": {
    "name": "ipython",
    "version": 3
   },
   "file_extension": ".py",
   "mimetype": "text/x-python",
   "name": "python",
   "nbconvert_exporter": "python",
   "pygments_lexer": "ipython3",
   "version": "3.7.4"
  }
 },
 "nbformat": 4,
 "nbformat_minor": 2
}
